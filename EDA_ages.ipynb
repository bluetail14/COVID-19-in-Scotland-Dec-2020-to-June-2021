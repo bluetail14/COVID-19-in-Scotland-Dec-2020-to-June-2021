{
 "cells": [
  {
   "cell_type": "code",
   "execution_count": 2,
   "id": "ae127b8f",
   "metadata": {},
   "outputs": [],
   "source": [
    "import pandas as pd\n",
    "import numpy as np\n",
    "import matplotlib.pyplot as plt"
   ]
  },
  {
   "cell_type": "markdown",
   "id": "c7bd706e",
   "metadata": {},
   "source": [
    "## EDA"
   ]
  },
  {
   "cell_type": "code",
   "execution_count": 2,
   "id": "c6c55019",
   "metadata": {},
   "outputs": [
    {
     "data": {
      "text/html": [
       "<div>\n",
       "<style scoped>\n",
       "    .dataframe tbody tr th:only-of-type {\n",
       "        vertical-align: middle;\n",
       "    }\n",
       "\n",
       "    .dataframe tbody tr th {\n",
       "        vertical-align: top;\n",
       "    }\n",
       "\n",
       "    .dataframe thead th {\n",
       "        text-align: right;\n",
       "    }\n",
       "</style>\n",
       "<table border=\"1\" class=\"dataframe\">\n",
       "  <thead>\n",
       "    <tr style=\"text-align: right;\">\n",
       "      <th></th>\n",
       "      <th>ï»¿_id</th>\n",
       "      <th>Date</th>\n",
       "      <th>Country</th>\n",
       "      <th>Sex</th>\n",
       "      <th>SexQF</th>\n",
       "      <th>AgeGroup</th>\n",
       "      <th>AgeGroupQF</th>\n",
       "      <th>DailyPositive</th>\n",
       "      <th>CumulativePositive</th>\n",
       "      <th>CrudeRatePositive</th>\n",
       "      <th>DailyDeaths</th>\n",
       "      <th>CumulativeDeaths</th>\n",
       "      <th>CrudeRateDeaths</th>\n",
       "      <th>CumulativeNegative</th>\n",
       "      <th>CrudeRateNegative</th>\n",
       "    </tr>\n",
       "  </thead>\n",
       "  <tbody>\n",
       "    <tr>\n",
       "      <th>0</th>\n",
       "      <td>1</td>\n",
       "      <td>20200228</td>\n",
       "      <td>S92000003</td>\n",
       "      <td>Female</td>\n",
       "      <td>NaN</td>\n",
       "      <td>0 to 14</td>\n",
       "      <td>NaN</td>\n",
       "      <td>0</td>\n",
       "      <td>0</td>\n",
       "      <td>0.0</td>\n",
       "      <td>0</td>\n",
       "      <td>0</td>\n",
       "      <td>0.0</td>\n",
       "      <td>7</td>\n",
       "      <td>1.659008</td>\n",
       "    </tr>\n",
       "    <tr>\n",
       "      <th>1</th>\n",
       "      <td>2</td>\n",
       "      <td>20200228</td>\n",
       "      <td>S92000003</td>\n",
       "      <td>Female</td>\n",
       "      <td>NaN</td>\n",
       "      <td>0 to 59</td>\n",
       "      <td>NaN</td>\n",
       "      <td>0</td>\n",
       "      <td>0</td>\n",
       "      <td>0.0</td>\n",
       "      <td>0</td>\n",
       "      <td>0</td>\n",
       "      <td>0.0</td>\n",
       "      <td>53</td>\n",
       "      <td>2.588223</td>\n",
       "    </tr>\n",
       "    <tr>\n",
       "      <th>2</th>\n",
       "      <td>3</td>\n",
       "      <td>20200228</td>\n",
       "      <td>S92000003</td>\n",
       "      <td>Female</td>\n",
       "      <td>NaN</td>\n",
       "      <td>15 to 19</td>\n",
       "      <td>NaN</td>\n",
       "      <td>0</td>\n",
       "      <td>0</td>\n",
       "      <td>0.0</td>\n",
       "      <td>0</td>\n",
       "      <td>0</td>\n",
       "      <td>0.0</td>\n",
       "      <td>2</td>\n",
       "      <td>1.451526</td>\n",
       "    </tr>\n",
       "    <tr>\n",
       "      <th>3</th>\n",
       "      <td>4</td>\n",
       "      <td>20200228</td>\n",
       "      <td>S92000003</td>\n",
       "      <td>Female</td>\n",
       "      <td>NaN</td>\n",
       "      <td>20 to 24</td>\n",
       "      <td>NaN</td>\n",
       "      <td>0</td>\n",
       "      <td>0</td>\n",
       "      <td>0.0</td>\n",
       "      <td>0</td>\n",
       "      <td>0</td>\n",
       "      <td>0.0</td>\n",
       "      <td>9</td>\n",
       "      <td>5.251182</td>\n",
       "    </tr>\n",
       "    <tr>\n",
       "      <th>4</th>\n",
       "      <td>5</td>\n",
       "      <td>20200228</td>\n",
       "      <td>S92000003</td>\n",
       "      <td>Female</td>\n",
       "      <td>NaN</td>\n",
       "      <td>25 to 44</td>\n",
       "      <td>NaN</td>\n",
       "      <td>0</td>\n",
       "      <td>0</td>\n",
       "      <td>0.0</td>\n",
       "      <td>0</td>\n",
       "      <td>0</td>\n",
       "      <td>0.0</td>\n",
       "      <td>20</td>\n",
       "      <td>2.775935</td>\n",
       "    </tr>\n",
       "  </tbody>\n",
       "</table>\n",
       "</div>"
      ],
      "text/plain": [
       "   ï»¿_id      Date    Country     Sex SexQF  AgeGroup AgeGroupQF  \\\n",
       "0       1  20200228  S92000003  Female   NaN   0 to 14        NaN   \n",
       "1       2  20200228  S92000003  Female   NaN   0 to 59        NaN   \n",
       "2       3  20200228  S92000003  Female   NaN  15 to 19        NaN   \n",
       "3       4  20200228  S92000003  Female   NaN  20 to 24        NaN   \n",
       "4       5  20200228  S92000003  Female   NaN  25 to 44        NaN   \n",
       "\n",
       "   DailyPositive  CumulativePositive  CrudeRatePositive  DailyDeaths  \\\n",
       "0              0                   0                0.0            0   \n",
       "1              0                   0                0.0            0   \n",
       "2              0                   0                0.0            0   \n",
       "3              0                   0                0.0            0   \n",
       "4              0                   0                0.0            0   \n",
       "\n",
       "   CumulativeDeaths  CrudeRateDeaths  CumulativeNegative  CrudeRateNegative  \n",
       "0                 0              0.0                   7           1.659008  \n",
       "1                 0              0.0                  53           2.588223  \n",
       "2                 0              0.0                   2           1.451526  \n",
       "3                 0              0.0                   9           5.251182  \n",
       "4                 0              0.0                  20           2.775935  "
      ]
     },
     "execution_count": 2,
     "metadata": {},
     "output_type": "execute_result"
    }
   ],
   "source": [
    "dfa = pd.read_csv('../MyVizProject/data_cases_age.csv',na_values='',encoding = \"ISO-8859-1\")\n",
    "dfa.head()"
   ]
  },
  {
   "cell_type": "code",
   "execution_count": 3,
   "id": "8c69c9d6",
   "metadata": {},
   "outputs": [
    {
     "data": {
      "text/html": [
       "<div>\n",
       "<style scoped>\n",
       "    .dataframe tbody tr th:only-of-type {\n",
       "        vertical-align: middle;\n",
       "    }\n",
       "\n",
       "    .dataframe tbody tr th {\n",
       "        vertical-align: top;\n",
       "    }\n",
       "\n",
       "    .dataframe thead th {\n",
       "        text-align: right;\n",
       "    }\n",
       "</style>\n",
       "<table border=\"1\" class=\"dataframe\">\n",
       "  <thead>\n",
       "    <tr style=\"text-align: right;\">\n",
       "      <th></th>\n",
       "      <th>Date</th>\n",
       "      <th>Sex</th>\n",
       "      <th>AgeGroup</th>\n",
       "      <th>DailyPositive</th>\n",
       "      <th>DailyDeaths</th>\n",
       "    </tr>\n",
       "  </thead>\n",
       "  <tbody>\n",
       "    <tr>\n",
       "      <th>0</th>\n",
       "      <td>2020-02-28</td>\n",
       "      <td>Female</td>\n",
       "      <td>0 to 14</td>\n",
       "      <td>0</td>\n",
       "      <td>0</td>\n",
       "    </tr>\n",
       "    <tr>\n",
       "      <th>1</th>\n",
       "      <td>2020-02-28</td>\n",
       "      <td>Female</td>\n",
       "      <td>0 to 59</td>\n",
       "      <td>0</td>\n",
       "      <td>0</td>\n",
       "    </tr>\n",
       "    <tr>\n",
       "      <th>2</th>\n",
       "      <td>2020-02-28</td>\n",
       "      <td>Female</td>\n",
       "      <td>15 to 19</td>\n",
       "      <td>0</td>\n",
       "      <td>0</td>\n",
       "    </tr>\n",
       "    <tr>\n",
       "      <th>3</th>\n",
       "      <td>2020-02-28</td>\n",
       "      <td>Female</td>\n",
       "      <td>20 to 24</td>\n",
       "      <td>0</td>\n",
       "      <td>0</td>\n",
       "    </tr>\n",
       "    <tr>\n",
       "      <th>4</th>\n",
       "      <td>2020-02-28</td>\n",
       "      <td>Female</td>\n",
       "      <td>25 to 44</td>\n",
       "      <td>0</td>\n",
       "      <td>0</td>\n",
       "    </tr>\n",
       "  </tbody>\n",
       "</table>\n",
       "</div>"
      ],
      "text/plain": [
       "        Date     Sex  AgeGroup  DailyPositive  DailyDeaths\n",
       "0 2020-02-28  Female   0 to 14              0            0\n",
       "1 2020-02-28  Female   0 to 59              0            0\n",
       "2 2020-02-28  Female  15 to 19              0            0\n",
       "3 2020-02-28  Female  20 to 24              0            0\n",
       "4 2020-02-28  Female  25 to 44              0            0"
      ]
     },
     "execution_count": 3,
     "metadata": {},
     "output_type": "execute_result"
    }
   ],
   "source": [
    "dfa = dfa.rename(columns = {'ï»¿_id':'id'})\n",
    "dfa[\"Date\"] = pd.to_datetime(dfa.loc[:, 'Date'], format='%Y%m%d')\n",
    "dfa = dfa[['Date','Sex','AgeGroup','DailyPositive', 'DailyDeaths']]\n",
    "dfa.head()"
   ]
  },
  {
   "cell_type": "code",
   "execution_count": 5,
   "id": "6fa982ab",
   "metadata": {},
   "outputs": [
    {
     "data": {
      "text/html": [
       "<div>\n",
       "<style scoped>\n",
       "    .dataframe tbody tr th:only-of-type {\n",
       "        vertical-align: middle;\n",
       "    }\n",
       "\n",
       "    .dataframe tbody tr th {\n",
       "        vertical-align: top;\n",
       "    }\n",
       "\n",
       "    .dataframe thead th {\n",
       "        text-align: right;\n",
       "    }\n",
       "</style>\n",
       "<table border=\"1\" class=\"dataframe\">\n",
       "  <thead>\n",
       "    <tr style=\"text-align: right;\">\n",
       "      <th></th>\n",
       "      <th>Date</th>\n",
       "      <th>Sex</th>\n",
       "      <th>AgeGroup</th>\n",
       "      <th>DailyPositive</th>\n",
       "      <th>DailyDeaths</th>\n",
       "    </tr>\n",
       "  </thead>\n",
       "  <tbody>\n",
       "    <tr>\n",
       "      <th>0</th>\n",
       "      <td>2020-02-28</td>\n",
       "      <td>Female</td>\n",
       "      <td>0 to 14</td>\n",
       "      <td>0</td>\n",
       "      <td>0</td>\n",
       "    </tr>\n",
       "    <tr>\n",
       "      <th>1</th>\n",
       "      <td>2020-02-28</td>\n",
       "      <td>Female</td>\n",
       "      <td>0 to 59</td>\n",
       "      <td>0</td>\n",
       "      <td>0</td>\n",
       "    </tr>\n",
       "    <tr>\n",
       "      <th>2</th>\n",
       "      <td>2020-02-28</td>\n",
       "      <td>Female</td>\n",
       "      <td>15 to 19</td>\n",
       "      <td>0</td>\n",
       "      <td>0</td>\n",
       "    </tr>\n",
       "    <tr>\n",
       "      <th>3</th>\n",
       "      <td>2020-02-28</td>\n",
       "      <td>Female</td>\n",
       "      <td>20 to 24</td>\n",
       "      <td>0</td>\n",
       "      <td>0</td>\n",
       "    </tr>\n",
       "    <tr>\n",
       "      <th>4</th>\n",
       "      <td>2020-02-28</td>\n",
       "      <td>Female</td>\n",
       "      <td>25 to 44</td>\n",
       "      <td>0</td>\n",
       "      <td>0</td>\n",
       "    </tr>\n",
       "  </tbody>\n",
       "</table>\n",
       "</div>"
      ],
      "text/plain": [
       "        Date     Sex  AgeGroup  DailyPositive  DailyDeaths\n",
       "0 2020-02-28  Female   0 to 14              0            0\n",
       "1 2020-02-28  Female   0 to 59              0            0\n",
       "2 2020-02-28  Female  15 to 19              0            0\n",
       "3 2020-02-28  Female  20 to 24              0            0\n",
       "4 2020-02-28  Female  25 to 44              0            0"
      ]
     },
     "execution_count": 5,
     "metadata": {},
     "output_type": "execute_result"
    }
   ],
   "source": [
    "dfa = dfa.loc[(dfa.Date<='2021-06-30')]\n",
    "dfa.head()"
   ]
  },
  {
   "cell_type": "code",
   "execution_count": 16,
   "id": "aa228569",
   "metadata": {},
   "outputs": [
    {
     "data": {
      "text/html": [
       "<div>\n",
       "<style scoped>\n",
       "    .dataframe tbody tr th:only-of-type {\n",
       "        vertical-align: middle;\n",
       "    }\n",
       "\n",
       "    .dataframe tbody tr th {\n",
       "        vertical-align: top;\n",
       "    }\n",
       "\n",
       "    .dataframe thead th {\n",
       "        text-align: right;\n",
       "    }\n",
       "</style>\n",
       "<table border=\"1\" class=\"dataframe\">\n",
       "  <thead>\n",
       "    <tr style=\"text-align: right;\">\n",
       "      <th></th>\n",
       "      <th></th>\n",
       "      <th>DailyPositive</th>\n",
       "      <th>DailyDeaths</th>\n",
       "    </tr>\n",
       "    <tr>\n",
       "      <th>Date</th>\n",
       "      <th>AgeGroup</th>\n",
       "      <th></th>\n",
       "      <th></th>\n",
       "    </tr>\n",
       "  </thead>\n",
       "  <tbody>\n",
       "    <tr>\n",
       "      <th rowspan=\"5\" valign=\"top\">2020-02-28</th>\n",
       "      <th>0 to 14</th>\n",
       "      <td>0</td>\n",
       "      <td>0</td>\n",
       "    </tr>\n",
       "    <tr>\n",
       "      <th>0 to 59</th>\n",
       "      <td>2</td>\n",
       "      <td>0</td>\n",
       "    </tr>\n",
       "    <tr>\n",
       "      <th>15 to 19</th>\n",
       "      <td>0</td>\n",
       "      <td>0</td>\n",
       "    </tr>\n",
       "    <tr>\n",
       "      <th>20 to 24</th>\n",
       "      <td>0</td>\n",
       "      <td>0</td>\n",
       "    </tr>\n",
       "    <tr>\n",
       "      <th>25 to 44</th>\n",
       "      <td>0</td>\n",
       "      <td>0</td>\n",
       "    </tr>\n",
       "    <tr>\n",
       "      <th>...</th>\n",
       "      <th>...</th>\n",
       "      <td>...</td>\n",
       "      <td>...</td>\n",
       "    </tr>\n",
       "    <tr>\n",
       "      <th rowspan=\"5\" valign=\"top\">2021-07-06</th>\n",
       "      <th>60+</th>\n",
       "      <td>104</td>\n",
       "      <td>0</td>\n",
       "    </tr>\n",
       "    <tr>\n",
       "      <th>65 to 74</th>\n",
       "      <td>36</td>\n",
       "      <td>0</td>\n",
       "    </tr>\n",
       "    <tr>\n",
       "      <th>75 to 84</th>\n",
       "      <td>32</td>\n",
       "      <td>0</td>\n",
       "    </tr>\n",
       "    <tr>\n",
       "      <th>85plus</th>\n",
       "      <td>8</td>\n",
       "      <td>0</td>\n",
       "    </tr>\n",
       "    <tr>\n",
       "      <th>Total</th>\n",
       "      <td>1417</td>\n",
       "      <td>0</td>\n",
       "    </tr>\n",
       "  </tbody>\n",
       "</table>\n",
       "<p>5445 rows × 2 columns</p>\n",
       "</div>"
      ],
      "text/plain": [
       "                     DailyPositive  DailyDeaths\n",
       "Date       AgeGroup                            \n",
       "2020-02-28 0 to 14               0            0\n",
       "           0 to 59               2            0\n",
       "           15 to 19              0            0\n",
       "           20 to 24              0            0\n",
       "           25 to 44              0            0\n",
       "...                            ...          ...\n",
       "2021-07-06 60+                 104            0\n",
       "           65 to 74             36            0\n",
       "           75 to 84             32            0\n",
       "           85plus                8            0\n",
       "           Total              1417            0\n",
       "\n",
       "[5445 rows x 2 columns]"
      ]
     },
     "execution_count": 16,
     "metadata": {},
     "output_type": "execute_result"
    }
   ],
   "source": [
    "#dfg =dfa.groupby(['Date','AgeGroup']).sum()\n",
    "#dfg"
   ]
  },
  {
   "cell_type": "code",
   "execution_count": 50,
   "id": "0e13fbd0",
   "metadata": {},
   "outputs": [
    {
     "data": {
      "text/plain": [
       "array(['0 to 14', '0 to 59', '15 to 19', '20 to 24', '25 to 44',\n",
       "       '45 to 64', '60+', '65 to 74', '75 to 84', '85plus', 'Total'],\n",
       "      dtype=object)"
      ]
     },
     "execution_count": 50,
     "metadata": {},
     "output_type": "execute_result"
    }
   ],
   "source": [
    "dfa.AgeGroup.unique()"
   ]
  },
  {
   "cell_type": "code",
   "execution_count": 13,
   "id": "8345d0e4",
   "metadata": {},
   "outputs": [
    {
     "data": {
      "text/html": [
       "<div>\n",
       "<style scoped>\n",
       "    .dataframe tbody tr th:only-of-type {\n",
       "        vertical-align: middle;\n",
       "    }\n",
       "\n",
       "    .dataframe tbody tr th {\n",
       "        vertical-align: top;\n",
       "    }\n",
       "\n",
       "    .dataframe thead th {\n",
       "        text-align: right;\n",
       "    }\n",
       "</style>\n",
       "<table border=\"1\" class=\"dataframe\">\n",
       "  <thead>\n",
       "    <tr style=\"text-align: right;\">\n",
       "      <th></th>\n",
       "      <th></th>\n",
       "      <th>DailyPositive</th>\n",
       "      <th>DailyDeaths</th>\n",
       "    </tr>\n",
       "    <tr>\n",
       "      <th>Sex</th>\n",
       "      <th>AgeGroup</th>\n",
       "      <th></th>\n",
       "      <th></th>\n",
       "    </tr>\n",
       "  </thead>\n",
       "  <tbody>\n",
       "    <tr>\n",
       "      <th rowspan=\"11\" valign=\"top\">Total</th>\n",
       "      <th>0 to 14</th>\n",
       "      <td>28078</td>\n",
       "      <td>3</td>\n",
       "    </tr>\n",
       "    <tr>\n",
       "      <th>0 to 59</th>\n",
       "      <td>238808</td>\n",
       "      <td>501</td>\n",
       "    </tr>\n",
       "    <tr>\n",
       "      <th>15 to 19</th>\n",
       "      <td>22522</td>\n",
       "      <td>0</td>\n",
       "    </tr>\n",
       "    <tr>\n",
       "      <th>20 to 24</th>\n",
       "      <td>32140</td>\n",
       "      <td>5</td>\n",
       "    </tr>\n",
       "    <tr>\n",
       "      <th>25 to 44</th>\n",
       "      <td>95215</td>\n",
       "      <td>66</td>\n",
       "    </tr>\n",
       "    <tr>\n",
       "      <th>45 to 64</th>\n",
       "      <td>75376</td>\n",
       "      <td>777</td>\n",
       "    </tr>\n",
       "    <tr>\n",
       "      <th>60+</th>\n",
       "      <td>48702</td>\n",
       "      <td>7231</td>\n",
       "    </tr>\n",
       "    <tr>\n",
       "      <th>65 to 74</th>\n",
       "      <td>14254</td>\n",
       "      <td>1347</td>\n",
       "    </tr>\n",
       "    <tr>\n",
       "      <th>75 to 84</th>\n",
       "      <td>11354</td>\n",
       "      <td>2539</td>\n",
       "    </tr>\n",
       "    <tr>\n",
       "      <th>85plus</th>\n",
       "      <td>9184</td>\n",
       "      <td>2995</td>\n",
       "    </tr>\n",
       "    <tr>\n",
       "      <th>Total</th>\n",
       "      <td>288244</td>\n",
       "      <td>7732</td>\n",
       "    </tr>\n",
       "  </tbody>\n",
       "</table>\n",
       "</div>"
      ],
      "text/plain": [
       "                DailyPositive  DailyDeaths\n",
       "Sex   AgeGroup                            \n",
       "Total 0 to 14           28078            3\n",
       "      0 to 59          238808          501\n",
       "      15 to 19          22522            0\n",
       "      20 to 24          32140            5\n",
       "      25 to 44          95215           66\n",
       "      45 to 64          75376          777\n",
       "      60+               48702         7231\n",
       "      65 to 74          14254         1347\n",
       "      75 to 84          11354         2539\n",
       "      85plus             9184         2995\n",
       "      Total            288244         7732"
      ]
     },
     "execution_count": 13,
     "metadata": {},
     "output_type": "execute_result"
    }
   ],
   "source": [
    "age_info= dfa[dfa['Sex']=='Total'].groupby(['Sex', 'AgeGroup']).sum()\n",
    "age_info"
   ]
  },
  {
   "cell_type": "code",
   "execution_count": 14,
   "id": "c5288700",
   "metadata": {},
   "outputs": [
    {
     "data": {
      "text/html": [
       "<div>\n",
       "<style scoped>\n",
       "    .dataframe tbody tr th:only-of-type {\n",
       "        vertical-align: middle;\n",
       "    }\n",
       "\n",
       "    .dataframe tbody tr th {\n",
       "        vertical-align: top;\n",
       "    }\n",
       "\n",
       "    .dataframe thead th {\n",
       "        text-align: right;\n",
       "    }\n",
       "</style>\n",
       "<table border=\"1\" class=\"dataframe\">\n",
       "  <thead>\n",
       "    <tr style=\"text-align: right;\">\n",
       "      <th></th>\n",
       "      <th>DailyPositive</th>\n",
       "      <th>DailyDeaths</th>\n",
       "      <th>Deaths_Percent</th>\n",
       "      <th>Cases_Percent</th>\n",
       "    </tr>\n",
       "    <tr>\n",
       "      <th>AgeGroup</th>\n",
       "      <th></th>\n",
       "      <th></th>\n",
       "      <th></th>\n",
       "      <th></th>\n",
       "    </tr>\n",
       "  </thead>\n",
       "  <tbody>\n",
       "    <tr>\n",
       "      <th>0 to 14</th>\n",
       "      <td>28078</td>\n",
       "      <td>3</td>\n",
       "      <td>0.04</td>\n",
       "      <td>9.74</td>\n",
       "    </tr>\n",
       "    <tr>\n",
       "      <th>0 to 59</th>\n",
       "      <td>238808</td>\n",
       "      <td>501</td>\n",
       "      <td>6.48</td>\n",
       "      <td>82.85</td>\n",
       "    </tr>\n",
       "    <tr>\n",
       "      <th>15 to 19</th>\n",
       "      <td>22522</td>\n",
       "      <td>0</td>\n",
       "      <td>0.00</td>\n",
       "      <td>7.81</td>\n",
       "    </tr>\n",
       "    <tr>\n",
       "      <th>20 to 24</th>\n",
       "      <td>32140</td>\n",
       "      <td>5</td>\n",
       "      <td>0.06</td>\n",
       "      <td>11.15</td>\n",
       "    </tr>\n",
       "    <tr>\n",
       "      <th>25 to 44</th>\n",
       "      <td>95215</td>\n",
       "      <td>66</td>\n",
       "      <td>0.85</td>\n",
       "      <td>33.03</td>\n",
       "    </tr>\n",
       "    <tr>\n",
       "      <th>45 to 64</th>\n",
       "      <td>75376</td>\n",
       "      <td>777</td>\n",
       "      <td>10.05</td>\n",
       "      <td>26.15</td>\n",
       "    </tr>\n",
       "    <tr>\n",
       "      <th>60+</th>\n",
       "      <td>48702</td>\n",
       "      <td>7231</td>\n",
       "      <td>93.52</td>\n",
       "      <td>16.90</td>\n",
       "    </tr>\n",
       "    <tr>\n",
       "      <th>65 to 74</th>\n",
       "      <td>14254</td>\n",
       "      <td>1347</td>\n",
       "      <td>17.42</td>\n",
       "      <td>4.95</td>\n",
       "    </tr>\n",
       "    <tr>\n",
       "      <th>75 to 84</th>\n",
       "      <td>11354</td>\n",
       "      <td>2539</td>\n",
       "      <td>32.84</td>\n",
       "      <td>3.94</td>\n",
       "    </tr>\n",
       "    <tr>\n",
       "      <th>85plus</th>\n",
       "      <td>9184</td>\n",
       "      <td>2995</td>\n",
       "      <td>38.74</td>\n",
       "      <td>3.19</td>\n",
       "    </tr>\n",
       "    <tr>\n",
       "      <th>Total</th>\n",
       "      <td>288244</td>\n",
       "      <td>7732</td>\n",
       "      <td>100.00</td>\n",
       "      <td>100.00</td>\n",
       "    </tr>\n",
       "  </tbody>\n",
       "</table>\n",
       "</div>"
      ],
      "text/plain": [
       "          DailyPositive  DailyDeaths  Deaths_Percent  Cases_Percent\n",
       "AgeGroup                                                           \n",
       "0 to 14           28078            3            0.04           9.74\n",
       "0 to 59          238808          501            6.48          82.85\n",
       "15 to 19          22522            0            0.00           7.81\n",
       "20 to 24          32140            5            0.06          11.15\n",
       "25 to 44          95215           66            0.85          33.03\n",
       "45 to 64          75376          777           10.05          26.15\n",
       "60+               48702         7231           93.52          16.90\n",
       "65 to 74          14254         1347           17.42           4.95\n",
       "75 to 84          11354         2539           32.84           3.94\n",
       "85plus             9184         2995           38.74           3.19\n",
       "Total            288244         7732          100.00         100.00"
      ]
     },
     "execution_count": 14,
     "metadata": {},
     "output_type": "execute_result"
    }
   ],
   "source": [
    "# EDA\n",
    "\n",
    "age_info['Deaths_Percent']  = (age_info['DailyDeaths']/7732*100).round(2)\n",
    "age_info['Cases_Percent']  = (age_info['DailyPositive']/288244*100).round(2)\n",
    "age_info.reset_index(level=0, drop=True,inplace=True)\n",
    "age_info\n",
    "#321068 cases"
   ]
  },
  {
   "cell_type": "code",
   "execution_count": null,
   "id": "b3deeeda",
   "metadata": {},
   "outputs": [],
   "source": [
    "'18 - 29', '30 - 39', '40 - 49', '50 - 54',\n",
    "       '55 - 59', '60 - 64', '65 - 69', '70 - 74', '75 - 79',\n",
    "       '80 years and over'"
   ]
  },
  {
   "cell_type": "code",
   "execution_count": null,
   "id": "f574e042",
   "metadata": {},
   "outputs": [],
   "source": [
    "'0 to 59', '60+', '75+'"
   ]
  },
  {
   "cell_type": "markdown",
   "id": "a484d105",
   "metadata": {},
   "source": [
    "## EDA"
   ]
  },
  {
   "cell_type": "code",
   "execution_count": 15,
   "id": "164218c8",
   "metadata": {},
   "outputs": [
    {
     "data": {
      "text/html": [
       "<div>\n",
       "<style scoped>\n",
       "    .dataframe tbody tr th:only-of-type {\n",
       "        vertical-align: middle;\n",
       "    }\n",
       "\n",
       "    .dataframe tbody tr th {\n",
       "        vertical-align: top;\n",
       "    }\n",
       "\n",
       "    .dataframe thead th {\n",
       "        text-align: right;\n",
       "    }\n",
       "</style>\n",
       "<table border=\"1\" class=\"dataframe\">\n",
       "  <thead>\n",
       "    <tr style=\"text-align: right;\">\n",
       "      <th></th>\n",
       "      <th>AgeGroup</th>\n",
       "      <th>Deaths</th>\n",
       "      <th>Deaths_Percent</th>\n",
       "    </tr>\n",
       "  </thead>\n",
       "  <tbody>\n",
       "    <tr>\n",
       "      <th>0</th>\n",
       "      <td>0-24</td>\n",
       "      <td>8</td>\n",
       "      <td>0.1</td>\n",
       "    </tr>\n",
       "    <tr>\n",
       "      <th>1</th>\n",
       "      <td>25-44</td>\n",
       "      <td>66</td>\n",
       "      <td>0.9</td>\n",
       "    </tr>\n",
       "    <tr>\n",
       "      <th>2</th>\n",
       "      <td>45-64</td>\n",
       "      <td>777</td>\n",
       "      <td>10.0</td>\n",
       "    </tr>\n",
       "    <tr>\n",
       "      <th>3</th>\n",
       "      <td>65-74</td>\n",
       "      <td>1347</td>\n",
       "      <td>17.4</td>\n",
       "    </tr>\n",
       "    <tr>\n",
       "      <th>4</th>\n",
       "      <td>75+</td>\n",
       "      <td>5534</td>\n",
       "      <td>71.6</td>\n",
       "    </tr>\n",
       "  </tbody>\n",
       "</table>\n",
       "</div>"
      ],
      "text/plain": [
       "  AgeGroup  Deaths  Deaths_Percent\n",
       "0     0-24       8             0.1\n",
       "1    25-44      66             0.9\n",
       "2    45-64     777            10.0\n",
       "3    65-74    1347            17.4\n",
       "4      75+    5534            71.6"
      ]
     },
     "execution_count": 15,
     "metadata": {},
     "output_type": "execute_result"
    }
   ],
   "source": [
    "dd_eda = {'AgeGroup': ['0-24','25-44','45-64','65-74','75+'], 'Deaths': [8,66,777,1347,5534], 'Deaths_Percent':[0.1,0.9,10.0,17.4,71.6]}\n",
    "df_eda_d = pd.DataFrame(data=dd_eda)\n",
    "df_eda_d"
   ]
  },
  {
   "cell_type": "code",
   "execution_count": 16,
   "id": "65f5bd07",
   "metadata": {},
   "outputs": [
    {
     "data": {
      "text/html": [
       "<div>\n",
       "<style scoped>\n",
       "    .dataframe tbody tr th:only-of-type {\n",
       "        vertical-align: middle;\n",
       "    }\n",
       "\n",
       "    .dataframe tbody tr th {\n",
       "        vertical-align: top;\n",
       "    }\n",
       "\n",
       "    .dataframe thead th {\n",
       "        text-align: right;\n",
       "    }\n",
       "</style>\n",
       "<table border=\"1\" class=\"dataframe\">\n",
       "  <thead>\n",
       "    <tr style=\"text-align: right;\">\n",
       "      <th></th>\n",
       "      <th>AgeGroup</th>\n",
       "      <th>Cases</th>\n",
       "      <th>Cases_Percent</th>\n",
       "    </tr>\n",
       "  </thead>\n",
       "  <tbody>\n",
       "    <tr>\n",
       "      <th>0</th>\n",
       "      <td>0-24</td>\n",
       "      <td>96240</td>\n",
       "      <td>28.7</td>\n",
       "    </tr>\n",
       "    <tr>\n",
       "      <th>1</th>\n",
       "      <td>25-44</td>\n",
       "      <td>107004</td>\n",
       "      <td>33.0</td>\n",
       "    </tr>\n",
       "    <tr>\n",
       "      <th>2</th>\n",
       "      <td>45-64</td>\n",
       "      <td>81535</td>\n",
       "      <td>26.2</td>\n",
       "    </tr>\n",
       "    <tr>\n",
       "      <th>3</th>\n",
       "      <td>65-74</td>\n",
       "      <td>15086</td>\n",
       "      <td>4.9</td>\n",
       "    </tr>\n",
       "    <tr>\n",
       "      <th>4</th>\n",
       "      <td>75+</td>\n",
       "      <td>21203</td>\n",
       "      <td>7.1</td>\n",
       "    </tr>\n",
       "  </tbody>\n",
       "</table>\n",
       "</div>"
      ],
      "text/plain": [
       "  AgeGroup   Cases  Cases_Percent\n",
       "0     0-24   96240           28.7\n",
       "1    25-44  107004           33.0\n",
       "2    45-64   81535           26.2\n",
       "3    65-74   15086            4.9\n",
       "4      75+   21203            7.1"
      ]
     },
     "execution_count": 16,
     "metadata": {},
     "output_type": "execute_result"
    }
   ],
   "source": [
    "dc_eda = {'AgeGroup': ['0-24','25-44','45-64','65-74','75+'], 'Cases': [96240,107004,81535,15086,21203], 'Cases_Percent':[28.7,33.0,26.2,4.9,7.1]}\n",
    "df_eda_c = pd.DataFrame(data=dc_eda)\n",
    "df_eda_c"
   ]
  },
  {
   "cell_type": "code",
   "execution_count": 17,
   "id": "e41233ce",
   "metadata": {},
   "outputs": [
    {
     "data": {
      "text/plain": [
       "AgeGroup         45-6465-74\n",
       "Cases                 96621\n",
       "Cases_Percent          31.1\n",
       "dtype: object"
      ]
     },
     "execution_count": 17,
     "metadata": {},
     "output_type": "execute_result"
    }
   ],
   "source": [
    "df_eda_c[df_eda_c.AgeGroup.isin(['0-44','45-64','65-74'])].sum()\n"
   ]
  },
  {
   "cell_type": "code",
   "execution_count": 18,
   "id": "4c81863b",
   "metadata": {},
   "outputs": [
    {
     "data": {
      "text/plain": [
       "AgeGroup          45-6465-74\n",
       "Deaths                  2124\n",
       "Deaths_Percent          27.4\n",
       "dtype: object"
      ]
     },
     "execution_count": 18,
     "metadata": {},
     "output_type": "execute_result"
    }
   ],
   "source": [
    "df_eda_d[df_eda_d.AgeGroup.isin(['0-44','45-64','65-74'])].sum()"
   ]
  },
  {
   "cell_type": "code",
   "execution_count": 26,
   "id": "7c3d2f7b",
   "metadata": {},
   "outputs": [
    {
     "data": {
      "text/plain": [
       "0     0-24\n",
       "1    25-44\n",
       "2    45-64\n",
       "3    65-74\n",
       "4      75+\n",
       "Name: AgeGroup, dtype: object"
      ]
     },
     "execution_count": 26,
     "metadata": {},
     "output_type": "execute_result"
    }
   ],
   "source": [
    "df_eda_c.AgeGroup"
   ]
  },
  {
   "cell_type": "code",
   "execution_count": 19,
   "id": "7a2b6222",
   "metadata": {},
   "outputs": [
    {
     "data": {
      "text/plain": [
       "DailyPositive     82740.0\n",
       "DailyDeaths           8.0\n",
       "Deaths_Percent        0.1\n",
       "Cases_Percent        28.7\n",
       "dtype: float64"
      ]
     },
     "execution_count": 19,
     "metadata": {},
     "output_type": "execute_result"
    }
   ],
   "source": [
    "age_info[age_info.index.isin(['0 to 14','15 to 19','20 to 24'])].sum()"
   ]
  },
  {
   "cell_type": "code",
   "execution_count": 20,
   "id": "5a8f7fc7",
   "metadata": {},
   "outputs": [
    {
     "data": {
      "text/plain": [
       "DailyPositive     95215.00\n",
       "DailyDeaths          66.00\n",
       "Deaths_Percent        0.85\n",
       "Cases_Percent        33.03\n",
       "dtype: float64"
      ]
     },
     "execution_count": 20,
     "metadata": {},
     "output_type": "execute_result"
    }
   ],
   "source": [
    "age_info[age_info.index.isin(['25 to 44'])].sum()"
   ]
  },
  {
   "cell_type": "code",
   "execution_count": 21,
   "id": "decd5c64",
   "metadata": {},
   "outputs": [
    {
     "data": {
      "text/plain": [
       "DailyPositive     177955.00\n",
       "DailyDeaths           74.00\n",
       "Deaths_Percent         0.95\n",
       "Cases_Percent         61.73\n",
       "dtype: float64"
      ]
     },
     "execution_count": 21,
     "metadata": {},
     "output_type": "execute_result"
    }
   ],
   "source": [
    "age_info[age_info.index.isin(['0 to 14','15 to 19','20 to 24','25 to 44'])].sum()"
   ]
  },
  {
   "cell_type": "code",
   "execution_count": 22,
   "id": "82280553",
   "metadata": {},
   "outputs": [
    {
     "data": {
      "text/plain": [
       "DailyPositive     20538.00\n",
       "DailyDeaths        5534.00\n",
       "Deaths_Percent       71.58\n",
       "Cases_Percent         7.13\n",
       "dtype: float64"
      ]
     },
     "execution_count": 22,
     "metadata": {},
     "output_type": "execute_result"
    }
   ],
   "source": [
    "age_info[age_info.index.isin(['75 to 84','85plus'])].sum()"
   ]
  },
  {
   "cell_type": "code",
   "execution_count": 23,
   "id": "069f74ca",
   "metadata": {},
   "outputs": [
    {
     "data": {
      "text/plain": [
       "DailyPositive     14254.00\n",
       "DailyDeaths        1347.00\n",
       "Deaths_Percent       17.42\n",
       "Cases_Percent         4.95\n",
       "dtype: float64"
      ]
     },
     "execution_count": 23,
     "metadata": {},
     "output_type": "execute_result"
    }
   ],
   "source": [
    "age_info[age_info.index.isin(['65 to 74'])].sum()"
   ]
  },
  {
   "cell_type": "code",
   "execution_count": 24,
   "id": "596afa6f",
   "metadata": {},
   "outputs": [
    {
     "data": {
      "text/plain": [
       "DailyPositive     75376.00\n",
       "DailyDeaths         777.00\n",
       "Deaths_Percent       10.05\n",
       "Cases_Percent        26.15\n",
       "dtype: float64"
      ]
     },
     "execution_count": 24,
     "metadata": {},
     "output_type": "execute_result"
    }
   ],
   "source": [
    "age_info[age_info.index.isin(['45 to 64'])].sum()"
   ]
  },
  {
   "cell_type": "code",
   "execution_count": 25,
   "id": "0790f237",
   "metadata": {},
   "outputs": [
    {
     "data": {
      "text/html": [
       "<div>\n",
       "<style scoped>\n",
       "    .dataframe tbody tr th:only-of-type {\n",
       "        vertical-align: middle;\n",
       "    }\n",
       "\n",
       "    .dataframe tbody tr th {\n",
       "        vertical-align: top;\n",
       "    }\n",
       "\n",
       "    .dataframe thead th {\n",
       "        text-align: right;\n",
       "    }\n",
       "</style>\n",
       "<table border=\"1\" class=\"dataframe\">\n",
       "  <thead>\n",
       "    <tr style=\"text-align: right;\">\n",
       "      <th></th>\n",
       "      <th>AgeGroup</th>\n",
       "      <th>Deaths</th>\n",
       "      <th>Deaths_Percent</th>\n",
       "    </tr>\n",
       "  </thead>\n",
       "  <tbody>\n",
       "    <tr>\n",
       "      <th>0</th>\n",
       "      <td>0-44</td>\n",
       "      <td>77</td>\n",
       "      <td>1.0</td>\n",
       "    </tr>\n",
       "    <tr>\n",
       "      <th>1</th>\n",
       "      <td>45-64</td>\n",
       "      <td>782</td>\n",
       "      <td>10.0</td>\n",
       "    </tr>\n",
       "    <tr>\n",
       "      <th>2</th>\n",
       "      <td>65-74</td>\n",
       "      <td>1350</td>\n",
       "      <td>17.4</td>\n",
       "    </tr>\n",
       "    <tr>\n",
       "      <th>3</th>\n",
       "      <td>75+</td>\n",
       "      <td>5563</td>\n",
       "      <td>71.6</td>\n",
       "    </tr>\n",
       "  </tbody>\n",
       "</table>\n",
       "</div>"
      ],
      "text/plain": [
       "  AgeGroup  Deaths  Deaths_Percent\n",
       "0     0-44      77             1.0\n",
       "1    45-64     782            10.0\n",
       "2    65-74    1350            17.4\n",
       "3      75+    5563            71.6"
      ]
     },
     "execution_count": 25,
     "metadata": {},
     "output_type": "execute_result"
    }
   ],
   "source": [
    "dd = {'AgeGroup': ['0-44','45-64','65-74','75+'], 'Deaths': [77,782,1350,5563], 'Deaths_Percent':[1.0,10.0,17.4,71.6]}\n",
    "df_eda_d = pd.DataFrame(data=dd)\n",
    "df_eda_d"
   ]
  },
  {
   "cell_type": "code",
   "execution_count": 28,
   "id": "fae1db8b",
   "metadata": {},
   "outputs": [
    {
     "data": {
      "text/html": [
       "<div>\n",
       "<style scoped>\n",
       "    .dataframe tbody tr th:only-of-type {\n",
       "        vertical-align: middle;\n",
       "    }\n",
       "\n",
       "    .dataframe tbody tr th {\n",
       "        vertical-align: top;\n",
       "    }\n",
       "\n",
       "    .dataframe thead th {\n",
       "        text-align: right;\n",
       "    }\n",
       "</style>\n",
       "<table border=\"1\" class=\"dataframe\">\n",
       "  <thead>\n",
       "    <tr style=\"text-align: right;\">\n",
       "      <th></th>\n",
       "      <th>AgeGroup</th>\n",
       "      <th>Cases</th>\n",
       "      <th>Cases_Percent</th>\n",
       "    </tr>\n",
       "  </thead>\n",
       "  <tbody>\n",
       "    <tr>\n",
       "      <th>0</th>\n",
       "      <td>0-44</td>\n",
       "      <td>203244</td>\n",
       "      <td>61.7</td>\n",
       "    </tr>\n",
       "    <tr>\n",
       "      <th>1</th>\n",
       "      <td>45-64</td>\n",
       "      <td>81535</td>\n",
       "      <td>26.2</td>\n",
       "    </tr>\n",
       "    <tr>\n",
       "      <th>2</th>\n",
       "      <td>65-74</td>\n",
       "      <td>15086</td>\n",
       "      <td>5.0</td>\n",
       "    </tr>\n",
       "    <tr>\n",
       "      <th>3</th>\n",
       "      <td>75+</td>\n",
       "      <td>21203</td>\n",
       "      <td>7.1</td>\n",
       "    </tr>\n",
       "  </tbody>\n",
       "</table>\n",
       "</div>"
      ],
      "text/plain": [
       "  AgeGroup   Cases  Cases_Percent\n",
       "0     0-44  203244           61.7\n",
       "1    45-64   81535           26.2\n",
       "2    65-74   15086            5.0\n",
       "3      75+   21203            7.1"
      ]
     },
     "execution_count": 28,
     "metadata": {},
     "output_type": "execute_result"
    }
   ],
   "source": [
    "dc = {'AgeGroup': ['0-44','45-64','65-74','75+'], 'Cases': [ 203244,81535,15086,21203], 'Cases_Percent':[61.7,26.2,5.0,7.1]}\n",
    "df_eda_c = pd.DataFrame(data=dc)\n",
    "df_eda_c"
   ]
  },
  {
   "cell_type": "code",
   "execution_count": 29,
   "id": "208a97e5",
   "metadata": {},
   "outputs": [
    {
     "data": {
      "text/html": [
       "<div>\n",
       "<style scoped>\n",
       "    .dataframe tbody tr th:only-of-type {\n",
       "        vertical-align: middle;\n",
       "    }\n",
       "\n",
       "    .dataframe tbody tr th {\n",
       "        vertical-align: top;\n",
       "    }\n",
       "\n",
       "    .dataframe thead th {\n",
       "        text-align: right;\n",
       "    }\n",
       "</style>\n",
       "<table border=\"1\" class=\"dataframe\">\n",
       "  <thead>\n",
       "    <tr style=\"text-align: right;\">\n",
       "      <th></th>\n",
       "      <th>AgeGroup</th>\n",
       "      <th>Cases_Percent</th>\n",
       "      <th>Deaths_Percent</th>\n",
       "    </tr>\n",
       "  </thead>\n",
       "  <tbody>\n",
       "    <tr>\n",
       "      <th>0</th>\n",
       "      <td>0-44</td>\n",
       "      <td>61.7</td>\n",
       "      <td>1.0</td>\n",
       "    </tr>\n",
       "    <tr>\n",
       "      <th>1</th>\n",
       "      <td>45-64</td>\n",
       "      <td>26.2</td>\n",
       "      <td>10.0</td>\n",
       "    </tr>\n",
       "    <tr>\n",
       "      <th>2</th>\n",
       "      <td>65-74</td>\n",
       "      <td>5.0</td>\n",
       "      <td>17.4</td>\n",
       "    </tr>\n",
       "    <tr>\n",
       "      <th>3</th>\n",
       "      <td>75+</td>\n",
       "      <td>7.1</td>\n",
       "      <td>71.6</td>\n",
       "    </tr>\n",
       "  </tbody>\n",
       "</table>\n",
       "</div>"
      ],
      "text/plain": [
       "  AgeGroup  Cases_Percent  Deaths_Percent\n",
       "0     0-44           61.7             1.0\n",
       "1    45-64           26.2            10.0\n",
       "2    65-74            5.0            17.4\n",
       "3      75+            7.1            71.6"
      ]
     },
     "execution_count": 29,
     "metadata": {},
     "output_type": "execute_result"
    }
   ],
   "source": [
    "df_dc= df_eda_c.merge(df_eda_d, how=\"inner\", on=[\"AgeGroup\"])\n",
    "df_dc = df_dc[['AgeGroup','Cases_Percent','Deaths_Percent']]\n",
    "df_dc"
   ]
  },
  {
   "cell_type": "code",
   "execution_count": 36,
   "id": "d18ab9f6",
   "metadata": {},
   "outputs": [
    {
     "data": {
      "text/html": [
       "<div>\n",
       "<style scoped>\n",
       "    .dataframe tbody tr th:only-of-type {\n",
       "        vertical-align: middle;\n",
       "    }\n",
       "\n",
       "    .dataframe tbody tr th {\n",
       "        vertical-align: top;\n",
       "    }\n",
       "\n",
       "    .dataframe thead th {\n",
       "        text-align: right;\n",
       "    }\n",
       "</style>\n",
       "<table border=\"1\" class=\"dataframe\">\n",
       "  <thead>\n",
       "    <tr style=\"text-align: right;\">\n",
       "      <th></th>\n",
       "      <th>AgeGroup</th>\n",
       "      <th>Deaths</th>\n",
       "      <th>Deaths_Percent</th>\n",
       "    </tr>\n",
       "  </thead>\n",
       "  <tbody>\n",
       "    <tr>\n",
       "      <th>0</th>\n",
       "      <td>0-59</td>\n",
       "      <td>504</td>\n",
       "      <td>6.5</td>\n",
       "    </tr>\n",
       "    <tr>\n",
       "      <th>1</th>\n",
       "      <td>60+</td>\n",
       "      <td>7236</td>\n",
       "      <td>93.5</td>\n",
       "    </tr>\n",
       "    <tr>\n",
       "      <th>2</th>\n",
       "      <td>0-74</td>\n",
       "      <td>2201</td>\n",
       "      <td>28.4</td>\n",
       "    </tr>\n",
       "    <tr>\n",
       "      <th>3</th>\n",
       "      <td>75+</td>\n",
       "      <td>5539</td>\n",
       "      <td>71.6</td>\n",
       "    </tr>\n",
       "  </tbody>\n",
       "</table>\n",
       "</div>"
      ],
      "text/plain": [
       "  AgeGroup  Deaths  Deaths_Percent\n",
       "0     0-59     504             6.5\n",
       "1      60+    7236            93.5\n",
       "2     0-74    2201            28.4\n",
       "3      75+    5539            71.6"
      ]
     },
     "execution_count": 36,
     "metadata": {},
     "output_type": "execute_result"
    }
   ],
   "source": [
    "dd = {'AgeGroup': ['0-59','60+','0-74','75+'], 'Deaths': [504,7236,2201,5539], 'Deaths_Percent':[6.5,93.5,28.4,71.6]}\n",
    "df_eda_d1 = pd.DataFrame(data=dd)\n",
    "df_eda_d1"
   ]
  },
  {
   "cell_type": "code",
   "execution_count": 37,
   "id": "2c2d0335",
   "metadata": {},
   "outputs": [
    {
     "data": {
      "text/html": [
       "<div>\n",
       "<style scoped>\n",
       "    .dataframe tbody tr th:only-of-type {\n",
       "        vertical-align: middle;\n",
       "    }\n",
       "\n",
       "    .dataframe tbody tr th {\n",
       "        vertical-align: top;\n",
       "    }\n",
       "\n",
       "    .dataframe thead th {\n",
       "        text-align: right;\n",
       "    }\n",
       "</style>\n",
       "<table border=\"1\" class=\"dataframe\">\n",
       "  <thead>\n",
       "    <tr style=\"text-align: right;\">\n",
       "      <th></th>\n",
       "      <th>AgeGroup</th>\n",
       "      <th>Cases</th>\n",
       "      <th>Cases_Percent</th>\n",
       "    </tr>\n",
       "  </thead>\n",
       "  <tbody>\n",
       "    <tr>\n",
       "      <th>0</th>\n",
       "      <td>0-59</td>\n",
       "      <td>253073</td>\n",
       "      <td>83.6</td>\n",
       "    </tr>\n",
       "    <tr>\n",
       "      <th>1</th>\n",
       "      <td>60+</td>\n",
       "      <td>49755</td>\n",
       "      <td>16.4</td>\n",
       "    </tr>\n",
       "    <tr>\n",
       "      <th>2</th>\n",
       "      <td>0-74</td>\n",
       "      <td>282726</td>\n",
       "      <td>93.2</td>\n",
       "    </tr>\n",
       "    <tr>\n",
       "      <th>3</th>\n",
       "      <td>75+</td>\n",
       "      <td>20793</td>\n",
       "      <td>6.8</td>\n",
       "    </tr>\n",
       "  </tbody>\n",
       "</table>\n",
       "</div>"
      ],
      "text/plain": [
       "  AgeGroup   Cases  Cases_Percent\n",
       "0     0-59  253073           83.6\n",
       "1      60+   49755           16.4\n",
       "2     0-74  282726           93.2\n",
       "3      75+   20793            6.8"
      ]
     },
     "execution_count": 37,
     "metadata": {},
     "output_type": "execute_result"
    }
   ],
   "source": [
    "dc = {'AgeGroup': ['0-59','60+','0-74','75+'], 'Cases': [253073,49755,282726,20793], 'Cases_Percent':[83.6,16.4,93.2,6.8]}\n",
    "df_eda_c1 = pd.DataFrame(data=dc)\n",
    "df_eda_c1\n",
    "\n",
    "#"
   ]
  },
  {
   "cell_type": "code",
   "execution_count": 38,
   "id": "f3292119",
   "metadata": {},
   "outputs": [
    {
     "data": {
      "text/html": [
       "<div>\n",
       "<style scoped>\n",
       "    .dataframe tbody tr th:only-of-type {\n",
       "        vertical-align: middle;\n",
       "    }\n",
       "\n",
       "    .dataframe tbody tr th {\n",
       "        vertical-align: top;\n",
       "    }\n",
       "\n",
       "    .dataframe thead th {\n",
       "        text-align: right;\n",
       "    }\n",
       "</style>\n",
       "<table border=\"1\" class=\"dataframe\">\n",
       "  <thead>\n",
       "    <tr style=\"text-align: right;\">\n",
       "      <th></th>\n",
       "      <th>AgeGroup</th>\n",
       "      <th>Cases</th>\n",
       "      <th>Cases_Percent</th>\n",
       "      <th>Deaths</th>\n",
       "      <th>Deaths_Percent</th>\n",
       "    </tr>\n",
       "  </thead>\n",
       "  <tbody>\n",
       "    <tr>\n",
       "      <th>0</th>\n",
       "      <td>0-59</td>\n",
       "      <td>253073</td>\n",
       "      <td>83.6</td>\n",
       "      <td>504</td>\n",
       "      <td>6.5</td>\n",
       "    </tr>\n",
       "    <tr>\n",
       "      <th>1</th>\n",
       "      <td>60+</td>\n",
       "      <td>49755</td>\n",
       "      <td>16.4</td>\n",
       "      <td>7236</td>\n",
       "      <td>93.5</td>\n",
       "    </tr>\n",
       "    <tr>\n",
       "      <th>2</th>\n",
       "      <td>0-74</td>\n",
       "      <td>282726</td>\n",
       "      <td>93.2</td>\n",
       "      <td>2201</td>\n",
       "      <td>28.4</td>\n",
       "    </tr>\n",
       "    <tr>\n",
       "      <th>3</th>\n",
       "      <td>75+</td>\n",
       "      <td>20793</td>\n",
       "      <td>6.8</td>\n",
       "      <td>5539</td>\n",
       "      <td>71.6</td>\n",
       "    </tr>\n",
       "  </tbody>\n",
       "</table>\n",
       "</div>"
      ],
      "text/plain": [
       "  AgeGroup   Cases  Cases_Percent  Deaths  Deaths_Percent\n",
       "0     0-59  253073           83.6     504             6.5\n",
       "1      60+   49755           16.4    7236            93.5\n",
       "2     0-74  282726           93.2    2201            28.4\n",
       "3      75+   20793            6.8    5539            71.6"
      ]
     },
     "execution_count": 38,
     "metadata": {},
     "output_type": "execute_result"
    }
   ],
   "source": [
    "df_dc1= df_eda_c1.merge(df_eda_d1, how=\"inner\", on=[\"AgeGroup\"])\n",
    "#df_dc1 = df_dc1[['AgeGroup','Cases_Percent','Deaths_Percent']]\n",
    "df_dc1"
   ]
  },
  {
   "cell_type": "code",
   "execution_count": 60,
   "id": "4cb82241",
   "metadata": {},
   "outputs": [
    {
     "data": {
      "text/html": [
       "<div>\n",
       "<style scoped>\n",
       "    .dataframe tbody tr th:only-of-type {\n",
       "        vertical-align: middle;\n",
       "    }\n",
       "\n",
       "    .dataframe tbody tr th {\n",
       "        vertical-align: top;\n",
       "    }\n",
       "\n",
       "    .dataframe thead th {\n",
       "        text-align: right;\n",
       "    }\n",
       "</style>\n",
       "<table border=\"1\" class=\"dataframe\">\n",
       "  <thead>\n",
       "    <tr style=\"text-align: right;\">\n",
       "      <th></th>\n",
       "      <th>AgeGroup</th>\n",
       "      <th>NumberAdmitted</th>\n",
       "      <th>Admissions_Percent</th>\n",
       "    </tr>\n",
       "  </thead>\n",
       "  <tbody>\n",
       "    <tr>\n",
       "      <th>0</th>\n",
       "      <td>0-74</td>\n",
       "      <td>16373</td>\n",
       "      <td>61.7</td>\n",
       "    </tr>\n",
       "    <tr>\n",
       "      <th>1</th>\n",
       "      <td>75+</td>\n",
       "      <td>10160</td>\n",
       "      <td>38.3</td>\n",
       "    </tr>\n",
       "  </tbody>\n",
       "</table>\n",
       "</div>"
      ],
      "text/plain": [
       "  AgeGroup  NumberAdmitted  Admissions_Percent\n",
       "0     0-74           16373                61.7\n",
       "1      75+           10160                38.3"
      ]
     },
     "execution_count": 60,
     "metadata": {},
     "output_type": "execute_result"
    }
   ],
   "source": [
    "df_eda_h1"
   ]
  },
  {
   "cell_type": "code",
   "execution_count": 61,
   "id": "577bc2f0",
   "metadata": {},
   "outputs": [
    {
     "data": {
      "text/html": [
       "<div>\n",
       "<style scoped>\n",
       "    .dataframe tbody tr th:only-of-type {\n",
       "        vertical-align: middle;\n",
       "    }\n",
       "\n",
       "    .dataframe tbody tr th {\n",
       "        vertical-align: top;\n",
       "    }\n",
       "\n",
       "    .dataframe thead th {\n",
       "        text-align: right;\n",
       "    }\n",
       "</style>\n",
       "<table border=\"1\" class=\"dataframe\">\n",
       "  <thead>\n",
       "    <tr style=\"text-align: right;\">\n",
       "      <th></th>\n",
       "      <th>AgeGroup</th>\n",
       "      <th>Cases_Percent</th>\n",
       "      <th>Deaths_Percent</th>\n",
       "      <th>Admissions_Percent</th>\n",
       "    </tr>\n",
       "  </thead>\n",
       "  <tbody>\n",
       "    <tr>\n",
       "      <th>0</th>\n",
       "      <td>0-59</td>\n",
       "      <td>83.6</td>\n",
       "      <td>6.5</td>\n",
       "      <td>NaN</td>\n",
       "    </tr>\n",
       "    <tr>\n",
       "      <th>1</th>\n",
       "      <td>60+</td>\n",
       "      <td>16.4</td>\n",
       "      <td>93.5</td>\n",
       "      <td>NaN</td>\n",
       "    </tr>\n",
       "    <tr>\n",
       "      <th>2</th>\n",
       "      <td>0-74</td>\n",
       "      <td>93.2</td>\n",
       "      <td>28.4</td>\n",
       "      <td>61.7</td>\n",
       "    </tr>\n",
       "    <tr>\n",
       "      <th>3</th>\n",
       "      <td>75+</td>\n",
       "      <td>6.8</td>\n",
       "      <td>71.6</td>\n",
       "      <td>38.3</td>\n",
       "    </tr>\n",
       "  </tbody>\n",
       "</table>\n",
       "</div>"
      ],
      "text/plain": [
       "  AgeGroup  Cases_Percent  Deaths_Percent  Admissions_Percent\n",
       "0     0-59           83.6             6.5                 NaN\n",
       "1      60+           16.4            93.5                 NaN\n",
       "2     0-74           93.2            28.4                61.7\n",
       "3      75+            6.8            71.6                38.3"
      ]
     },
     "execution_count": 61,
     "metadata": {},
     "output_type": "execute_result"
    }
   ],
   "source": [
    "df_dch = df_dc1.merge(df_eda_h1, how=\"left\", on=[\"AgeGroup\"])\n",
    "df_dch = df_dch[['AgeGroup','Cases_Percent','Deaths_Percent', 'Admissions_Percent']]\n",
    "df_dch"
   ]
  },
  {
   "cell_type": "code",
   "execution_count": 62,
   "id": "ea649aec",
   "metadata": {},
   "outputs": [
    {
     "data": {
      "text/html": [
       "<div>\n",
       "<style scoped>\n",
       "    .dataframe tbody tr th:only-of-type {\n",
       "        vertical-align: middle;\n",
       "    }\n",
       "\n",
       "    .dataframe tbody tr th {\n",
       "        vertical-align: top;\n",
       "    }\n",
       "\n",
       "    .dataframe thead th {\n",
       "        text-align: right;\n",
       "    }\n",
       "</style>\n",
       "<table border=\"1\" class=\"dataframe\">\n",
       "  <thead>\n",
       "    <tr style=\"text-align: right;\">\n",
       "      <th></th>\n",
       "      <th>AgeGroup</th>\n",
       "      <th>Cases</th>\n",
       "      <th>Cases_Percent</th>\n",
       "      <th>Deaths</th>\n",
       "      <th>Deaths_Percent</th>\n",
       "    </tr>\n",
       "  </thead>\n",
       "  <tbody>\n",
       "    <tr>\n",
       "      <th>0</th>\n",
       "      <td>0-59</td>\n",
       "      <td>253073</td>\n",
       "      <td>83.6</td>\n",
       "      <td>504</td>\n",
       "      <td>6.5</td>\n",
       "    </tr>\n",
       "    <tr>\n",
       "      <th>1</th>\n",
       "      <td>60+</td>\n",
       "      <td>49755</td>\n",
       "      <td>16.4</td>\n",
       "      <td>7236</td>\n",
       "      <td>93.5</td>\n",
       "    </tr>\n",
       "    <tr>\n",
       "      <th>2</th>\n",
       "      <td>0-74</td>\n",
       "      <td>282726</td>\n",
       "      <td>93.2</td>\n",
       "      <td>2201</td>\n",
       "      <td>28.4</td>\n",
       "    </tr>\n",
       "    <tr>\n",
       "      <th>3</th>\n",
       "      <td>75+</td>\n",
       "      <td>20793</td>\n",
       "      <td>6.8</td>\n",
       "      <td>5539</td>\n",
       "      <td>71.6</td>\n",
       "    </tr>\n",
       "  </tbody>\n",
       "</table>\n",
       "</div>"
      ],
      "text/plain": [
       "  AgeGroup   Cases  Cases_Percent  Deaths  Deaths_Percent\n",
       "0     0-59  253073           83.6     504             6.5\n",
       "1      60+   49755           16.4    7236            93.5\n",
       "2     0-74  282726           93.2    2201            28.4\n",
       "3      75+   20793            6.8    5539            71.6"
      ]
     },
     "execution_count": 62,
     "metadata": {},
     "output_type": "execute_result"
    }
   ],
   "source": [
    "df_dch.to_csv('output_eda_ages_deathscases.csv', index=False)\n",
    "df_dc1"
   ]
  },
  {
   "cell_type": "markdown",
   "id": "b2f7242b",
   "metadata": {},
   "source": [
    "## Hospital admissions eda"
   ]
  },
  {
   "cell_type": "code",
   "execution_count": 39,
   "id": "815e7c58",
   "metadata": {},
   "outputs": [
    {
     "data": {
      "text/html": [
       "<div>\n",
       "<style scoped>\n",
       "    .dataframe tbody tr th:only-of-type {\n",
       "        vertical-align: middle;\n",
       "    }\n",
       "\n",
       "    .dataframe tbody tr th {\n",
       "        vertical-align: top;\n",
       "    }\n",
       "\n",
       "    .dataframe thead th {\n",
       "        text-align: right;\n",
       "    }\n",
       "</style>\n",
       "<table border=\"1\" class=\"dataframe\">\n",
       "  <thead>\n",
       "    <tr style=\"text-align: right;\">\n",
       "      <th></th>\n",
       "      <th>Sex</th>\n",
       "      <th>AgeGroup</th>\n",
       "      <th>NumberAdmitted</th>\n",
       "    </tr>\n",
       "    <tr>\n",
       "      <th>id</th>\n",
       "      <th></th>\n",
       "      <th></th>\n",
       "      <th></th>\n",
       "    </tr>\n",
       "  </thead>\n",
       "  <tbody>\n",
       "    <tr>\n",
       "      <th>1</th>\n",
       "      <td>Male</td>\n",
       "      <td>0-4</td>\n",
       "      <td>172</td>\n",
       "    </tr>\n",
       "    <tr>\n",
       "      <th>2</th>\n",
       "      <td>Male</td>\n",
       "      <td>5-14</td>\n",
       "      <td>105</td>\n",
       "    </tr>\n",
       "    <tr>\n",
       "      <th>3</th>\n",
       "      <td>Male</td>\n",
       "      <td>15-19</td>\n",
       "      <td>75</td>\n",
       "    </tr>\n",
       "    <tr>\n",
       "      <th>4</th>\n",
       "      <td>Male</td>\n",
       "      <td>20-24</td>\n",
       "      <td>143</td>\n",
       "    </tr>\n",
       "    <tr>\n",
       "      <th>5</th>\n",
       "      <td>Male</td>\n",
       "      <td>25-44</td>\n",
       "      <td>1439</td>\n",
       "    </tr>\n",
       "  </tbody>\n",
       "</table>\n",
       "</div>"
      ],
      "text/plain": [
       "     Sex AgeGroup  NumberAdmitted\n",
       "id                               \n",
       "1   Male      0-4             172\n",
       "2   Male     5-14             105\n",
       "3   Male    15-19              75\n",
       "4   Male    20-24             143\n",
       "5   Male    25-44            1439"
      ]
     },
     "execution_count": 39,
     "metadata": {},
     "output_type": "execute_result"
    }
   ],
   "source": [
    "dfcum = pd.read_csv('../MyVizProject/Cum_hospital_admissions_age.csv', na_values='', index_col ='ï»¿_id',parse_dates=True, encoding = \"ISO-8859-1\")\n",
    "dfcum.index.names = ['id']\n",
    "\n",
    "dfcum = dfcum[['Sex','AgeGroup','NumberAdmitted']]\n",
    "dfcum.head()"
   ]
  },
  {
   "cell_type": "code",
   "execution_count": 54,
   "id": "3f6046af",
   "metadata": {},
   "outputs": [
    {
     "data": {
      "text/html": [
       "<div>\n",
       "<style scoped>\n",
       "    .dataframe tbody tr th:only-of-type {\n",
       "        vertical-align: middle;\n",
       "    }\n",
       "\n",
       "    .dataframe tbody tr th {\n",
       "        vertical-align: top;\n",
       "    }\n",
       "\n",
       "    .dataframe thead th {\n",
       "        text-align: right;\n",
       "    }\n",
       "</style>\n",
       "<table border=\"1\" class=\"dataframe\">\n",
       "  <thead>\n",
       "    <tr style=\"text-align: right;\">\n",
       "      <th></th>\n",
       "      <th>NumberAdmitted</th>\n",
       "      <th>Admissions_Percent</th>\n",
       "    </tr>\n",
       "    <tr>\n",
       "      <th>AgeGroup</th>\n",
       "      <th></th>\n",
       "      <th></th>\n",
       "    </tr>\n",
       "  </thead>\n",
       "  <tbody>\n",
       "    <tr>\n",
       "      <th>0-4</th>\n",
       "      <td>322</td>\n",
       "      <td>1.21</td>\n",
       "    </tr>\n",
       "    <tr>\n",
       "      <th>15-19</th>\n",
       "      <td>183</td>\n",
       "      <td>0.69</td>\n",
       "    </tr>\n",
       "    <tr>\n",
       "      <th>20-24</th>\n",
       "      <td>340</td>\n",
       "      <td>1.28</td>\n",
       "    </tr>\n",
       "    <tr>\n",
       "      <th>25-44</th>\n",
       "      <td>2918</td>\n",
       "      <td>11.00</td>\n",
       "    </tr>\n",
       "    <tr>\n",
       "      <th>45-64</th>\n",
       "      <td>7474</td>\n",
       "      <td>28.17</td>\n",
       "    </tr>\n",
       "    <tr>\n",
       "      <th>5-14</th>\n",
       "      <td>199</td>\n",
       "      <td>0.75</td>\n",
       "    </tr>\n",
       "    <tr>\n",
       "      <th>65-74</th>\n",
       "      <td>4937</td>\n",
       "      <td>18.61</td>\n",
       "    </tr>\n",
       "    <tr>\n",
       "      <th>75-84</th>\n",
       "      <td>5852</td>\n",
       "      <td>22.06</td>\n",
       "    </tr>\n",
       "    <tr>\n",
       "      <th>85plus</th>\n",
       "      <td>4308</td>\n",
       "      <td>16.24</td>\n",
       "    </tr>\n",
       "    <tr>\n",
       "      <th>All Ages</th>\n",
       "      <td>26533</td>\n",
       "      <td>100.00</td>\n",
       "    </tr>\n",
       "  </tbody>\n",
       "</table>\n",
       "</div>"
      ],
      "text/plain": [
       "          NumberAdmitted  Admissions_Percent\n",
       "AgeGroup                                    \n",
       "0-4                  322                1.21\n",
       "15-19                183                0.69\n",
       "20-24                340                1.28\n",
       "25-44               2918               11.00\n",
       "45-64               7474               28.17\n",
       "5-14                 199                0.75\n",
       "65-74               4937               18.61\n",
       "75-84               5852               22.06\n",
       "85plus              4308               16.24\n",
       "All Ages           26533              100.00"
      ]
     },
     "execution_count": 54,
     "metadata": {},
     "output_type": "execute_result"
    }
   ],
   "source": [
    "dfcumall= dfcum[dfcum['Sex']=='All'].groupby(['Sex', 'AgeGroup']).sum()\n",
    "dfcumall.reset_index(inplace=True)\n",
    "dfcumall.drop('Sex', axis=1, inplace=True)\n",
    "dfcumall['Admissions_Percent']  = (dfcumall['NumberAdmitted']/26533*100).round(2)\n",
    "dfcumall.set_index('AgeGroup',inplace=True)\n",
    "dfcumall"
   ]
  },
  {
   "cell_type": "code",
   "execution_count": 33,
   "id": "43a06243",
   "metadata": {},
   "outputs": [
    {
     "data": {
      "text/plain": [
       "AgeGroup              0-415-1920-245-14\n",
       "NumberAdmitted                     1044\n",
       "Admissions_Percent                 3.93\n",
       "dtype: object"
      ]
     },
     "execution_count": 33,
     "metadata": {},
     "output_type": "execute_result"
    }
   ],
   "source": [
    "dfcumall[dfcumall['AgeGroup'].isin(['0-4', '5-14','15-19','20-24'])].sum()"
   ]
  },
  {
   "cell_type": "code",
   "execution_count": 34,
   "id": "2be42fd1",
   "metadata": {},
   "outputs": [
    {
     "data": {
      "text/plain": [
       "AgeGroup              25-44\n",
       "NumberAdmitted         2918\n",
       "Admissions_Percent       11\n",
       "dtype: object"
      ]
     },
     "execution_count": 34,
     "metadata": {},
     "output_type": "execute_result"
    }
   ],
   "source": [
    "dfcumall[dfcumall['AgeGroup'].isin(['25-44'])].sum()"
   ]
  },
  {
   "cell_type": "code",
   "execution_count": 35,
   "id": "c6e837f8",
   "metadata": {},
   "outputs": [
    {
     "data": {
      "text/plain": [
       "AgeGroup              45-64\n",
       "NumberAdmitted         7474\n",
       "Admissions_Percent    28.17\n",
       "dtype: object"
      ]
     },
     "execution_count": 35,
     "metadata": {},
     "output_type": "execute_result"
    }
   ],
   "source": [
    "dfcumall[dfcumall['AgeGroup'].isin(['45-64'])].sum()"
   ]
  },
  {
   "cell_type": "code",
   "execution_count": 36,
   "id": "35bd0530",
   "metadata": {},
   "outputs": [
    {
     "data": {
      "text/plain": [
       "AgeGroup              65-74\n",
       "NumberAdmitted         4937\n",
       "Admissions_Percent    18.61\n",
       "dtype: object"
      ]
     },
     "execution_count": 36,
     "metadata": {},
     "output_type": "execute_result"
    }
   ],
   "source": [
    "dfcumall[dfcumall['AgeGroup'].isin(['65-74'])].sum()"
   ]
  },
  {
   "cell_type": "code",
   "execution_count": 38,
   "id": "b5dff6d3",
   "metadata": {},
   "outputs": [
    {
     "data": {
      "text/plain": [
       "AgeGroup              75-8485plus\n",
       "NumberAdmitted              10160\n",
       "Admissions_Percent           38.3\n",
       "dtype: object"
      ]
     },
     "execution_count": 38,
     "metadata": {},
     "output_type": "execute_result"
    }
   ],
   "source": [
    "dfcumall[dfcumall['AgeGroup'].isin(['75-84','85plus'])].sum()"
   ]
  },
  {
   "cell_type": "code",
   "execution_count": 42,
   "id": "a77add5b",
   "metadata": {},
   "outputs": [
    {
     "data": {
      "text/html": [
       "<div>\n",
       "<style scoped>\n",
       "    .dataframe tbody tr th:only-of-type {\n",
       "        vertical-align: middle;\n",
       "    }\n",
       "\n",
       "    .dataframe tbody tr th {\n",
       "        vertical-align: top;\n",
       "    }\n",
       "\n",
       "    .dataframe thead th {\n",
       "        text-align: right;\n",
       "    }\n",
       "</style>\n",
       "<table border=\"1\" class=\"dataframe\">\n",
       "  <thead>\n",
       "    <tr style=\"text-align: right;\">\n",
       "      <th></th>\n",
       "      <th>AgeGroup</th>\n",
       "      <th>NumberAdmitted</th>\n",
       "      <th>Admissions_Percent</th>\n",
       "    </tr>\n",
       "  </thead>\n",
       "  <tbody>\n",
       "    <tr>\n",
       "      <th>0</th>\n",
       "      <td>0-24</td>\n",
       "      <td>1044</td>\n",
       "      <td>3.9</td>\n",
       "    </tr>\n",
       "    <tr>\n",
       "      <th>1</th>\n",
       "      <td>25-44</td>\n",
       "      <td>2918</td>\n",
       "      <td>11.0</td>\n",
       "    </tr>\n",
       "    <tr>\n",
       "      <th>2</th>\n",
       "      <td>45-64</td>\n",
       "      <td>7474</td>\n",
       "      <td>28.1</td>\n",
       "    </tr>\n",
       "    <tr>\n",
       "      <th>3</th>\n",
       "      <td>65-74</td>\n",
       "      <td>4937</td>\n",
       "      <td>18.6</td>\n",
       "    </tr>\n",
       "    <tr>\n",
       "      <th>4</th>\n",
       "      <td>75+</td>\n",
       "      <td>10160</td>\n",
       "      <td>38.3</td>\n",
       "    </tr>\n",
       "  </tbody>\n",
       "</table>\n",
       "</div>"
      ],
      "text/plain": [
       "  AgeGroup  NumberAdmitted  Admissions_Percent\n",
       "0     0-24            1044                 3.9\n",
       "1    25-44            2918                11.0\n",
       "2    45-64            7474                28.1\n",
       "3    65-74            4937                18.6\n",
       "4      75+           10160                38.3"
      ]
     },
     "execution_count": 42,
     "metadata": {},
     "output_type": "execute_result"
    }
   ],
   "source": [
    "d = {'AgeGroup': ['0-24','25-44','45-64','65-74','75+'], 'NumberAdmitted': [1044,2918,7474,4937,10160], 'Admissions_Percent':[3.9,11.0,28.1,18.6,38.3]}\n",
    "dfha = pd.DataFrame(data=d)\n",
    "dfha"
   ]
  },
  {
   "cell_type": "code",
   "execution_count": 43,
   "id": "2451fedd",
   "metadata": {},
   "outputs": [
    {
     "data": {
      "text/html": [
       "<div>\n",
       "<style scoped>\n",
       "    .dataframe tbody tr th:only-of-type {\n",
       "        vertical-align: middle;\n",
       "    }\n",
       "\n",
       "    .dataframe tbody tr th {\n",
       "        vertical-align: top;\n",
       "    }\n",
       "\n",
       "    .dataframe thead th {\n",
       "        text-align: right;\n",
       "    }\n",
       "</style>\n",
       "<table border=\"1\" class=\"dataframe\">\n",
       "  <thead>\n",
       "    <tr style=\"text-align: right;\">\n",
       "      <th></th>\n",
       "      <th>AgeGroup</th>\n",
       "      <th>Cases_Percent</th>\n",
       "      <th>Admissions_Percent</th>\n",
       "      <th>Deaths_Percent</th>\n",
       "    </tr>\n",
       "  </thead>\n",
       "  <tbody>\n",
       "    <tr>\n",
       "      <th>0</th>\n",
       "      <td>45-64</td>\n",
       "      <td>26.2</td>\n",
       "      <td>28.1</td>\n",
       "      <td>10.0</td>\n",
       "    </tr>\n",
       "    <tr>\n",
       "      <th>1</th>\n",
       "      <td>65-74</td>\n",
       "      <td>5.0</td>\n",
       "      <td>18.6</td>\n",
       "      <td>17.4</td>\n",
       "    </tr>\n",
       "    <tr>\n",
       "      <th>2</th>\n",
       "      <td>75+</td>\n",
       "      <td>7.1</td>\n",
       "      <td>38.3</td>\n",
       "      <td>71.6</td>\n",
       "    </tr>\n",
       "  </tbody>\n",
       "</table>\n",
       "</div>"
      ],
      "text/plain": [
       "  AgeGroup  Cases_Percent  Admissions_Percent  Deaths_Percent\n",
       "0    45-64           26.2                28.1            10.0\n",
       "1    65-74            5.0                18.6            17.4\n",
       "2      75+            7.1                38.3            71.6"
      ]
     },
     "execution_count": 43,
     "metadata": {},
     "output_type": "execute_result"
    }
   ],
   "source": [
    "df_eda_hdc = df_dc.merge(dfha, on=['AgeGroup'])\n",
    "df_eda_hdc = df_eda_hdc[['AgeGroup', 'Cases_Percent','Admissions_Percent','Deaths_Percent']]\n",
    "df_eda_hdc.to_csv('output_eda_ages.csv')\n",
    "df_eda_hdc\n"
   ]
  },
  {
   "cell_type": "code",
   "execution_count": 50,
   "id": "7515b7bc",
   "metadata": {},
   "outputs": [
    {
     "data": {
      "text/html": [
       "<div>\n",
       "<style scoped>\n",
       "    .dataframe tbody tr th:only-of-type {\n",
       "        vertical-align: middle;\n",
       "    }\n",
       "\n",
       "    .dataframe tbody tr th {\n",
       "        vertical-align: top;\n",
       "    }\n",
       "\n",
       "    .dataframe thead th {\n",
       "        text-align: right;\n",
       "    }\n",
       "</style>\n",
       "<table border=\"1\" class=\"dataframe\">\n",
       "  <thead>\n",
       "    <tr style=\"text-align: right;\">\n",
       "      <th></th>\n",
       "      <th>AgeGroup</th>\n",
       "      <th>Cases</th>\n",
       "      <th>Cases_Percent</th>\n",
       "      <th>Deaths</th>\n",
       "      <th>Deaths_Percent</th>\n",
       "    </tr>\n",
       "  </thead>\n",
       "  <tbody>\n",
       "    <tr>\n",
       "      <th>0</th>\n",
       "      <td>0-59</td>\n",
       "      <td>253073</td>\n",
       "      <td>83.6</td>\n",
       "      <td>504</td>\n",
       "      <td>6.5</td>\n",
       "    </tr>\n",
       "    <tr>\n",
       "      <th>1</th>\n",
       "      <td>60+</td>\n",
       "      <td>49755</td>\n",
       "      <td>16.4</td>\n",
       "      <td>7236</td>\n",
       "      <td>93.5</td>\n",
       "    </tr>\n",
       "    <tr>\n",
       "      <th>2</th>\n",
       "      <td>0-74</td>\n",
       "      <td>282726</td>\n",
       "      <td>93.2</td>\n",
       "      <td>2201</td>\n",
       "      <td>28.4</td>\n",
       "    </tr>\n",
       "    <tr>\n",
       "      <th>3</th>\n",
       "      <td>75+</td>\n",
       "      <td>20793</td>\n",
       "      <td>6.8</td>\n",
       "      <td>5539</td>\n",
       "      <td>71.6</td>\n",
       "    </tr>\n",
       "  </tbody>\n",
       "</table>\n",
       "</div>"
      ],
      "text/plain": [
       "  AgeGroup   Cases  Cases_Percent  Deaths  Deaths_Percent\n",
       "0     0-59  253073           83.6     504             6.5\n",
       "1      60+   49755           16.4    7236            93.5\n",
       "2     0-74  282726           93.2    2201            28.4\n",
       "3      75+   20793            6.8    5539            71.6"
      ]
     },
     "execution_count": 50,
     "metadata": {},
     "output_type": "execute_result"
    }
   ],
   "source": [
    "df_dc1"
   ]
  },
  {
   "cell_type": "code",
   "execution_count": 44,
   "id": "2002986e",
   "metadata": {},
   "outputs": [
    {
     "data": {
      "text/plain": [
       "AgeGroup              0-415-1920-2425-4445-645-1465-74\n",
       "NumberAdmitted                                   16373\n",
       "Admissions_Percent                               61.71\n",
       "dtype: object"
      ]
     },
     "execution_count": 44,
     "metadata": {},
     "output_type": "execute_result"
    }
   ],
   "source": [
    "dfcumall[dfcumall['AgeGroup'].isin(['0-4', '5-14','15-19','20-24', '25-44','45-64', '65-74'])].sum()"
   ]
  },
  {
   "cell_type": "code",
   "execution_count": 45,
   "id": "56bc91d5",
   "metadata": {},
   "outputs": [
    {
     "data": {
      "text/plain": [
       "AgeGroup              75-8485plus\n",
       "NumberAdmitted              10160\n",
       "Admissions_Percent           38.3\n",
       "dtype: object"
      ]
     },
     "execution_count": 45,
     "metadata": {},
     "output_type": "execute_result"
    }
   ],
   "source": [
    "dfcumall[dfcumall['AgeGroup'].isin(['75-84','85plus'])].sum()"
   ]
  },
  {
   "cell_type": "code",
   "execution_count": 46,
   "id": "383d9c1d",
   "metadata": {},
   "outputs": [
    {
     "data": {
      "text/html": [
       "<div>\n",
       "<style scoped>\n",
       "    .dataframe tbody tr th:only-of-type {\n",
       "        vertical-align: middle;\n",
       "    }\n",
       "\n",
       "    .dataframe tbody tr th {\n",
       "        vertical-align: top;\n",
       "    }\n",
       "\n",
       "    .dataframe thead th {\n",
       "        text-align: right;\n",
       "    }\n",
       "</style>\n",
       "<table border=\"1\" class=\"dataframe\">\n",
       "  <thead>\n",
       "    <tr style=\"text-align: right;\">\n",
       "      <th></th>\n",
       "      <th>AgeGroup</th>\n",
       "      <th>NumberAdmitted</th>\n",
       "      <th>Admissions_Percent</th>\n",
       "    </tr>\n",
       "  </thead>\n",
       "  <tbody>\n",
       "    <tr>\n",
       "      <th>0</th>\n",
       "      <td>0-74</td>\n",
       "      <td>16373</td>\n",
       "      <td>61.7</td>\n",
       "    </tr>\n",
       "    <tr>\n",
       "      <th>1</th>\n",
       "      <td>75+</td>\n",
       "      <td>10160</td>\n",
       "      <td>38.3</td>\n",
       "    </tr>\n",
       "  </tbody>\n",
       "</table>\n",
       "</div>"
      ],
      "text/plain": [
       "  AgeGroup  NumberAdmitted  Admissions_Percent\n",
       "0     0-74           16373                61.7\n",
       "1      75+           10160                38.3"
      ]
     },
     "execution_count": 46,
     "metadata": {},
     "output_type": "execute_result"
    }
   ],
   "source": [
    "h1 = {'AgeGroup': ['0-74','75+'], 'NumberAdmitted': [16373,10160], 'Admissions_Percent':[61.7,38.3]}\n",
    "df_eda_h1 = pd.DataFrame(data=h1)\n",
    "df_eda_h1.NumberAdmitted = df_eda_h1.NumberAdmitted.astype(int).round(0)\n",
    "df_eda_h1"
   ]
  },
  {
   "cell_type": "code",
   "execution_count": null,
   "id": "d3263057",
   "metadata": {},
   "outputs": [],
   "source": [
    "deathscases"
   ]
  },
  {
   "cell_type": "code",
   "execution_count": 47,
   "id": "b79b37fd",
   "metadata": {},
   "outputs": [
    {
     "data": {
      "text/plain": [
       "AgeGroup              0-415-1920-2425-445-14\n",
       "NumberAdmitted                          3962\n",
       "Admissions_Percent                     14.93\n",
       "dtype: object"
      ]
     },
     "execution_count": 47,
     "metadata": {},
     "output_type": "execute_result"
    }
   ],
   "source": [
    "dfcumall[dfcumall['AgeGroup'].isin(['0-4', '5-14','15-19','20-24','25-44'])].sum()"
   ]
  },
  {
   "cell_type": "code",
   "execution_count": 48,
   "id": "824f1a16",
   "metadata": {},
   "outputs": [
    {
     "data": {
      "text/plain": [
       "AgeGroup              45-64\n",
       "NumberAdmitted         7474\n",
       "Admissions_Percent    28.17\n",
       "dtype: object"
      ]
     },
     "execution_count": 48,
     "metadata": {},
     "output_type": "execute_result"
    }
   ],
   "source": [
    "dfcumall[dfcumall['AgeGroup'].isin(['45-64'])].sum()"
   ]
  },
  {
   "cell_type": "code",
   "execution_count": 49,
   "id": "bd002545",
   "metadata": {},
   "outputs": [
    {
     "data": {
      "text/plain": [
       "AgeGroup              65-74\n",
       "NumberAdmitted         4937\n",
       "Admissions_Percent    18.61\n",
       "dtype: object"
      ]
     },
     "execution_count": 49,
     "metadata": {},
     "output_type": "execute_result"
    }
   ],
   "source": [
    "dfcumall[dfcumall['AgeGroup'].isin(['65-74'])].sum()"
   ]
  },
  {
   "cell_type": "code",
   "execution_count": 50,
   "id": "e319efa5",
   "metadata": {},
   "outputs": [
    {
     "data": {
      "text/plain": [
       "AgeGroup              75-8485plus\n",
       "NumberAdmitted              10160\n",
       "Admissions_Percent           38.3\n",
       "dtype: object"
      ]
     },
     "execution_count": 50,
     "metadata": {},
     "output_type": "execute_result"
    }
   ],
   "source": [
    "dfcumall[dfcumall['AgeGroup'].isin(['75-84','85plus'])].sum()"
   ]
  },
  {
   "cell_type": "code",
   "execution_count": 51,
   "id": "ecace45a",
   "metadata": {},
   "outputs": [
    {
     "data": {
      "text/html": [
       "<div>\n",
       "<style scoped>\n",
       "    .dataframe tbody tr th:only-of-type {\n",
       "        vertical-align: middle;\n",
       "    }\n",
       "\n",
       "    .dataframe tbody tr th {\n",
       "        vertical-align: top;\n",
       "    }\n",
       "\n",
       "    .dataframe thead th {\n",
       "        text-align: right;\n",
       "    }\n",
       "</style>\n",
       "<table border=\"1\" class=\"dataframe\">\n",
       "  <thead>\n",
       "    <tr style=\"text-align: right;\">\n",
       "      <th></th>\n",
       "      <th>AgeGroup</th>\n",
       "      <th>NumberAdmitted</th>\n",
       "      <th>Admissions_Percent</th>\n",
       "    </tr>\n",
       "  </thead>\n",
       "  <tbody>\n",
       "    <tr>\n",
       "      <th>0</th>\n",
       "      <td>0-44</td>\n",
       "      <td>3962</td>\n",
       "      <td>14.9</td>\n",
       "    </tr>\n",
       "    <tr>\n",
       "      <th>1</th>\n",
       "      <td>45-64</td>\n",
       "      <td>7474</td>\n",
       "      <td>28.2</td>\n",
       "    </tr>\n",
       "    <tr>\n",
       "      <th>2</th>\n",
       "      <td>65-74</td>\n",
       "      <td>4937</td>\n",
       "      <td>18.6</td>\n",
       "    </tr>\n",
       "    <tr>\n",
       "      <th>3</th>\n",
       "      <td>75+</td>\n",
       "      <td>10160</td>\n",
       "      <td>38.3</td>\n",
       "    </tr>\n",
       "  </tbody>\n",
       "</table>\n",
       "</div>"
      ],
      "text/plain": [
       "  AgeGroup  NumberAdmitted  Admissions_Percent\n",
       "0     0-44            3962                14.9\n",
       "1    45-64            7474                28.2\n",
       "2    65-74            4937                18.6\n",
       "3      75+           10160                38.3"
      ]
     },
     "execution_count": 51,
     "metadata": {},
     "output_type": "execute_result"
    }
   ],
   "source": [
    "d = {'AgeGroup': ['0-44','45-64','65-74','75+'], 'NumberAdmitted': [3962,7474,4937,10160], 'Admissions_Percent':[14.9,28.2,18.6,38.3]}\n",
    "dfha = pd.DataFrame(data=d)\n",
    "dfha"
   ]
  },
  {
   "cell_type": "code",
   "execution_count": 52,
   "id": "02615a36",
   "metadata": {},
   "outputs": [
    {
     "data": {
      "text/html": [
       "<div>\n",
       "<style scoped>\n",
       "    .dataframe tbody tr th:only-of-type {\n",
       "        vertical-align: middle;\n",
       "    }\n",
       "\n",
       "    .dataframe tbody tr th {\n",
       "        vertical-align: top;\n",
       "    }\n",
       "\n",
       "    .dataframe thead th {\n",
       "        text-align: right;\n",
       "    }\n",
       "</style>\n",
       "<table border=\"1\" class=\"dataframe\">\n",
       "  <thead>\n",
       "    <tr style=\"text-align: right;\">\n",
       "      <th></th>\n",
       "      <th>AgeGroup</th>\n",
       "      <th>Cases_Percent</th>\n",
       "      <th>Admissions_Percent</th>\n",
       "      <th>Deaths_Percent</th>\n",
       "    </tr>\n",
       "  </thead>\n",
       "  <tbody>\n",
       "    <tr>\n",
       "      <th>0</th>\n",
       "      <td>0-44</td>\n",
       "      <td>61.7</td>\n",
       "      <td>14.9</td>\n",
       "      <td>1.0</td>\n",
       "    </tr>\n",
       "    <tr>\n",
       "      <th>1</th>\n",
       "      <td>45-64</td>\n",
       "      <td>26.2</td>\n",
       "      <td>28.2</td>\n",
       "      <td>10.0</td>\n",
       "    </tr>\n",
       "    <tr>\n",
       "      <th>2</th>\n",
       "      <td>65-74</td>\n",
       "      <td>5.0</td>\n",
       "      <td>18.6</td>\n",
       "      <td>17.4</td>\n",
       "    </tr>\n",
       "    <tr>\n",
       "      <th>3</th>\n",
       "      <td>75+</td>\n",
       "      <td>7.1</td>\n",
       "      <td>38.3</td>\n",
       "      <td>71.6</td>\n",
       "    </tr>\n",
       "  </tbody>\n",
       "</table>\n",
       "</div>"
      ],
      "text/plain": [
       "  AgeGroup  Cases_Percent  Admissions_Percent  Deaths_Percent\n",
       "0     0-44           61.7                14.9             1.0\n",
       "1    45-64           26.2                28.2            10.0\n",
       "2    65-74            5.0                18.6            17.4\n",
       "3      75+            7.1                38.3            71.6"
      ]
     },
     "execution_count": 52,
     "metadata": {},
     "output_type": "execute_result"
    }
   ],
   "source": [
    "df_eda_hdc = df_dc.merge(dfha, on=['AgeGroup'])\n",
    "df_eda_hdc = df_eda_hdc[['AgeGroup', 'Cases_Percent','Admissions_Percent','Deaths_Percent']]\n",
    "df_eda_hdc.to_csv('output_eda_ages.csv')\n",
    "df_eda_hdc"
   ]
  }
 ],
 "metadata": {
  "kernelspec": {
   "display_name": "Python 3",
   "language": "python",
   "name": "python3"
  },
  "language_info": {
   "codemirror_mode": {
    "name": "ipython",
    "version": 3
   },
   "file_extension": ".py",
   "mimetype": "text/x-python",
   "name": "python",
   "nbconvert_exporter": "python",
   "pygments_lexer": "ipython3",
   "version": "3.6.13"
  }
 },
 "nbformat": 4,
 "nbformat_minor": 5
}
