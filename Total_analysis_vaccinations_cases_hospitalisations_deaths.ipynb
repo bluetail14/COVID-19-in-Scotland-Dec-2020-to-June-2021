{
 "cells": [
  {
   "cell_type": "code",
   "execution_count": 1,
   "id": "651c44ea",
   "metadata": {},
   "outputs": [],
   "source": [
    "import pandas as pd\n",
    "import numpy as np\n",
    "import matplotlib.pyplot as plt"
   ]
  },
  {
   "cell_type": "markdown",
   "id": "38fee5ba",
   "metadata": {},
   "source": [
    "## Vaccinations"
   ]
  },
  {
   "cell_type": "code",
   "execution_count": 2,
   "id": "04820289",
   "metadata": {},
   "outputs": [
    {
     "data": {
      "text/html": [
       "<div>\n",
       "<style scoped>\n",
       "    .dataframe tbody tr th:only-of-type {\n",
       "        vertical-align: middle;\n",
       "    }\n",
       "\n",
       "    .dataframe tbody tr th {\n",
       "        vertical-align: top;\n",
       "    }\n",
       "\n",
       "    .dataframe thead th {\n",
       "        text-align: right;\n",
       "    }\n",
       "</style>\n",
       "<table border=\"1\" class=\"dataframe\">\n",
       "  <thead>\n",
       "    <tr style=\"text-align: right;\">\n",
       "      <th></th>\n",
       "      <th>ï»¿_id</th>\n",
       "      <th>Date</th>\n",
       "      <th>CA</th>\n",
       "      <th>CAQF</th>\n",
       "      <th>CAName</th>\n",
       "      <th>Sex</th>\n",
       "      <th>SexQF</th>\n",
       "      <th>AgeGroup</th>\n",
       "      <th>AgeGroupQF</th>\n",
       "      <th>Population</th>\n",
       "      <th>...</th>\n",
       "      <th>Dose</th>\n",
       "      <th>DoseQF</th>\n",
       "      <th>NumberVaccinated</th>\n",
       "      <th>NumberVaccinatedQF</th>\n",
       "      <th>PercentCoverage</th>\n",
       "      <th>PercentCoverageQF</th>\n",
       "      <th>CumulativeNumberVaccinated</th>\n",
       "      <th>CumulativeNumberVaccinatedQF</th>\n",
       "      <th>CumulativePercentCoverage</th>\n",
       "      <th>CumulativePercentCoverageQF</th>\n",
       "    </tr>\n",
       "  </thead>\n",
       "  <tbody>\n",
       "    <tr>\n",
       "      <th>489187</th>\n",
       "      <td>489188</td>\n",
       "      <td>20210713</td>\n",
       "      <td>S12000050</td>\n",
       "      <td>NaN</td>\n",
       "      <td>North Lanarkshire</td>\n",
       "      <td>Total</td>\n",
       "      <td>d</td>\n",
       "      <td>60 - 64</td>\n",
       "      <td>NaN</td>\n",
       "      <td>21107.0</td>\n",
       "      <td>...</td>\n",
       "      <td>Dose 2</td>\n",
       "      <td>NaN</td>\n",
       "      <td>2</td>\n",
       "      <td>NaN</td>\n",
       "      <td>0.009476</td>\n",
       "      <td>NaN</td>\n",
       "      <td>20992</td>\n",
       "      <td>NaN</td>\n",
       "      <td>99.455157</td>\n",
       "      <td>NaN</td>\n",
       "    </tr>\n",
       "    <tr>\n",
       "      <th>489188</th>\n",
       "      <td>489189</td>\n",
       "      <td>20210713</td>\n",
       "      <td>S12000050</td>\n",
       "      <td>NaN</td>\n",
       "      <td>North Lanarkshire</td>\n",
       "      <td>Total</td>\n",
       "      <td>d</td>\n",
       "      <td>65 - 69</td>\n",
       "      <td>NaN</td>\n",
       "      <td>17976.0</td>\n",
       "      <td>...</td>\n",
       "      <td>Dose 2</td>\n",
       "      <td>NaN</td>\n",
       "      <td>0</td>\n",
       "      <td>NaN</td>\n",
       "      <td>0.000000</td>\n",
       "      <td>NaN</td>\n",
       "      <td>17529</td>\n",
       "      <td>NaN</td>\n",
       "      <td>97.513351</td>\n",
       "      <td>NaN</td>\n",
       "    </tr>\n",
       "    <tr>\n",
       "      <th>489189</th>\n",
       "      <td>489190</td>\n",
       "      <td>20210713</td>\n",
       "      <td>S12000050</td>\n",
       "      <td>NaN</td>\n",
       "      <td>North Lanarkshire</td>\n",
       "      <td>Total</td>\n",
       "      <td>d</td>\n",
       "      <td>70 - 74</td>\n",
       "      <td>NaN</td>\n",
       "      <td>15922.0</td>\n",
       "      <td>...</td>\n",
       "      <td>Dose 2</td>\n",
       "      <td>NaN</td>\n",
       "      <td>0</td>\n",
       "      <td>NaN</td>\n",
       "      <td>0.000000</td>\n",
       "      <td>NaN</td>\n",
       "      <td>15807</td>\n",
       "      <td>NaN</td>\n",
       "      <td>99.277729</td>\n",
       "      <td>NaN</td>\n",
       "    </tr>\n",
       "    <tr>\n",
       "      <th>489190</th>\n",
       "      <td>489191</td>\n",
       "      <td>20210713</td>\n",
       "      <td>S12000050</td>\n",
       "      <td>NaN</td>\n",
       "      <td>North Lanarkshire</td>\n",
       "      <td>Total</td>\n",
       "      <td>d</td>\n",
       "      <td>75 - 79</td>\n",
       "      <td>NaN</td>\n",
       "      <td>11223.0</td>\n",
       "      <td>...</td>\n",
       "      <td>Dose 2</td>\n",
       "      <td>NaN</td>\n",
       "      <td>0</td>\n",
       "      <td>NaN</td>\n",
       "      <td>0.000000</td>\n",
       "      <td>NaN</td>\n",
       "      <td>10842</td>\n",
       "      <td>NaN</td>\n",
       "      <td>96.605186</td>\n",
       "      <td>NaN</td>\n",
       "    </tr>\n",
       "    <tr>\n",
       "      <th>489191</th>\n",
       "      <td>489192</td>\n",
       "      <td>20210713</td>\n",
       "      <td>S12000050</td>\n",
       "      <td>NaN</td>\n",
       "      <td>North Lanarkshire</td>\n",
       "      <td>Total</td>\n",
       "      <td>d</td>\n",
       "      <td>80 years and over</td>\n",
       "      <td>d</td>\n",
       "      <td>13978.0</td>\n",
       "      <td>...</td>\n",
       "      <td>Dose 2</td>\n",
       "      <td>NaN</td>\n",
       "      <td>1</td>\n",
       "      <td>NaN</td>\n",
       "      <td>0.007154</td>\n",
       "      <td>NaN</td>\n",
       "      <td>13091</td>\n",
       "      <td>NaN</td>\n",
       "      <td>93.654314</td>\n",
       "      <td>NaN</td>\n",
       "    </tr>\n",
       "  </tbody>\n",
       "</table>\n",
       "<p>5 rows × 21 columns</p>\n",
       "</div>"
      ],
      "text/plain": [
       "        ï»¿_id      Date         CA CAQF             CAName    Sex SexQF  \\\n",
       "489187  489188  20210713  S12000050  NaN  North Lanarkshire  Total     d   \n",
       "489188  489189  20210713  S12000050  NaN  North Lanarkshire  Total     d   \n",
       "489189  489190  20210713  S12000050  NaN  North Lanarkshire  Total     d   \n",
       "489190  489191  20210713  S12000050  NaN  North Lanarkshire  Total     d   \n",
       "489191  489192  20210713  S12000050  NaN  North Lanarkshire  Total     d   \n",
       "\n",
       "                 AgeGroup AgeGroupQF  Population  ...    Dose DoseQF  \\\n",
       "489187            60 - 64        NaN     21107.0  ...  Dose 2    NaN   \n",
       "489188            65 - 69        NaN     17976.0  ...  Dose 2    NaN   \n",
       "489189            70 - 74        NaN     15922.0  ...  Dose 2    NaN   \n",
       "489190            75 - 79        NaN     11223.0  ...  Dose 2    NaN   \n",
       "489191  80 years and over          d     13978.0  ...  Dose 2    NaN   \n",
       "\n",
       "        NumberVaccinated  NumberVaccinatedQF  PercentCoverage  \\\n",
       "489187                 2                 NaN         0.009476   \n",
       "489188                 0                 NaN         0.000000   \n",
       "489189                 0                 NaN         0.000000   \n",
       "489190                 0                 NaN         0.000000   \n",
       "489191                 1                 NaN         0.007154   \n",
       "\n",
       "        PercentCoverageQF CumulativeNumberVaccinated  \\\n",
       "489187                NaN                      20992   \n",
       "489188                NaN                      17529   \n",
       "489189                NaN                      15807   \n",
       "489190                NaN                      10842   \n",
       "489191                NaN                      13091   \n",
       "\n",
       "        CumulativeNumberVaccinatedQF  CumulativePercentCoverage  \\\n",
       "489187                           NaN                  99.455157   \n",
       "489188                           NaN                  97.513351   \n",
       "489189                           NaN                  99.277729   \n",
       "489190                           NaN                  96.605186   \n",
       "489191                           NaN                  93.654314   \n",
       "\n",
       "        CumulativePercentCoverageQF  \n",
       "489187                          NaN  \n",
       "489188                          NaN  \n",
       "489189                          NaN  \n",
       "489190                          NaN  \n",
       "489191                          NaN  \n",
       "\n",
       "[5 rows x 21 columns]"
      ]
     },
     "execution_count": 2,
     "metadata": {},
     "output_type": "execute_result"
    }
   ],
   "source": [
    "dfv = pd.read_csv('../MyVizProject/data_vacc.csv', na_values='',  parse_dates=True, encoding = \"ISO-8859-1\")\n",
    "dfv.tail()"
   ]
  },
  {
   "cell_type": "code",
   "execution_count": 3,
   "id": "bc00ca3c",
   "metadata": {},
   "outputs": [
    {
     "name": "stderr",
     "output_type": "stream",
     "text": [
      "C:\\Users\\Maria\\Anaconda3\\lib\\site-packages\\ipykernel_launcher.py:2: SettingWithCopyWarning: \n",
      "A value is trying to be set on a copy of a slice from a DataFrame.\n",
      "Try using .loc[row_indexer,col_indexer] = value instead\n",
      "\n",
      "See the caveats in the documentation: https://pandas.pydata.org/pandas-docs/stable/user_guide/indexing.html#returning-a-view-versus-a-copy\n",
      "  \n"
     ]
    },
    {
     "data": {
      "text/html": [
       "<div>\n",
       "<style scoped>\n",
       "    .dataframe tbody tr th:only-of-type {\n",
       "        vertical-align: middle;\n",
       "    }\n",
       "\n",
       "    .dataframe tbody tr th {\n",
       "        vertical-align: top;\n",
       "    }\n",
       "\n",
       "    .dataframe thead th {\n",
       "        text-align: right;\n",
       "    }\n",
       "</style>\n",
       "<table border=\"1\" class=\"dataframe\">\n",
       "  <thead>\n",
       "    <tr style=\"text-align: right;\">\n",
       "      <th></th>\n",
       "      <th>Date</th>\n",
       "      <th>CAName</th>\n",
       "      <th>Sex</th>\n",
       "      <th>AgeGroup</th>\n",
       "      <th>Dose</th>\n",
       "      <th>NumberVaccinated</th>\n",
       "    </tr>\n",
       "  </thead>\n",
       "  <tbody>\n",
       "    <tr>\n",
       "      <th>0</th>\n",
       "      <td>2020-12-08</td>\n",
       "      <td>Unknown</td>\n",
       "      <td>Female</td>\n",
       "      <td>18 - 29</td>\n",
       "      <td>Dose 1</td>\n",
       "      <td>0</td>\n",
       "    </tr>\n",
       "    <tr>\n",
       "      <th>1</th>\n",
       "      <td>2020-12-08</td>\n",
       "      <td>Unknown</td>\n",
       "      <td>Female</td>\n",
       "      <td>18 years and over</td>\n",
       "      <td>Dose 1</td>\n",
       "      <td>2</td>\n",
       "    </tr>\n",
       "    <tr>\n",
       "      <th>2</th>\n",
       "      <td>2020-12-08</td>\n",
       "      <td>Unknown</td>\n",
       "      <td>Female</td>\n",
       "      <td>30 - 39</td>\n",
       "      <td>Dose 1</td>\n",
       "      <td>0</td>\n",
       "    </tr>\n",
       "    <tr>\n",
       "      <th>3</th>\n",
       "      <td>2020-12-08</td>\n",
       "      <td>Unknown</td>\n",
       "      <td>Female</td>\n",
       "      <td>40 - 49</td>\n",
       "      <td>Dose 1</td>\n",
       "      <td>1</td>\n",
       "    </tr>\n",
       "    <tr>\n",
       "      <th>4</th>\n",
       "      <td>2020-12-08</td>\n",
       "      <td>Unknown</td>\n",
       "      <td>Female</td>\n",
       "      <td>50 - 54</td>\n",
       "      <td>Dose 1</td>\n",
       "      <td>0</td>\n",
       "    </tr>\n",
       "  </tbody>\n",
       "</table>\n",
       "</div>"
      ],
      "text/plain": [
       "        Date   CAName     Sex           AgeGroup    Dose  NumberVaccinated\n",
       "0 2020-12-08  Unknown  Female            18 - 29  Dose 1                 0\n",
       "1 2020-12-08  Unknown  Female  18 years and over  Dose 1                 2\n",
       "2 2020-12-08  Unknown  Female            30 - 39  Dose 1                 0\n",
       "3 2020-12-08  Unknown  Female            40 - 49  Dose 1                 1\n",
       "4 2020-12-08  Unknown  Female            50 - 54  Dose 1                 0"
      ]
     },
     "execution_count": 3,
     "metadata": {},
     "output_type": "execute_result"
    }
   ],
   "source": [
    "df_v = dfv[['Date','CAName','Sex', 'AgeGroup','Dose', 'NumberVaccinated']]\n",
    "df_v[\"Date\"] = pd.to_datetime(df_v.loc[:, 'Date'], format='%Y%m%d')\n",
    "df_v.head()"
   ]
  },
  {
   "cell_type": "code",
   "execution_count": 5,
   "id": "826182e0",
   "metadata": {},
   "outputs": [
    {
     "name": "stdout",
     "output_type": "stream",
     "text": [
      "Date range is: 2020-12-08 00:00:00 to 2021-07-13 00:00:00\n"
     ]
    }
   ],
   "source": [
    "print(\"Date range is: \" + str(df_v.Date.min()) +' to '+ str(df_v.Date.max()))"
   ]
  },
  {
   "cell_type": "code",
   "execution_count": 6,
   "id": "d05abb74",
   "metadata": {},
   "outputs": [
    {
     "data": {
      "text/html": [
       "<div>\n",
       "<style scoped>\n",
       "    .dataframe tbody tr th:only-of-type {\n",
       "        vertical-align: middle;\n",
       "    }\n",
       "\n",
       "    .dataframe tbody tr th {\n",
       "        vertical-align: top;\n",
       "    }\n",
       "\n",
       "    .dataframe thead th {\n",
       "        text-align: right;\n",
       "    }\n",
       "</style>\n",
       "<table border=\"1\" class=\"dataframe\">\n",
       "  <thead>\n",
       "    <tr style=\"text-align: right;\">\n",
       "      <th></th>\n",
       "      <th>Date</th>\n",
       "      <th>CAName</th>\n",
       "      <th>Sex</th>\n",
       "      <th>AgeGroup</th>\n",
       "      <th>Dose</th>\n",
       "      <th>NumberVaccinated</th>\n",
       "    </tr>\n",
       "  </thead>\n",
       "  <tbody>\n",
       "    <tr>\n",
       "      <th>23</th>\n",
       "      <td>2020-12-08</td>\n",
       "      <td>Unknown</td>\n",
       "      <td>Total</td>\n",
       "      <td>18 years and over</td>\n",
       "      <td>Dose 1</td>\n",
       "      <td>4</td>\n",
       "    </tr>\n",
       "    <tr>\n",
       "      <th>57</th>\n",
       "      <td>2020-12-08</td>\n",
       "      <td>Unknown</td>\n",
       "      <td>Total</td>\n",
       "      <td>18 years and over</td>\n",
       "      <td>Dose 2</td>\n",
       "      <td>0</td>\n",
       "    </tr>\n",
       "    <tr>\n",
       "      <th>91</th>\n",
       "      <td>2020-12-08</td>\n",
       "      <td>Clackmannanshire</td>\n",
       "      <td>Total</td>\n",
       "      <td>18 years and over</td>\n",
       "      <td>Dose 1</td>\n",
       "      <td>66</td>\n",
       "    </tr>\n",
       "    <tr>\n",
       "      <th>125</th>\n",
       "      <td>2020-12-08</td>\n",
       "      <td>Clackmannanshire</td>\n",
       "      <td>Total</td>\n",
       "      <td>18 years and over</td>\n",
       "      <td>Dose 2</td>\n",
       "      <td>0</td>\n",
       "    </tr>\n",
       "    <tr>\n",
       "      <th>159</th>\n",
       "      <td>2020-12-08</td>\n",
       "      <td>Dumfries and Galloway</td>\n",
       "      <td>Total</td>\n",
       "      <td>18 years and over</td>\n",
       "      <td>Dose 1</td>\n",
       "      <td>35</td>\n",
       "    </tr>\n",
       "    <tr>\n",
       "      <th>...</th>\n",
       "      <td>...</td>\n",
       "      <td>...</td>\n",
       "      <td>...</td>\n",
       "      <td>...</td>\n",
       "      <td>...</td>\n",
       "      <td>...</td>\n",
       "    </tr>\n",
       "    <tr>\n",
       "      <th>489045</th>\n",
       "      <td>2021-07-13</td>\n",
       "      <td>Perth and Kinross</td>\n",
       "      <td>Total</td>\n",
       "      <td>18 years and over</td>\n",
       "      <td>Dose 2</td>\n",
       "      <td>286</td>\n",
       "    </tr>\n",
       "    <tr>\n",
       "      <th>489079</th>\n",
       "      <td>2021-07-13</td>\n",
       "      <td>Glasgow City</td>\n",
       "      <td>Total</td>\n",
       "      <td>18 years and over</td>\n",
       "      <td>Dose 1</td>\n",
       "      <td>1336</td>\n",
       "    </tr>\n",
       "    <tr>\n",
       "      <th>489113</th>\n",
       "      <td>2021-07-13</td>\n",
       "      <td>Glasgow City</td>\n",
       "      <td>Total</td>\n",
       "      <td>18 years and over</td>\n",
       "      <td>Dose 2</td>\n",
       "      <td>1845</td>\n",
       "    </tr>\n",
       "    <tr>\n",
       "      <th>489147</th>\n",
       "      <td>2021-07-13</td>\n",
       "      <td>North Lanarkshire</td>\n",
       "      <td>Total</td>\n",
       "      <td>18 years and over</td>\n",
       "      <td>Dose 1</td>\n",
       "      <td>82</td>\n",
       "    </tr>\n",
       "    <tr>\n",
       "      <th>489181</th>\n",
       "      <td>2021-07-13</td>\n",
       "      <td>North Lanarkshire</td>\n",
       "      <td>Total</td>\n",
       "      <td>18 years and over</td>\n",
       "      <td>Dose 2</td>\n",
       "      <td>116</td>\n",
       "    </tr>\n",
       "  </tbody>\n",
       "</table>\n",
       "<p>14388 rows × 6 columns</p>\n",
       "</div>"
      ],
      "text/plain": [
       "             Date                 CAName    Sex           AgeGroup    Dose  \\\n",
       "23     2020-12-08                Unknown  Total  18 years and over  Dose 1   \n",
       "57     2020-12-08                Unknown  Total  18 years and over  Dose 2   \n",
       "91     2020-12-08       Clackmannanshire  Total  18 years and over  Dose 1   \n",
       "125    2020-12-08       Clackmannanshire  Total  18 years and over  Dose 2   \n",
       "159    2020-12-08  Dumfries and Galloway  Total  18 years and over  Dose 1   \n",
       "...           ...                    ...    ...                ...     ...   \n",
       "489045 2021-07-13      Perth and Kinross  Total  18 years and over  Dose 2   \n",
       "489079 2021-07-13           Glasgow City  Total  18 years and over  Dose 1   \n",
       "489113 2021-07-13           Glasgow City  Total  18 years and over  Dose 2   \n",
       "489147 2021-07-13      North Lanarkshire  Total  18 years and over  Dose 1   \n",
       "489181 2021-07-13      North Lanarkshire  Total  18 years and over  Dose 2   \n",
       "\n",
       "        NumberVaccinated  \n",
       "23                     4  \n",
       "57                     0  \n",
       "91                    66  \n",
       "125                    0  \n",
       "159                   35  \n",
       "...                  ...  \n",
       "489045               286  \n",
       "489079              1336  \n",
       "489113              1845  \n",
       "489147                82  \n",
       "489181               116  \n",
       "\n",
       "[14388 rows x 6 columns]"
      ]
     },
     "execution_count": 6,
     "metadata": {},
     "output_type": "execute_result"
    }
   ],
   "source": [
    "df_vacc = df_v[(df_v.AgeGroup =='18 years and over') & (df_v.Sex =='Total')]\n",
    "df_vacc"
   ]
  },
  {
   "cell_type": "code",
   "execution_count": 7,
   "id": "15c9c99c",
   "metadata": {},
   "outputs": [
    {
     "data": {
      "text/html": [
       "<div>\n",
       "<style scoped>\n",
       "    .dataframe tbody tr th:only-of-type {\n",
       "        vertical-align: middle;\n",
       "    }\n",
       "\n",
       "    .dataframe tbody tr th {\n",
       "        vertical-align: top;\n",
       "    }\n",
       "\n",
       "    .dataframe thead th {\n",
       "        text-align: right;\n",
       "    }\n",
       "</style>\n",
       "<table border=\"1\" class=\"dataframe\">\n",
       "  <thead>\n",
       "    <tr style=\"text-align: right;\">\n",
       "      <th></th>\n",
       "      <th>NumberVaccinated</th>\n",
       "    </tr>\n",
       "    <tr>\n",
       "      <th>Date</th>\n",
       "      <th></th>\n",
       "    </tr>\n",
       "  </thead>\n",
       "  <tbody>\n",
       "    <tr>\n",
       "      <th>2020-12-08</th>\n",
       "      <td>1896</td>\n",
       "    </tr>\n",
       "    <tr>\n",
       "      <th>2020-12-09</th>\n",
       "      <td>3838</td>\n",
       "    </tr>\n",
       "    <tr>\n",
       "      <th>2020-12-10</th>\n",
       "      <td>4930</td>\n",
       "    </tr>\n",
       "    <tr>\n",
       "      <th>2020-12-11</th>\n",
       "      <td>5268</td>\n",
       "    </tr>\n",
       "    <tr>\n",
       "      <th>2020-12-12</th>\n",
       "      <td>2128</td>\n",
       "    </tr>\n",
       "    <tr>\n",
       "      <th>2020-12-13</th>\n",
       "      <td>1111</td>\n",
       "    </tr>\n",
       "    <tr>\n",
       "      <th>2020-12-14</th>\n",
       "      <td>5687</td>\n",
       "    </tr>\n",
       "    <tr>\n",
       "      <th>2020-12-15</th>\n",
       "      <td>7346</td>\n",
       "    </tr>\n",
       "    <tr>\n",
       "      <th>2020-12-16</th>\n",
       "      <td>7153</td>\n",
       "    </tr>\n",
       "    <tr>\n",
       "      <th>2020-12-17</th>\n",
       "      <td>7057</td>\n",
       "    </tr>\n",
       "    <tr>\n",
       "      <th>2020-12-18</th>\n",
       "      <td>8454</td>\n",
       "    </tr>\n",
       "    <tr>\n",
       "      <th>2020-12-19</th>\n",
       "      <td>3347</td>\n",
       "    </tr>\n",
       "    <tr>\n",
       "      <th>2020-12-20</th>\n",
       "      <td>2530</td>\n",
       "    </tr>\n",
       "    <tr>\n",
       "      <th>2020-12-21</th>\n",
       "      <td>9543</td>\n",
       "    </tr>\n",
       "    <tr>\n",
       "      <th>2020-12-22</th>\n",
       "      <td>11762</td>\n",
       "    </tr>\n",
       "    <tr>\n",
       "      <th>2020-12-23</th>\n",
       "      <td>10104</td>\n",
       "    </tr>\n",
       "    <tr>\n",
       "      <th>2020-12-24</th>\n",
       "      <td>2807</td>\n",
       "    </tr>\n",
       "    <tr>\n",
       "      <th>2020-12-25</th>\n",
       "      <td>16</td>\n",
       "    </tr>\n",
       "    <tr>\n",
       "      <th>2020-12-26</th>\n",
       "      <td>3</td>\n",
       "    </tr>\n",
       "    <tr>\n",
       "      <th>2020-12-27</th>\n",
       "      <td>469</td>\n",
       "    </tr>\n",
       "    <tr>\n",
       "      <th>2020-12-28</th>\n",
       "      <td>1728</td>\n",
       "    </tr>\n",
       "    <tr>\n",
       "      <th>2020-12-29</th>\n",
       "      <td>7573</td>\n",
       "    </tr>\n",
       "    <tr>\n",
       "      <th>2020-12-30</th>\n",
       "      <td>7715</td>\n",
       "    </tr>\n",
       "    <tr>\n",
       "      <th>2020-12-31</th>\n",
       "      <td>4211</td>\n",
       "    </tr>\n",
       "    <tr>\n",
       "      <th>2021-01-01</th>\n",
       "      <td>37</td>\n",
       "    </tr>\n",
       "    <tr>\n",
       "      <th>2021-01-02</th>\n",
       "      <td>16</td>\n",
       "    </tr>\n",
       "    <tr>\n",
       "      <th>2021-01-03</th>\n",
       "      <td>351</td>\n",
       "    </tr>\n",
       "    <tr>\n",
       "      <th>2021-01-04</th>\n",
       "      <td>1613</td>\n",
       "    </tr>\n",
       "    <tr>\n",
       "      <th>2021-01-05</th>\n",
       "      <td>9526</td>\n",
       "    </tr>\n",
       "    <tr>\n",
       "      <th>2021-01-06</th>\n",
       "      <td>10885</td>\n",
       "    </tr>\n",
       "    <tr>\n",
       "      <th>2021-01-07</th>\n",
       "      <td>11218</td>\n",
       "    </tr>\n",
       "    <tr>\n",
       "      <th>2021-01-08</th>\n",
       "      <td>11855</td>\n",
       "    </tr>\n",
       "    <tr>\n",
       "      <th>2021-01-09</th>\n",
       "      <td>6767</td>\n",
       "    </tr>\n",
       "    <tr>\n",
       "      <th>2021-01-10</th>\n",
       "      <td>2831</td>\n",
       "    </tr>\n",
       "    <tr>\n",
       "      <th>2021-01-11</th>\n",
       "      <td>12121</td>\n",
       "    </tr>\n",
       "    <tr>\n",
       "      <th>2021-01-12</th>\n",
       "      <td>16602</td>\n",
       "    </tr>\n",
       "    <tr>\n",
       "      <th>2021-01-13</th>\n",
       "      <td>17565</td>\n",
       "    </tr>\n",
       "    <tr>\n",
       "      <th>2021-01-14</th>\n",
       "      <td>17828</td>\n",
       "    </tr>\n",
       "    <tr>\n",
       "      <th>2021-01-15</th>\n",
       "      <td>17304</td>\n",
       "    </tr>\n",
       "    <tr>\n",
       "      <th>2021-01-16</th>\n",
       "      <td>21388</td>\n",
       "    </tr>\n",
       "  </tbody>\n",
       "</table>\n",
       "</div>"
      ],
      "text/plain": [
       "            NumberVaccinated\n",
       "Date                        \n",
       "2020-12-08              1896\n",
       "2020-12-09              3838\n",
       "2020-12-10              4930\n",
       "2020-12-11              5268\n",
       "2020-12-12              2128\n",
       "2020-12-13              1111\n",
       "2020-12-14              5687\n",
       "2020-12-15              7346\n",
       "2020-12-16              7153\n",
       "2020-12-17              7057\n",
       "2020-12-18              8454\n",
       "2020-12-19              3347\n",
       "2020-12-20              2530\n",
       "2020-12-21              9543\n",
       "2020-12-22             11762\n",
       "2020-12-23             10104\n",
       "2020-12-24              2807\n",
       "2020-12-25                16\n",
       "2020-12-26                 3\n",
       "2020-12-27               469\n",
       "2020-12-28              1728\n",
       "2020-12-29              7573\n",
       "2020-12-30              7715\n",
       "2020-12-31              4211\n",
       "2021-01-01                37\n",
       "2021-01-02                16\n",
       "2021-01-03               351\n",
       "2021-01-04              1613\n",
       "2021-01-05              9526\n",
       "2021-01-06             10885\n",
       "2021-01-07             11218\n",
       "2021-01-08             11855\n",
       "2021-01-09              6767\n",
       "2021-01-10              2831\n",
       "2021-01-11             12121\n",
       "2021-01-12             16602\n",
       "2021-01-13             17565\n",
       "2021-01-14             17828\n",
       "2021-01-15             17304\n",
       "2021-01-16             21388"
      ]
     },
     "execution_count": 7,
     "metadata": {},
     "output_type": "execute_result"
    }
   ],
   "source": [
    "df_vacc = df_vacc.groupby(['Date']).sum()\n",
    "df_vacc.head(40)"
   ]
  },
  {
   "cell_type": "code",
   "execution_count": 23,
   "id": "8ac878c0",
   "metadata": {},
   "outputs": [
    {
     "data": {
      "text/html": [
       "<div>\n",
       "<style scoped>\n",
       "    .dataframe tbody tr th:only-of-type {\n",
       "        vertical-align: middle;\n",
       "    }\n",
       "\n",
       "    .dataframe tbody tr th {\n",
       "        vertical-align: top;\n",
       "    }\n",
       "\n",
       "    .dataframe thead th {\n",
       "        text-align: right;\n",
       "    }\n",
       "</style>\n",
       "<table border=\"1\" class=\"dataframe\">\n",
       "  <thead>\n",
       "    <tr style=\"text-align: right;\">\n",
       "      <th></th>\n",
       "      <th>NumberVaccinated</th>\n",
       "    </tr>\n",
       "    <tr>\n",
       "      <th>Date</th>\n",
       "      <th></th>\n",
       "    </tr>\n",
       "  </thead>\n",
       "  <tbody>\n",
       "    <tr>\n",
       "      <th>2020-12-08</th>\n",
       "      <td>0.0</td>\n",
       "    </tr>\n",
       "    <tr>\n",
       "      <th>2020-12-09</th>\n",
       "      <td>0.0</td>\n",
       "    </tr>\n",
       "    <tr>\n",
       "      <th>2020-12-10</th>\n",
       "      <td>0.0</td>\n",
       "    </tr>\n",
       "    <tr>\n",
       "      <th>2020-12-11</th>\n",
       "      <td>0.0</td>\n",
       "    </tr>\n",
       "    <tr>\n",
       "      <th>2020-12-12</th>\n",
       "      <td>0.0</td>\n",
       "    </tr>\n",
       "    <tr>\n",
       "      <th>2020-12-13</th>\n",
       "      <td>0.0</td>\n",
       "    </tr>\n",
       "    <tr>\n",
       "      <th>2020-12-14</th>\n",
       "      <td>0.0</td>\n",
       "    </tr>\n",
       "    <tr>\n",
       "      <th>2020-12-15</th>\n",
       "      <td>0.0</td>\n",
       "    </tr>\n",
       "    <tr>\n",
       "      <th>2020-12-16</th>\n",
       "      <td>0.0</td>\n",
       "    </tr>\n",
       "    <tr>\n",
       "      <th>2020-12-17</th>\n",
       "      <td>0.0</td>\n",
       "    </tr>\n",
       "    <tr>\n",
       "      <th>2020-12-18</th>\n",
       "      <td>0.0</td>\n",
       "    </tr>\n",
       "    <tr>\n",
       "      <th>2020-12-19</th>\n",
       "      <td>0.0</td>\n",
       "    </tr>\n",
       "    <tr>\n",
       "      <th>2020-12-20</th>\n",
       "      <td>0.0</td>\n",
       "    </tr>\n",
       "    <tr>\n",
       "      <th>2020-12-21</th>\n",
       "      <td>0.0</td>\n",
       "    </tr>\n",
       "    <tr>\n",
       "      <th>2020-12-22</th>\n",
       "      <td>0.0</td>\n",
       "    </tr>\n",
       "    <tr>\n",
       "      <th>2020-12-23</th>\n",
       "      <td>0.0</td>\n",
       "    </tr>\n",
       "    <tr>\n",
       "      <th>2020-12-24</th>\n",
       "      <td>0.0</td>\n",
       "    </tr>\n",
       "    <tr>\n",
       "      <th>2020-12-25</th>\n",
       "      <td>0.0</td>\n",
       "    </tr>\n",
       "    <tr>\n",
       "      <th>2020-12-26</th>\n",
       "      <td>0.0</td>\n",
       "    </tr>\n",
       "    <tr>\n",
       "      <th>2020-12-27</th>\n",
       "      <td>0.0</td>\n",
       "    </tr>\n",
       "    <tr>\n",
       "      <th>2020-12-28</th>\n",
       "      <td>0.0</td>\n",
       "    </tr>\n",
       "    <tr>\n",
       "      <th>2020-12-29</th>\n",
       "      <td>0.0</td>\n",
       "    </tr>\n",
       "    <tr>\n",
       "      <th>2020-12-30</th>\n",
       "      <td>0.0</td>\n",
       "    </tr>\n",
       "    <tr>\n",
       "      <th>2020-12-31</th>\n",
       "      <td>0.0</td>\n",
       "    </tr>\n",
       "    <tr>\n",
       "      <th>2021-01-01</th>\n",
       "      <td>0.0</td>\n",
       "    </tr>\n",
       "    <tr>\n",
       "      <th>2021-01-02</th>\n",
       "      <td>0.0</td>\n",
       "    </tr>\n",
       "    <tr>\n",
       "      <th>2021-01-03</th>\n",
       "      <td>0.0</td>\n",
       "    </tr>\n",
       "    <tr>\n",
       "      <th>2021-01-04</th>\n",
       "      <td>0.0</td>\n",
       "    </tr>\n",
       "    <tr>\n",
       "      <th>2021-01-05</th>\n",
       "      <td>3551.0</td>\n",
       "    </tr>\n",
       "    <tr>\n",
       "      <th>2021-01-06</th>\n",
       "      <td>7881.0</td>\n",
       "    </tr>\n",
       "    <tr>\n",
       "      <th>2021-01-07</th>\n",
       "      <td>12684.0</td>\n",
       "    </tr>\n",
       "    <tr>\n",
       "      <th>2021-01-08</th>\n",
       "      <td>17791.0</td>\n",
       "    </tr>\n",
       "    <tr>\n",
       "      <th>2021-01-09</th>\n",
       "      <td>23354.0</td>\n",
       "    </tr>\n",
       "    <tr>\n",
       "      <th>2021-01-10</th>\n",
       "      <td>29090.0</td>\n",
       "    </tr>\n",
       "    <tr>\n",
       "      <th>2021-01-11</th>\n",
       "      <td>35029.0</td>\n",
       "    </tr>\n",
       "    <tr>\n",
       "      <th>2021-01-12</th>\n",
       "      <td>41519.0</td>\n",
       "    </tr>\n",
       "    <tr>\n",
       "      <th>2021-01-13</th>\n",
       "      <td>48640.0</td>\n",
       "    </tr>\n",
       "    <tr>\n",
       "      <th>2021-01-14</th>\n",
       "      <td>56182.0</td>\n",
       "    </tr>\n",
       "    <tr>\n",
       "      <th>2021-01-15</th>\n",
       "      <td>63118.0</td>\n",
       "    </tr>\n",
       "    <tr>\n",
       "      <th>2021-01-16</th>\n",
       "      <td>68848.0</td>\n",
       "    </tr>\n",
       "    <tr>\n",
       "      <th>2021-01-17</th>\n",
       "      <td>74100.0</td>\n",
       "    </tr>\n",
       "    <tr>\n",
       "      <th>2021-01-18</th>\n",
       "      <td>79057.0</td>\n",
       "    </tr>\n",
       "    <tr>\n",
       "      <th>2021-01-19</th>\n",
       "      <td>82899.0</td>\n",
       "    </tr>\n",
       "    <tr>\n",
       "      <th>2021-01-20</th>\n",
       "      <td>86142.0</td>\n",
       "    </tr>\n",
       "    <tr>\n",
       "      <th>2021-01-21</th>\n",
       "      <td>89043.0</td>\n",
       "    </tr>\n",
       "    <tr>\n",
       "      <th>2021-01-22</th>\n",
       "      <td>92145.0</td>\n",
       "    </tr>\n",
       "    <tr>\n",
       "      <th>2021-01-23</th>\n",
       "      <td>95250.0</td>\n",
       "    </tr>\n",
       "    <tr>\n",
       "      <th>2021-01-24</th>\n",
       "      <td>98357.0</td>\n",
       "    </tr>\n",
       "    <tr>\n",
       "      <th>2021-01-25</th>\n",
       "      <td>101448.0</td>\n",
       "    </tr>\n",
       "    <tr>\n",
       "      <th>2021-01-26</th>\n",
       "      <td>104521.0</td>\n",
       "    </tr>\n",
       "  </tbody>\n",
       "</table>\n",
       "</div>"
      ],
      "text/plain": [
       "            NumberVaccinated\n",
       "Date                        \n",
       "2020-12-08               0.0\n",
       "2020-12-09               0.0\n",
       "2020-12-10               0.0\n",
       "2020-12-11               0.0\n",
       "2020-12-12               0.0\n",
       "2020-12-13               0.0\n",
       "2020-12-14               0.0\n",
       "2020-12-15               0.0\n",
       "2020-12-16               0.0\n",
       "2020-12-17               0.0\n",
       "2020-12-18               0.0\n",
       "2020-12-19               0.0\n",
       "2020-12-20               0.0\n",
       "2020-12-21               0.0\n",
       "2020-12-22               0.0\n",
       "2020-12-23               0.0\n",
       "2020-12-24               0.0\n",
       "2020-12-25               0.0\n",
       "2020-12-26               0.0\n",
       "2020-12-27               0.0\n",
       "2020-12-28               0.0\n",
       "2020-12-29               0.0\n",
       "2020-12-30               0.0\n",
       "2020-12-31               0.0\n",
       "2021-01-01               0.0\n",
       "2021-01-02               0.0\n",
       "2021-01-03               0.0\n",
       "2021-01-04               0.0\n",
       "2021-01-05            3551.0\n",
       "2021-01-06            7881.0\n",
       "2021-01-07           12684.0\n",
       "2021-01-08           17791.0\n",
       "2021-01-09           23354.0\n",
       "2021-01-10           29090.0\n",
       "2021-01-11           35029.0\n",
       "2021-01-12           41519.0\n",
       "2021-01-13           48640.0\n",
       "2021-01-14           56182.0\n",
       "2021-01-15           63118.0\n",
       "2021-01-16           68848.0\n",
       "2021-01-17           74100.0\n",
       "2021-01-18           79057.0\n",
       "2021-01-19           82899.0\n",
       "2021-01-20           86142.0\n",
       "2021-01-21           89043.0\n",
       "2021-01-22           92145.0\n",
       "2021-01-23           95250.0\n",
       "2021-01-24           98357.0\n",
       "2021-01-25          101448.0\n",
       "2021-01-26          104521.0"
      ]
     },
     "execution_count": 23,
     "metadata": {},
     "output_type": "execute_result"
    }
   ],
   "source": [
    "df_vacc_adj = (((df_vacc.rolling(7)).mean())).shift(22).rolling(68, min_periods=1).sum().fillna(0).round()\n",
    "df_vacc_adj.head(50)"
   ]
  },
  {
   "cell_type": "code",
   "execution_count": null,
   "id": "cb3d8b30",
   "metadata": {},
   "outputs": [],
   "source": []
  },
  {
   "cell_type": "code",
   "execution_count": 25,
   "id": "f15ffe57",
   "metadata": {},
   "outputs": [
    {
     "name": "stderr",
     "output_type": "stream",
     "text": [
      "C:\\Users\\Maria\\Anaconda3\\lib\\site-packages\\pandas\\core\\generic.py:5170: SettingWithCopyWarning: \n",
      "A value is trying to be set on a copy of a slice from a DataFrame.\n",
      "Try using .loc[row_indexer,col_indexer] = value instead\n",
      "\n",
      "See the caveats in the documentation: https://pandas.pydata.org/pandas-docs/stable/user_guide/indexing.html#returning-a-view-versus-a-copy\n",
      "  self[name] = value\n"
     ]
    },
    {
     "data": {
      "text/html": [
       "<div>\n",
       "<style scoped>\n",
       "    .dataframe tbody tr th:only-of-type {\n",
       "        vertical-align: middle;\n",
       "    }\n",
       "\n",
       "    .dataframe tbody tr th {\n",
       "        vertical-align: top;\n",
       "    }\n",
       "\n",
       "    .dataframe thead th {\n",
       "        text-align: right;\n",
       "    }\n",
       "</style>\n",
       "<table border=\"1\" class=\"dataframe\">\n",
       "  <thead>\n",
       "    <tr style=\"text-align: right;\">\n",
       "      <th></th>\n",
       "      <th>NumberVaccinated</th>\n",
       "    </tr>\n",
       "    <tr>\n",
       "      <th>Date</th>\n",
       "      <th></th>\n",
       "    </tr>\n",
       "  </thead>\n",
       "  <tbody>\n",
       "    <tr>\n",
       "      <th>2021-06-21</th>\n",
       "      <td>2787232</td>\n",
       "    </tr>\n",
       "    <tr>\n",
       "      <th>2021-06-22</th>\n",
       "      <td>2784437</td>\n",
       "    </tr>\n",
       "    <tr>\n",
       "      <th>2021-06-23</th>\n",
       "      <td>2781826</td>\n",
       "    </tr>\n",
       "    <tr>\n",
       "      <th>2021-06-24</th>\n",
       "      <td>2779838</td>\n",
       "    </tr>\n",
       "    <tr>\n",
       "      <th>2021-06-25</th>\n",
       "      <td>2777928</td>\n",
       "    </tr>\n",
       "    <tr>\n",
       "      <th>2021-06-26</th>\n",
       "      <td>2777399</td>\n",
       "    </tr>\n",
       "    <tr>\n",
       "      <th>2021-06-27</th>\n",
       "      <td>2777792</td>\n",
       "    </tr>\n",
       "    <tr>\n",
       "      <th>2021-06-28</th>\n",
       "      <td>2778705</td>\n",
       "    </tr>\n",
       "    <tr>\n",
       "      <th>2021-06-29</th>\n",
       "      <td>2779091</td>\n",
       "    </tr>\n",
       "    <tr>\n",
       "      <th>2021-06-30</th>\n",
       "      <td>2780075</td>\n",
       "    </tr>\n",
       "  </tbody>\n",
       "</table>\n",
       "</div>"
      ],
      "text/plain": [
       "            NumberVaccinated\n",
       "Date                        \n",
       "2021-06-21           2787232\n",
       "2021-06-22           2784437\n",
       "2021-06-23           2781826\n",
       "2021-06-24           2779838\n",
       "2021-06-25           2777928\n",
       "2021-06-26           2777399\n",
       "2021-06-27           2777792\n",
       "2021-06-28           2778705\n",
       "2021-06-29           2779091\n",
       "2021-06-30           2780075"
      ]
     },
     "execution_count": 25,
     "metadata": {},
     "output_type": "execute_result"
    }
   ],
   "source": [
    "vaccs = df_vacc_adj.loc[(df_vacc_adj.index>='2021-01-05')&(df_vacc_adj.index<='2021-06-30')]\n",
    "vaccs.NumberVaccinated = vaccs.NumberVaccinated.round(0).astype(int)\n",
    "vaccs.to_csv('output_raw_vaccs.csv')\n",
    "vaccs.tail(10)"
   ]
  },
  {
   "cell_type": "markdown",
   "id": "92158ef1",
   "metadata": {},
   "source": [
    "## Positive Cases"
   ]
  },
  {
   "cell_type": "code",
   "execution_count": 18,
   "id": "b562f71f",
   "metadata": {},
   "outputs": [
    {
     "data": {
      "text/html": [
       "<div>\n",
       "<style scoped>\n",
       "    .dataframe tbody tr th:only-of-type {\n",
       "        vertical-align: middle;\n",
       "    }\n",
       "\n",
       "    .dataframe tbody tr th {\n",
       "        vertical-align: top;\n",
       "    }\n",
       "\n",
       "    .dataframe thead th {\n",
       "        text-align: right;\n",
       "    }\n",
       "</style>\n",
       "<table border=\"1\" class=\"dataframe\">\n",
       "  <thead>\n",
       "    <tr style=\"text-align: right;\">\n",
       "      <th></th>\n",
       "      <th>Date</th>\n",
       "      <th>CA</th>\n",
       "      <th>CAName</th>\n",
       "      <th>DailyPositive</th>\n",
       "      <th>CumulativePositive</th>\n",
       "      <th>CrudeRatePositive</th>\n",
       "      <th>CrudeRate7DayPositive</th>\n",
       "      <th>DailyDeaths</th>\n",
       "      <th>CumulativeDeaths</th>\n",
       "      <th>CrudeRateDeaths</th>\n",
       "      <th>...</th>\n",
       "      <th>CumulativeNegative</th>\n",
       "      <th>CrudeRateNegative</th>\n",
       "      <th>TotalTests</th>\n",
       "      <th>PositiveTests</th>\n",
       "      <th>PositivePercentage</th>\n",
       "      <th>PositivePercentage7Day</th>\n",
       "      <th>TotalPillar1</th>\n",
       "      <th>TotalPillar2</th>\n",
       "      <th>PositivePillar1</th>\n",
       "      <th>PositivePillar2</th>\n",
       "    </tr>\n",
       "    <tr>\n",
       "      <th>ï»¿_id</th>\n",
       "      <th></th>\n",
       "      <th></th>\n",
       "      <th></th>\n",
       "      <th></th>\n",
       "      <th></th>\n",
       "      <th></th>\n",
       "      <th></th>\n",
       "      <th></th>\n",
       "      <th></th>\n",
       "      <th></th>\n",
       "      <th></th>\n",
       "      <th></th>\n",
       "      <th></th>\n",
       "      <th></th>\n",
       "      <th></th>\n",
       "      <th></th>\n",
       "      <th></th>\n",
       "      <th></th>\n",
       "      <th></th>\n",
       "      <th></th>\n",
       "      <th></th>\n",
       "    </tr>\n",
       "  </thead>\n",
       "  <tbody>\n",
       "    <tr>\n",
       "      <th>1</th>\n",
       "      <td>20200228</td>\n",
       "      <td>S12000005</td>\n",
       "      <td>Clackmannanshire</td>\n",
       "      <td>0</td>\n",
       "      <td>0</td>\n",
       "      <td>0.0</td>\n",
       "      <td>NaN</td>\n",
       "      <td>0</td>\n",
       "      <td>0</td>\n",
       "      <td>0.0</td>\n",
       "      <td>...</td>\n",
       "      <td>4</td>\n",
       "      <td>7.760962</td>\n",
       "      <td>6</td>\n",
       "      <td>0</td>\n",
       "      <td>0.0</td>\n",
       "      <td>0.0</td>\n",
       "      <td>6</td>\n",
       "      <td>0</td>\n",
       "      <td>0</td>\n",
       "      <td>0</td>\n",
       "    </tr>\n",
       "    <tr>\n",
       "      <th>2</th>\n",
       "      <td>20200228</td>\n",
       "      <td>S12000006</td>\n",
       "      <td>Dumfries &amp; Galloway</td>\n",
       "      <td>0</td>\n",
       "      <td>0</td>\n",
       "      <td>0.0</td>\n",
       "      <td>NaN</td>\n",
       "      <td>0</td>\n",
       "      <td>0</td>\n",
       "      <td>0.0</td>\n",
       "      <td>...</td>\n",
       "      <td>9</td>\n",
       "      <td>6.045949</td>\n",
       "      <td>9</td>\n",
       "      <td>0</td>\n",
       "      <td>0.0</td>\n",
       "      <td>0.0</td>\n",
       "      <td>9</td>\n",
       "      <td>0</td>\n",
       "      <td>0</td>\n",
       "      <td>0</td>\n",
       "    </tr>\n",
       "    <tr>\n",
       "      <th>3</th>\n",
       "      <td>20200228</td>\n",
       "      <td>S12000008</td>\n",
       "      <td>East Ayrshire</td>\n",
       "      <td>0</td>\n",
       "      <td>0</td>\n",
       "      <td>0.0</td>\n",
       "      <td>NaN</td>\n",
       "      <td>0</td>\n",
       "      <td>0</td>\n",
       "      <td>0.0</td>\n",
       "      <td>...</td>\n",
       "      <td>0</td>\n",
       "      <td>0.000000</td>\n",
       "      <td>1</td>\n",
       "      <td>0</td>\n",
       "      <td>0.0</td>\n",
       "      <td>0.0</td>\n",
       "      <td>1</td>\n",
       "      <td>0</td>\n",
       "      <td>0</td>\n",
       "      <td>0</td>\n",
       "    </tr>\n",
       "    <tr>\n",
       "      <th>4</th>\n",
       "      <td>20200228</td>\n",
       "      <td>S12000010</td>\n",
       "      <td>East Lothian</td>\n",
       "      <td>0</td>\n",
       "      <td>0</td>\n",
       "      <td>0.0</td>\n",
       "      <td>NaN</td>\n",
       "      <td>0</td>\n",
       "      <td>0</td>\n",
       "      <td>0.0</td>\n",
       "      <td>...</td>\n",
       "      <td>7</td>\n",
       "      <td>6.536558</td>\n",
       "      <td>7</td>\n",
       "      <td>0</td>\n",
       "      <td>0.0</td>\n",
       "      <td>0.0</td>\n",
       "      <td>7</td>\n",
       "      <td>0</td>\n",
       "      <td>0</td>\n",
       "      <td>0</td>\n",
       "    </tr>\n",
       "    <tr>\n",
       "      <th>5</th>\n",
       "      <td>20200228</td>\n",
       "      <td>S12000011</td>\n",
       "      <td>East Renfrewshire</td>\n",
       "      <td>0</td>\n",
       "      <td>0</td>\n",
       "      <td>0.0</td>\n",
       "      <td>NaN</td>\n",
       "      <td>0</td>\n",
       "      <td>0</td>\n",
       "      <td>0.0</td>\n",
       "      <td>...</td>\n",
       "      <td>2</td>\n",
       "      <td>2.093583</td>\n",
       "      <td>3</td>\n",
       "      <td>0</td>\n",
       "      <td>0.0</td>\n",
       "      <td>0.0</td>\n",
       "      <td>3</td>\n",
       "      <td>0</td>\n",
       "      <td>0</td>\n",
       "      <td>0</td>\n",
       "    </tr>\n",
       "  </tbody>\n",
       "</table>\n",
       "<p>5 rows × 21 columns</p>\n",
       "</div>"
      ],
      "text/plain": [
       "            Date         CA               CAName  DailyPositive  \\\n",
       "ï»¿_id                                                            \n",
       "1       20200228  S12000005     Clackmannanshire              0   \n",
       "2       20200228  S12000006  Dumfries & Galloway              0   \n",
       "3       20200228  S12000008        East Ayrshire              0   \n",
       "4       20200228  S12000010         East Lothian              0   \n",
       "5       20200228  S12000011    East Renfrewshire              0   \n",
       "\n",
       "        CumulativePositive  CrudeRatePositive  CrudeRate7DayPositive  \\\n",
       "ï»¿_id                                                                 \n",
       "1                        0                0.0                    NaN   \n",
       "2                        0                0.0                    NaN   \n",
       "3                        0                0.0                    NaN   \n",
       "4                        0                0.0                    NaN   \n",
       "5                        0                0.0                    NaN   \n",
       "\n",
       "        DailyDeaths  CumulativeDeaths  CrudeRateDeaths  ...  \\\n",
       "ï»¿_id                                                  ...   \n",
       "1                 0                 0              0.0  ...   \n",
       "2                 0                 0              0.0  ...   \n",
       "3                 0                 0              0.0  ...   \n",
       "4                 0                 0              0.0  ...   \n",
       "5                 0                 0              0.0  ...   \n",
       "\n",
       "        CumulativeNegative  CrudeRateNegative  TotalTests  PositiveTests  \\\n",
       "ï»¿_id                                                                     \n",
       "1                        4           7.760962           6              0   \n",
       "2                        9           6.045949           9              0   \n",
       "3                        0           0.000000           1              0   \n",
       "4                        7           6.536558           7              0   \n",
       "5                        2           2.093583           3              0   \n",
       "\n",
       "        PositivePercentage  PositivePercentage7Day  TotalPillar1  \\\n",
       "ï»¿_id                                                             \n",
       "1                      0.0                     0.0             6   \n",
       "2                      0.0                     0.0             9   \n",
       "3                      0.0                     0.0             1   \n",
       "4                      0.0                     0.0             7   \n",
       "5                      0.0                     0.0             3   \n",
       "\n",
       "        TotalPillar2  PositivePillar1  PositivePillar2  \n",
       "ï»¿_id                                                  \n",
       "1                  0                0                0  \n",
       "2                  0                0                0  \n",
       "3                  0                0                0  \n",
       "4                  0                0                0  \n",
       "5                  0                0                0  \n",
       "\n",
       "[5 rows x 21 columns]"
      ]
     },
     "execution_count": 18,
     "metadata": {},
     "output_type": "execute_result"
    }
   ],
   "source": [
    "df = pd.read_csv('../MyVizProject/data_cases_la.csv',na_values='',index_col ='ï»¿_id',encoding = \"ISO-8859-1\")\n",
    "df.head()"
   ]
  },
  {
   "cell_type": "code",
   "execution_count": 19,
   "id": "621b82fd",
   "metadata": {},
   "outputs": [],
   "source": [
    "df = df.rename(columns = {'ï»¿_id':'id'})\n",
    "df[\"Date\"] = pd.to_datetime(df.loc[:, 'Date'], format='%Y%m%d')"
   ]
  },
  {
   "cell_type": "code",
   "execution_count": 20,
   "id": "88563ee0",
   "metadata": {},
   "outputs": [
    {
     "data": {
      "text/html": [
       "<div>\n",
       "<style scoped>\n",
       "    .dataframe tbody tr th:only-of-type {\n",
       "        vertical-align: middle;\n",
       "    }\n",
       "\n",
       "    .dataframe tbody tr th {\n",
       "        vertical-align: top;\n",
       "    }\n",
       "\n",
       "    .dataframe thead th {\n",
       "        text-align: right;\n",
       "    }\n",
       "</style>\n",
       "<table border=\"1\" class=\"dataframe\">\n",
       "  <thead>\n",
       "    <tr style=\"text-align: right;\">\n",
       "      <th></th>\n",
       "      <th>Date</th>\n",
       "      <th>CA</th>\n",
       "      <th>CAName</th>\n",
       "      <th>DailyPositive</th>\n",
       "    </tr>\n",
       "    <tr>\n",
       "      <th>ï»¿_id</th>\n",
       "      <th></th>\n",
       "      <th></th>\n",
       "      <th></th>\n",
       "      <th></th>\n",
       "    </tr>\n",
       "  </thead>\n",
       "  <tbody>\n",
       "    <tr>\n",
       "      <th>1</th>\n",
       "      <td>2020-02-28</td>\n",
       "      <td>S12000005</td>\n",
       "      <td>Clackmannanshire</td>\n",
       "      <td>0</td>\n",
       "    </tr>\n",
       "    <tr>\n",
       "      <th>2</th>\n",
       "      <td>2020-02-28</td>\n",
       "      <td>S12000006</td>\n",
       "      <td>Dumfries &amp; Galloway</td>\n",
       "      <td>0</td>\n",
       "    </tr>\n",
       "    <tr>\n",
       "      <th>3</th>\n",
       "      <td>2020-02-28</td>\n",
       "      <td>S12000008</td>\n",
       "      <td>East Ayrshire</td>\n",
       "      <td>0</td>\n",
       "    </tr>\n",
       "    <tr>\n",
       "      <th>4</th>\n",
       "      <td>2020-02-28</td>\n",
       "      <td>S12000010</td>\n",
       "      <td>East Lothian</td>\n",
       "      <td>0</td>\n",
       "    </tr>\n",
       "    <tr>\n",
       "      <th>5</th>\n",
       "      <td>2020-02-28</td>\n",
       "      <td>S12000011</td>\n",
       "      <td>East Renfrewshire</td>\n",
       "      <td>0</td>\n",
       "    </tr>\n",
       "  </tbody>\n",
       "</table>\n",
       "</div>"
      ],
      "text/plain": [
       "             Date         CA               CAName  DailyPositive\n",
       "ï»¿_id                                                          \n",
       "1      2020-02-28  S12000005     Clackmannanshire              0\n",
       "2      2020-02-28  S12000006  Dumfries & Galloway              0\n",
       "3      2020-02-28  S12000008        East Ayrshire              0\n",
       "4      2020-02-28  S12000010         East Lothian              0\n",
       "5      2020-02-28  S12000011    East Renfrewshire              0"
      ]
     },
     "execution_count": 20,
     "metadata": {},
     "output_type": "execute_result"
    }
   ],
   "source": [
    "df_cases = df[[ 'Date', 'CA', 'CAName', 'DailyPositive']]#.set_index('Date')\n",
    "df_cases.head()"
   ]
  },
  {
   "cell_type": "code",
   "execution_count": 21,
   "id": "06f4862d",
   "metadata": {},
   "outputs": [
    {
     "data": {
      "text/html": [
       "<div>\n",
       "<style scoped>\n",
       "    .dataframe tbody tr th:only-of-type {\n",
       "        vertical-align: middle;\n",
       "    }\n",
       "\n",
       "    .dataframe tbody tr th {\n",
       "        vertical-align: top;\n",
       "    }\n",
       "\n",
       "    .dataframe thead th {\n",
       "        text-align: right;\n",
       "    }\n",
       "</style>\n",
       "<table border=\"1\" class=\"dataframe\">\n",
       "  <thead>\n",
       "    <tr style=\"text-align: right;\">\n",
       "      <th></th>\n",
       "      <th>DailyPositive</th>\n",
       "    </tr>\n",
       "    <tr>\n",
       "      <th>Date</th>\n",
       "      <th></th>\n",
       "    </tr>\n",
       "  </thead>\n",
       "  <tbody>\n",
       "    <tr>\n",
       "      <th>2021-07-01</th>\n",
       "      <td>3433</td>\n",
       "    </tr>\n",
       "    <tr>\n",
       "      <th>2021-07-02</th>\n",
       "      <td>3084</td>\n",
       "    </tr>\n",
       "    <tr>\n",
       "      <th>2021-07-03</th>\n",
       "      <td>2507</td>\n",
       "    </tr>\n",
       "    <tr>\n",
       "      <th>2021-07-04</th>\n",
       "      <td>2410</td>\n",
       "    </tr>\n",
       "    <tr>\n",
       "      <th>2021-07-05</th>\n",
       "      <td>3377</td>\n",
       "    </tr>\n",
       "    <tr>\n",
       "      <th>2021-07-06</th>\n",
       "      <td>3088</td>\n",
       "    </tr>\n",
       "    <tr>\n",
       "      <th>2021-07-07</th>\n",
       "      <td>2905</td>\n",
       "    </tr>\n",
       "    <tr>\n",
       "      <th>2021-07-08</th>\n",
       "      <td>2725</td>\n",
       "    </tr>\n",
       "    <tr>\n",
       "      <th>2021-07-09</th>\n",
       "      <td>2385</td>\n",
       "    </tr>\n",
       "    <tr>\n",
       "      <th>2021-07-10</th>\n",
       "      <td>1808</td>\n",
       "    </tr>\n",
       "    <tr>\n",
       "      <th>2021-07-11</th>\n",
       "      <td>1876</td>\n",
       "    </tr>\n",
       "    <tr>\n",
       "      <th>2021-07-12</th>\n",
       "      <td>2554</td>\n",
       "    </tr>\n",
       "    <tr>\n",
       "      <th>2021-07-13</th>\n",
       "      <td>2305</td>\n",
       "    </tr>\n",
       "    <tr>\n",
       "      <th>2021-07-14</th>\n",
       "      <td>376</td>\n",
       "    </tr>\n",
       "  </tbody>\n",
       "</table>\n",
       "</div>"
      ],
      "text/plain": [
       "            DailyPositive\n",
       "Date                     \n",
       "2021-07-01           3433\n",
       "2021-07-02           3084\n",
       "2021-07-03           2507\n",
       "2021-07-04           2410\n",
       "2021-07-05           3377\n",
       "2021-07-06           3088\n",
       "2021-07-07           2905\n",
       "2021-07-08           2725\n",
       "2021-07-09           2385\n",
       "2021-07-10           1808\n",
       "2021-07-11           1876\n",
       "2021-07-12           2554\n",
       "2021-07-13           2305\n",
       "2021-07-14            376"
      ]
     },
     "execution_count": 21,
     "metadata": {},
     "output_type": "execute_result"
    }
   ],
   "source": [
    "df_cases = df_cases.groupby(['Date']).sum()\n",
    "df_cases.tail(14)"
   ]
  },
  {
   "cell_type": "code",
   "execution_count": null,
   "id": "977b754a",
   "metadata": {},
   "outputs": [],
   "source": [
    "df_cases = ((df_cases.rolling(7).mean())) \\\n",
    "            .shift(-7).rolling(1).mean().fillna(0)\n",
    "\n",
    "# shift(-7) moves each value back by 7 days."
   ]
  },
  {
   "cell_type": "code",
   "execution_count": 22,
   "id": "49efec6f",
   "metadata": {},
   "outputs": [
    {
     "data": {
      "text/html": [
       "<div>\n",
       "<style scoped>\n",
       "    .dataframe tbody tr th:only-of-type {\n",
       "        vertical-align: middle;\n",
       "    }\n",
       "\n",
       "    .dataframe tbody tr th {\n",
       "        vertical-align: top;\n",
       "    }\n",
       "\n",
       "    .dataframe thead th {\n",
       "        text-align: right;\n",
       "    }\n",
       "</style>\n",
       "<table border=\"1\" class=\"dataframe\">\n",
       "  <thead>\n",
       "    <tr style=\"text-align: right;\">\n",
       "      <th></th>\n",
       "      <th>DailyPositive</th>\n",
       "    </tr>\n",
       "    <tr>\n",
       "      <th>Date</th>\n",
       "      <th></th>\n",
       "    </tr>\n",
       "  </thead>\n",
       "  <tbody>\n",
       "    <tr>\n",
       "      <th>2021-06-20</th>\n",
       "      <td>2793.000000</td>\n",
       "    </tr>\n",
       "    <tr>\n",
       "      <th>2021-06-21</th>\n",
       "      <td>2920.428571</td>\n",
       "    </tr>\n",
       "    <tr>\n",
       "      <th>2021-06-22</th>\n",
       "      <td>3012.142857</td>\n",
       "    </tr>\n",
       "    <tr>\n",
       "      <th>2021-06-23</th>\n",
       "      <td>3158.142857</td>\n",
       "    </tr>\n",
       "    <tr>\n",
       "      <th>2021-06-24</th>\n",
       "      <td>3227.428571</td>\n",
       "    </tr>\n",
       "    <tr>\n",
       "      <th>2021-06-25</th>\n",
       "      <td>3292.285714</td>\n",
       "    </tr>\n",
       "    <tr>\n",
       "      <th>2021-06-26</th>\n",
       "      <td>3321.857143</td>\n",
       "    </tr>\n",
       "    <tr>\n",
       "      <th>2021-06-27</th>\n",
       "      <td>3307.000000</td>\n",
       "    </tr>\n",
       "    <tr>\n",
       "      <th>2021-06-28</th>\n",
       "      <td>3229.714286</td>\n",
       "    </tr>\n",
       "    <tr>\n",
       "      <th>2021-06-29</th>\n",
       "      <td>3116.142857</td>\n",
       "    </tr>\n",
       "    <tr>\n",
       "      <th>2021-06-30</th>\n",
       "      <td>2972.000000</td>\n",
       "    </tr>\n",
       "    <tr>\n",
       "      <th>2021-07-01</th>\n",
       "      <td>2870.857143</td>\n",
       "    </tr>\n",
       "    <tr>\n",
       "      <th>2021-07-02</th>\n",
       "      <td>2771.000000</td>\n",
       "    </tr>\n",
       "    <tr>\n",
       "      <th>2021-07-03</th>\n",
       "      <td>2671.142857</td>\n",
       "    </tr>\n",
       "    <tr>\n",
       "      <th>2021-07-04</th>\n",
       "      <td>2594.857143</td>\n",
       "    </tr>\n",
       "    <tr>\n",
       "      <th>2021-07-05</th>\n",
       "      <td>2477.285714</td>\n",
       "    </tr>\n",
       "    <tr>\n",
       "      <th>2021-07-06</th>\n",
       "      <td>2365.428571</td>\n",
       "    </tr>\n",
       "    <tr>\n",
       "      <th>2021-07-07</th>\n",
       "      <td>2004.142857</td>\n",
       "    </tr>\n",
       "    <tr>\n",
       "      <th>2021-07-08</th>\n",
       "      <td>0.000000</td>\n",
       "    </tr>\n",
       "    <tr>\n",
       "      <th>2021-07-09</th>\n",
       "      <td>0.000000</td>\n",
       "    </tr>\n",
       "    <tr>\n",
       "      <th>2021-07-10</th>\n",
       "      <td>0.000000</td>\n",
       "    </tr>\n",
       "    <tr>\n",
       "      <th>2021-07-11</th>\n",
       "      <td>0.000000</td>\n",
       "    </tr>\n",
       "    <tr>\n",
       "      <th>2021-07-12</th>\n",
       "      <td>0.000000</td>\n",
       "    </tr>\n",
       "    <tr>\n",
       "      <th>2021-07-13</th>\n",
       "      <td>0.000000</td>\n",
       "    </tr>\n",
       "    <tr>\n",
       "      <th>2021-07-14</th>\n",
       "      <td>0.000000</td>\n",
       "    </tr>\n",
       "  </tbody>\n",
       "</table>\n",
       "</div>"
      ],
      "text/plain": [
       "            DailyPositive\n",
       "Date                     \n",
       "2021-06-20    2793.000000\n",
       "2021-06-21    2920.428571\n",
       "2021-06-22    3012.142857\n",
       "2021-06-23    3158.142857\n",
       "2021-06-24    3227.428571\n",
       "2021-06-25    3292.285714\n",
       "2021-06-26    3321.857143\n",
       "2021-06-27    3307.000000\n",
       "2021-06-28    3229.714286\n",
       "2021-06-29    3116.142857\n",
       "2021-06-30    2972.000000\n",
       "2021-07-01    2870.857143\n",
       "2021-07-02    2771.000000\n",
       "2021-07-03    2671.142857\n",
       "2021-07-04    2594.857143\n",
       "2021-07-05    2477.285714\n",
       "2021-07-06    2365.428571\n",
       "2021-07-07    2004.142857\n",
       "2021-07-08       0.000000\n",
       "2021-07-09       0.000000\n",
       "2021-07-10       0.000000\n",
       "2021-07-11       0.000000\n",
       "2021-07-12       0.000000\n",
       "2021-07-13       0.000000\n",
       "2021-07-14       0.000000"
      ]
     },
     "execution_count": 22,
     "metadata": {},
     "output_type": "execute_result"
    }
   ],
   "source": [
    "df_cases1 = ((df_cases.rolling(7).mean())).shift(-7).rolling(1).mean().fillna(0)\n",
    "# shift(-7) moves it back by 7 days to the day of exposure.\n",
    "df_cases1.tail(25)"
   ]
  },
  {
   "cell_type": "code",
   "execution_count": 23,
   "id": "dd3d4ee7",
   "metadata": {},
   "outputs": [
    {
     "name": "stderr",
     "output_type": "stream",
     "text": [
      "C:\\Users\\Maria\\Anaconda3\\lib\\site-packages\\pandas\\core\\generic.py:5170: SettingWithCopyWarning: \n",
      "A value is trying to be set on a copy of a slice from a DataFrame.\n",
      "Try using .loc[row_indexer,col_indexer] = value instead\n",
      "\n",
      "See the caveats in the documentation: https://pandas.pydata.org/pandas-docs/stable/user_guide/indexing.html#returning-a-view-versus-a-copy\n",
      "  self[name] = value\n"
     ]
    },
    {
     "data": {
      "text/html": [
       "<div>\n",
       "<style scoped>\n",
       "    .dataframe tbody tr th:only-of-type {\n",
       "        vertical-align: middle;\n",
       "    }\n",
       "\n",
       "    .dataframe tbody tr th {\n",
       "        vertical-align: top;\n",
       "    }\n",
       "\n",
       "    .dataframe thead th {\n",
       "        text-align: right;\n",
       "    }\n",
       "</style>\n",
       "<table border=\"1\" class=\"dataframe\">\n",
       "  <thead>\n",
       "    <tr style=\"text-align: right;\">\n",
       "      <th></th>\n",
       "      <th>DailyPositive</th>\n",
       "    </tr>\n",
       "    <tr>\n",
       "      <th>Date</th>\n",
       "      <th></th>\n",
       "    </tr>\n",
       "  </thead>\n",
       "  <tbody>\n",
       "    <tr>\n",
       "      <th>2021-06-11</th>\n",
       "      <td>1090</td>\n",
       "    </tr>\n",
       "    <tr>\n",
       "      <th>2021-06-12</th>\n",
       "      <td>1132</td>\n",
       "    </tr>\n",
       "    <tr>\n",
       "      <th>2021-06-13</th>\n",
       "      <td>1232</td>\n",
       "    </tr>\n",
       "    <tr>\n",
       "      <th>2021-06-14</th>\n",
       "      <td>1503</td>\n",
       "    </tr>\n",
       "    <tr>\n",
       "      <th>2021-06-15</th>\n",
       "      <td>1782</td>\n",
       "    </tr>\n",
       "    <tr>\n",
       "      <th>2021-06-16</th>\n",
       "      <td>2015</td>\n",
       "    </tr>\n",
       "    <tr>\n",
       "      <th>2021-06-17</th>\n",
       "      <td>2271</td>\n",
       "    </tr>\n",
       "    <tr>\n",
       "      <th>2021-06-18</th>\n",
       "      <td>2470</td>\n",
       "    </tr>\n",
       "    <tr>\n",
       "      <th>2021-06-19</th>\n",
       "      <td>2656</td>\n",
       "    </tr>\n",
       "    <tr>\n",
       "      <th>2021-06-20</th>\n",
       "      <td>2793</td>\n",
       "    </tr>\n",
       "    <tr>\n",
       "      <th>2021-06-21</th>\n",
       "      <td>2920</td>\n",
       "    </tr>\n",
       "    <tr>\n",
       "      <th>2021-06-22</th>\n",
       "      <td>3012</td>\n",
       "    </tr>\n",
       "    <tr>\n",
       "      <th>2021-06-23</th>\n",
       "      <td>3158</td>\n",
       "    </tr>\n",
       "    <tr>\n",
       "      <th>2021-06-24</th>\n",
       "      <td>3227</td>\n",
       "    </tr>\n",
       "    <tr>\n",
       "      <th>2021-06-25</th>\n",
       "      <td>3292</td>\n",
       "    </tr>\n",
       "    <tr>\n",
       "      <th>2021-06-26</th>\n",
       "      <td>3322</td>\n",
       "    </tr>\n",
       "    <tr>\n",
       "      <th>2021-06-27</th>\n",
       "      <td>3307</td>\n",
       "    </tr>\n",
       "    <tr>\n",
       "      <th>2021-06-28</th>\n",
       "      <td>3230</td>\n",
       "    </tr>\n",
       "    <tr>\n",
       "      <th>2021-06-29</th>\n",
       "      <td>3116</td>\n",
       "    </tr>\n",
       "    <tr>\n",
       "      <th>2021-06-30</th>\n",
       "      <td>2972</td>\n",
       "    </tr>\n",
       "  </tbody>\n",
       "</table>\n",
       "</div>"
      ],
      "text/plain": [
       "            DailyPositive\n",
       "Date                     \n",
       "2021-06-11           1090\n",
       "2021-06-12           1132\n",
       "2021-06-13           1232\n",
       "2021-06-14           1503\n",
       "2021-06-15           1782\n",
       "2021-06-16           2015\n",
       "2021-06-17           2271\n",
       "2021-06-18           2470\n",
       "2021-06-19           2656\n",
       "2021-06-20           2793\n",
       "2021-06-21           2920\n",
       "2021-06-22           3012\n",
       "2021-06-23           3158\n",
       "2021-06-24           3227\n",
       "2021-06-25           3292\n",
       "2021-06-26           3322\n",
       "2021-06-27           3307\n",
       "2021-06-28           3230\n",
       "2021-06-29           3116\n",
       "2021-06-30           2972"
      ]
     },
     "execution_count": 23,
     "metadata": {},
     "output_type": "execute_result"
    }
   ],
   "source": [
    "cases = df_cases1.loc[(df_cases1.index>='2021-01-05')&(df_cases1.index<='2021-06-30')]\n",
    "cases.DailyPositive = cases.DailyPositive.round(0).astype(int)\n",
    "cases.to_csv('output_raw_cases.csv')\n",
    "cases.tail(20)"
   ]
  },
  {
   "cell_type": "markdown",
   "id": "86a45636",
   "metadata": {},
   "source": [
    "## Deaths"
   ]
  },
  {
   "cell_type": "code",
   "execution_count": 24,
   "id": "64a7af19",
   "metadata": {},
   "outputs": [
    {
     "data": {
      "text/html": [
       "<div>\n",
       "<style scoped>\n",
       "    .dataframe tbody tr th:only-of-type {\n",
       "        vertical-align: middle;\n",
       "    }\n",
       "\n",
       "    .dataframe tbody tr th {\n",
       "        vertical-align: top;\n",
       "    }\n",
       "\n",
       "    .dataframe thead th {\n",
       "        text-align: right;\n",
       "    }\n",
       "</style>\n",
       "<table border=\"1\" class=\"dataframe\">\n",
       "  <thead>\n",
       "    <tr style=\"text-align: right;\">\n",
       "      <th></th>\n",
       "      <th>Date</th>\n",
       "      <th>CA</th>\n",
       "      <th>CAName</th>\n",
       "      <th>DailyDeaths</th>\n",
       "    </tr>\n",
       "    <tr>\n",
       "      <th>ï»¿_id</th>\n",
       "      <th></th>\n",
       "      <th></th>\n",
       "      <th></th>\n",
       "      <th></th>\n",
       "    </tr>\n",
       "  </thead>\n",
       "  <tbody>\n",
       "    <tr>\n",
       "      <th>1</th>\n",
       "      <td>2020-02-28</td>\n",
       "      <td>S12000005</td>\n",
       "      <td>Clackmannanshire</td>\n",
       "      <td>0</td>\n",
       "    </tr>\n",
       "    <tr>\n",
       "      <th>2</th>\n",
       "      <td>2020-02-28</td>\n",
       "      <td>S12000006</td>\n",
       "      <td>Dumfries &amp; Galloway</td>\n",
       "      <td>0</td>\n",
       "    </tr>\n",
       "    <tr>\n",
       "      <th>3</th>\n",
       "      <td>2020-02-28</td>\n",
       "      <td>S12000008</td>\n",
       "      <td>East Ayrshire</td>\n",
       "      <td>0</td>\n",
       "    </tr>\n",
       "    <tr>\n",
       "      <th>4</th>\n",
       "      <td>2020-02-28</td>\n",
       "      <td>S12000010</td>\n",
       "      <td>East Lothian</td>\n",
       "      <td>0</td>\n",
       "    </tr>\n",
       "    <tr>\n",
       "      <th>5</th>\n",
       "      <td>2020-02-28</td>\n",
       "      <td>S12000011</td>\n",
       "      <td>East Renfrewshire</td>\n",
       "      <td>0</td>\n",
       "    </tr>\n",
       "  </tbody>\n",
       "</table>\n",
       "</div>"
      ],
      "text/plain": [
       "             Date         CA               CAName  DailyDeaths\n",
       "ï»¿_id                                                        \n",
       "1      2020-02-28  S12000005     Clackmannanshire            0\n",
       "2      2020-02-28  S12000006  Dumfries & Galloway            0\n",
       "3      2020-02-28  S12000008        East Ayrshire            0\n",
       "4      2020-02-28  S12000010         East Lothian            0\n",
       "5      2020-02-28  S12000011    East Renfrewshire            0"
      ]
     },
     "execution_count": 24,
     "metadata": {},
     "output_type": "execute_result"
    }
   ],
   "source": [
    "df_deaths = df[[ 'Date', 'CA', 'CAName', 'DailyDeaths']]#.set_index('Date')\n",
    "df_deaths.head()"
   ]
  },
  {
   "cell_type": "code",
   "execution_count": 25,
   "id": "63d14f3e",
   "metadata": {},
   "outputs": [
    {
     "data": {
      "text/html": [
       "<div>\n",
       "<style scoped>\n",
       "    .dataframe tbody tr th:only-of-type {\n",
       "        vertical-align: middle;\n",
       "    }\n",
       "\n",
       "    .dataframe tbody tr th {\n",
       "        vertical-align: top;\n",
       "    }\n",
       "\n",
       "    .dataframe thead th {\n",
       "        text-align: right;\n",
       "    }\n",
       "</style>\n",
       "<table border=\"1\" class=\"dataframe\">\n",
       "  <thead>\n",
       "    <tr style=\"text-align: right;\">\n",
       "      <th></th>\n",
       "      <th>DailyDeaths</th>\n",
       "    </tr>\n",
       "    <tr>\n",
       "      <th>Date</th>\n",
       "      <th></th>\n",
       "    </tr>\n",
       "  </thead>\n",
       "  <tbody>\n",
       "    <tr>\n",
       "      <th>2021-06-25</th>\n",
       "      <td>1</td>\n",
       "    </tr>\n",
       "    <tr>\n",
       "      <th>2021-06-26</th>\n",
       "      <td>8</td>\n",
       "    </tr>\n",
       "    <tr>\n",
       "      <th>2021-06-27</th>\n",
       "      <td>3</td>\n",
       "    </tr>\n",
       "    <tr>\n",
       "      <th>2021-06-28</th>\n",
       "      <td>3</td>\n",
       "    </tr>\n",
       "    <tr>\n",
       "      <th>2021-06-29</th>\n",
       "      <td>3</td>\n",
       "    </tr>\n",
       "    <tr>\n",
       "      <th>2021-06-30</th>\n",
       "      <td>1</td>\n",
       "    </tr>\n",
       "    <tr>\n",
       "      <th>2021-07-01</th>\n",
       "      <td>1</td>\n",
       "    </tr>\n",
       "    <tr>\n",
       "      <th>2021-07-02</th>\n",
       "      <td>2</td>\n",
       "    </tr>\n",
       "    <tr>\n",
       "      <th>2021-07-03</th>\n",
       "      <td>3</td>\n",
       "    </tr>\n",
       "    <tr>\n",
       "      <th>2021-07-04</th>\n",
       "      <td>6</td>\n",
       "    </tr>\n",
       "    <tr>\n",
       "      <th>2021-07-05</th>\n",
       "      <td>5</td>\n",
       "    </tr>\n",
       "    <tr>\n",
       "      <th>2021-07-06</th>\n",
       "      <td>11</td>\n",
       "    </tr>\n",
       "    <tr>\n",
       "      <th>2021-07-07</th>\n",
       "      <td>3</td>\n",
       "    </tr>\n",
       "    <tr>\n",
       "      <th>2021-07-08</th>\n",
       "      <td>9</td>\n",
       "    </tr>\n",
       "    <tr>\n",
       "      <th>2021-07-09</th>\n",
       "      <td>4</td>\n",
       "    </tr>\n",
       "    <tr>\n",
       "      <th>2021-07-10</th>\n",
       "      <td>6</td>\n",
       "    </tr>\n",
       "    <tr>\n",
       "      <th>2021-07-11</th>\n",
       "      <td>5</td>\n",
       "    </tr>\n",
       "    <tr>\n",
       "      <th>2021-07-12</th>\n",
       "      <td>3</td>\n",
       "    </tr>\n",
       "    <tr>\n",
       "      <th>2021-07-13</th>\n",
       "      <td>1</td>\n",
       "    </tr>\n",
       "    <tr>\n",
       "      <th>2021-07-14</th>\n",
       "      <td>0</td>\n",
       "    </tr>\n",
       "  </tbody>\n",
       "</table>\n",
       "</div>"
      ],
      "text/plain": [
       "            DailyDeaths\n",
       "Date                   \n",
       "2021-06-25            1\n",
       "2021-06-26            8\n",
       "2021-06-27            3\n",
       "2021-06-28            3\n",
       "2021-06-29            3\n",
       "2021-06-30            1\n",
       "2021-07-01            1\n",
       "2021-07-02            2\n",
       "2021-07-03            3\n",
       "2021-07-04            6\n",
       "2021-07-05            5\n",
       "2021-07-06           11\n",
       "2021-07-07            3\n",
       "2021-07-08            9\n",
       "2021-07-09            4\n",
       "2021-07-10            6\n",
       "2021-07-11            5\n",
       "2021-07-12            3\n",
       "2021-07-13            1\n",
       "2021-07-14            0"
      ]
     },
     "execution_count": 25,
     "metadata": {},
     "output_type": "execute_result"
    }
   ],
   "source": [
    "df_deaths = df_deaths.groupby(['Date']).sum()\n",
    "df_deaths.tail(20)"
   ]
  },
  {
   "cell_type": "code",
   "execution_count": 26,
   "id": "2791a0d0",
   "metadata": {},
   "outputs": [
    {
     "data": {
      "text/html": [
       "<div>\n",
       "<style scoped>\n",
       "    .dataframe tbody tr th:only-of-type {\n",
       "        vertical-align: middle;\n",
       "    }\n",
       "\n",
       "    .dataframe tbody tr th {\n",
       "        vertical-align: top;\n",
       "    }\n",
       "\n",
       "    .dataframe thead th {\n",
       "        text-align: right;\n",
       "    }\n",
       "</style>\n",
       "<table border=\"1\" class=\"dataframe\">\n",
       "  <thead>\n",
       "    <tr style=\"text-align: right;\">\n",
       "      <th></th>\n",
       "      <th>DailyDeaths</th>\n",
       "    </tr>\n",
       "    <tr>\n",
       "      <th>Date</th>\n",
       "      <th></th>\n",
       "    </tr>\n",
       "  </thead>\n",
       "  <tbody>\n",
       "  </tbody>\n",
       "</table>\n",
       "</div>"
      ],
      "text/plain": [
       "Empty DataFrame\n",
       "Columns: [DailyDeaths]\n",
       "Index: []"
      ]
     },
     "execution_count": 26,
     "metadata": {},
     "output_type": "execute_result"
    }
   ],
   "source": [
    "# checking for inf\n",
    "n = df_deaths.rolling(7).mean()\n",
    "\n",
    "n.loc[n.DailyDeaths==np.inf]"
   ]
  },
  {
   "cell_type": "code",
   "execution_count": null,
   "id": "66b61a37",
   "metadata": {},
   "outputs": [],
   "source": [
    "df_deaths = (df_deaths.rolling(7).mean()) \\\n",
    "            .shift(-14).rolling(1).mean().fillna(0)\n",
    "\n",
    "# shift(-14) moves each value back by 14 days"
   ]
  },
  {
   "cell_type": "code",
   "execution_count": 27,
   "id": "91f31537",
   "metadata": {},
   "outputs": [
    {
     "data": {
      "text/html": [
       "<div>\n",
       "<style scoped>\n",
       "    .dataframe tbody tr th:only-of-type {\n",
       "        vertical-align: middle;\n",
       "    }\n",
       "\n",
       "    .dataframe tbody tr th {\n",
       "        vertical-align: top;\n",
       "    }\n",
       "\n",
       "    .dataframe thead th {\n",
       "        text-align: right;\n",
       "    }\n",
       "</style>\n",
       "<table border=\"1\" class=\"dataframe\">\n",
       "  <thead>\n",
       "    <tr style=\"text-align: right;\">\n",
       "      <th></th>\n",
       "      <th>DailyDeaths</th>\n",
       "    </tr>\n",
       "    <tr>\n",
       "      <th>Date</th>\n",
       "      <th></th>\n",
       "    </tr>\n",
       "  </thead>\n",
       "  <tbody>\n",
       "    <tr>\n",
       "      <th>2021-06-25</th>\n",
       "      <td>5.857143</td>\n",
       "    </tr>\n",
       "    <tr>\n",
       "      <th>2021-06-26</th>\n",
       "      <td>6.285714</td>\n",
       "    </tr>\n",
       "    <tr>\n",
       "      <th>2021-06-27</th>\n",
       "      <td>6.142857</td>\n",
       "    </tr>\n",
       "    <tr>\n",
       "      <th>2021-06-28</th>\n",
       "      <td>5.857143</td>\n",
       "    </tr>\n",
       "    <tr>\n",
       "      <th>2021-06-29</th>\n",
       "      <td>4.428571</td>\n",
       "    </tr>\n",
       "    <tr>\n",
       "      <th>2021-06-30</th>\n",
       "      <td>4.000000</td>\n",
       "    </tr>\n",
       "    <tr>\n",
       "      <th>2021-07-01</th>\n",
       "      <td>0.000000</td>\n",
       "    </tr>\n",
       "    <tr>\n",
       "      <th>2021-07-02</th>\n",
       "      <td>0.000000</td>\n",
       "    </tr>\n",
       "    <tr>\n",
       "      <th>2021-07-03</th>\n",
       "      <td>0.000000</td>\n",
       "    </tr>\n",
       "    <tr>\n",
       "      <th>2021-07-04</th>\n",
       "      <td>0.000000</td>\n",
       "    </tr>\n",
       "    <tr>\n",
       "      <th>2021-07-05</th>\n",
       "      <td>0.000000</td>\n",
       "    </tr>\n",
       "    <tr>\n",
       "      <th>2021-07-06</th>\n",
       "      <td>0.000000</td>\n",
       "    </tr>\n",
       "    <tr>\n",
       "      <th>2021-07-07</th>\n",
       "      <td>0.000000</td>\n",
       "    </tr>\n",
       "    <tr>\n",
       "      <th>2021-07-08</th>\n",
       "      <td>0.000000</td>\n",
       "    </tr>\n",
       "    <tr>\n",
       "      <th>2021-07-09</th>\n",
       "      <td>0.000000</td>\n",
       "    </tr>\n",
       "    <tr>\n",
       "      <th>2021-07-10</th>\n",
       "      <td>0.000000</td>\n",
       "    </tr>\n",
       "    <tr>\n",
       "      <th>2021-07-11</th>\n",
       "      <td>0.000000</td>\n",
       "    </tr>\n",
       "    <tr>\n",
       "      <th>2021-07-12</th>\n",
       "      <td>0.000000</td>\n",
       "    </tr>\n",
       "    <tr>\n",
       "      <th>2021-07-13</th>\n",
       "      <td>0.000000</td>\n",
       "    </tr>\n",
       "    <tr>\n",
       "      <th>2021-07-14</th>\n",
       "      <td>0.000000</td>\n",
       "    </tr>\n",
       "  </tbody>\n",
       "</table>\n",
       "</div>"
      ],
      "text/plain": [
       "            DailyDeaths\n",
       "Date                   \n",
       "2021-06-25     5.857143\n",
       "2021-06-26     6.285714\n",
       "2021-06-27     6.142857\n",
       "2021-06-28     5.857143\n",
       "2021-06-29     4.428571\n",
       "2021-06-30     4.000000\n",
       "2021-07-01     0.000000\n",
       "2021-07-02     0.000000\n",
       "2021-07-03     0.000000\n",
       "2021-07-04     0.000000\n",
       "2021-07-05     0.000000\n",
       "2021-07-06     0.000000\n",
       "2021-07-07     0.000000\n",
       "2021-07-08     0.000000\n",
       "2021-07-09     0.000000\n",
       "2021-07-10     0.000000\n",
       "2021-07-11     0.000000\n",
       "2021-07-12     0.000000\n",
       "2021-07-13     0.000000\n",
       "2021-07-14     0.000000"
      ]
     },
     "execution_count": 27,
     "metadata": {},
     "output_type": "execute_result"
    }
   ],
   "source": [
    "df_deaths1 = (df_deaths.rolling(7).mean()).shift(-14).rolling(1).mean().fillna(0)\n",
    "# shift back by 14 days\n",
    "df_deaths1.tail(20)"
   ]
  },
  {
   "cell_type": "code",
   "execution_count": 28,
   "id": "601943de",
   "metadata": {},
   "outputs": [
    {
     "name": "stderr",
     "output_type": "stream",
     "text": [
      "C:\\Users\\Maria\\Anaconda3\\lib\\site-packages\\pandas\\core\\generic.py:5170: SettingWithCopyWarning: \n",
      "A value is trying to be set on a copy of a slice from a DataFrame.\n",
      "Try using .loc[row_indexer,col_indexer] = value instead\n",
      "\n",
      "See the caveats in the documentation: https://pandas.pydata.org/pandas-docs/stable/user_guide/indexing.html#returning-a-view-versus-a-copy\n",
      "  self[name] = value\n"
     ]
    },
    {
     "data": {
      "text/html": [
       "<div>\n",
       "<style scoped>\n",
       "    .dataframe tbody tr th:only-of-type {\n",
       "        vertical-align: middle;\n",
       "    }\n",
       "\n",
       "    .dataframe tbody tr th {\n",
       "        vertical-align: top;\n",
       "    }\n",
       "\n",
       "    .dataframe thead th {\n",
       "        text-align: right;\n",
       "    }\n",
       "</style>\n",
       "<table border=\"1\" class=\"dataframe\">\n",
       "  <thead>\n",
       "    <tr style=\"text-align: right;\">\n",
       "      <th></th>\n",
       "      <th>DailyDeaths</th>\n",
       "    </tr>\n",
       "    <tr>\n",
       "      <th>Date</th>\n",
       "      <th></th>\n",
       "    </tr>\n",
       "  </thead>\n",
       "  <tbody>\n",
       "    <tr>\n",
       "      <th>2021-05-12</th>\n",
       "      <td>1</td>\n",
       "    </tr>\n",
       "    <tr>\n",
       "      <th>2021-05-13</th>\n",
       "      <td>1</td>\n",
       "    </tr>\n",
       "    <tr>\n",
       "      <th>2021-05-14</th>\n",
       "      <td>1</td>\n",
       "    </tr>\n",
       "    <tr>\n",
       "      <th>2021-05-15</th>\n",
       "      <td>1</td>\n",
       "    </tr>\n",
       "    <tr>\n",
       "      <th>2021-05-16</th>\n",
       "      <td>1</td>\n",
       "    </tr>\n",
       "    <tr>\n",
       "      <th>2021-05-17</th>\n",
       "      <td>1</td>\n",
       "    </tr>\n",
       "    <tr>\n",
       "      <th>2021-05-18</th>\n",
       "      <td>1</td>\n",
       "    </tr>\n",
       "    <tr>\n",
       "      <th>2021-05-19</th>\n",
       "      <td>1</td>\n",
       "    </tr>\n",
       "    <tr>\n",
       "      <th>2021-05-20</th>\n",
       "      <td>1</td>\n",
       "    </tr>\n",
       "    <tr>\n",
       "      <th>2021-05-21</th>\n",
       "      <td>1</td>\n",
       "    </tr>\n",
       "    <tr>\n",
       "      <th>2021-05-22</th>\n",
       "      <td>1</td>\n",
       "    </tr>\n",
       "    <tr>\n",
       "      <th>2021-05-23</th>\n",
       "      <td>1</td>\n",
       "    </tr>\n",
       "    <tr>\n",
       "      <th>2021-05-24</th>\n",
       "      <td>1</td>\n",
       "    </tr>\n",
       "    <tr>\n",
       "      <th>2021-05-25</th>\n",
       "      <td>1</td>\n",
       "    </tr>\n",
       "    <tr>\n",
       "      <th>2021-05-26</th>\n",
       "      <td>1</td>\n",
       "    </tr>\n",
       "    <tr>\n",
       "      <th>2021-05-27</th>\n",
       "      <td>1</td>\n",
       "    </tr>\n",
       "    <tr>\n",
       "      <th>2021-05-28</th>\n",
       "      <td>1</td>\n",
       "    </tr>\n",
       "    <tr>\n",
       "      <th>2021-05-29</th>\n",
       "      <td>1</td>\n",
       "    </tr>\n",
       "    <tr>\n",
       "      <th>2021-05-30</th>\n",
       "      <td>1</td>\n",
       "    </tr>\n",
       "    <tr>\n",
       "      <th>2021-05-31</th>\n",
       "      <td>1</td>\n",
       "    </tr>\n",
       "    <tr>\n",
       "      <th>2021-06-01</th>\n",
       "      <td>2</td>\n",
       "    </tr>\n",
       "    <tr>\n",
       "      <th>2021-06-02</th>\n",
       "      <td>2</td>\n",
       "    </tr>\n",
       "    <tr>\n",
       "      <th>2021-06-03</th>\n",
       "      <td>2</td>\n",
       "    </tr>\n",
       "    <tr>\n",
       "      <th>2021-06-04</th>\n",
       "      <td>2</td>\n",
       "    </tr>\n",
       "    <tr>\n",
       "      <th>2021-06-05</th>\n",
       "      <td>2</td>\n",
       "    </tr>\n",
       "    <tr>\n",
       "      <th>2021-06-06</th>\n",
       "      <td>2</td>\n",
       "    </tr>\n",
       "    <tr>\n",
       "      <th>2021-06-07</th>\n",
       "      <td>2</td>\n",
       "    </tr>\n",
       "    <tr>\n",
       "      <th>2021-06-08</th>\n",
       "      <td>2</td>\n",
       "    </tr>\n",
       "    <tr>\n",
       "      <th>2021-06-09</th>\n",
       "      <td>2</td>\n",
       "    </tr>\n",
       "    <tr>\n",
       "      <th>2021-06-10</th>\n",
       "      <td>2</td>\n",
       "    </tr>\n",
       "    <tr>\n",
       "      <th>2021-06-11</th>\n",
       "      <td>2</td>\n",
       "    </tr>\n",
       "    <tr>\n",
       "      <th>2021-06-12</th>\n",
       "      <td>3</td>\n",
       "    </tr>\n",
       "    <tr>\n",
       "      <th>2021-06-13</th>\n",
       "      <td>3</td>\n",
       "    </tr>\n",
       "    <tr>\n",
       "      <th>2021-06-14</th>\n",
       "      <td>3</td>\n",
       "    </tr>\n",
       "    <tr>\n",
       "      <th>2021-06-15</th>\n",
       "      <td>3</td>\n",
       "    </tr>\n",
       "    <tr>\n",
       "      <th>2021-06-16</th>\n",
       "      <td>3</td>\n",
       "    </tr>\n",
       "    <tr>\n",
       "      <th>2021-06-17</th>\n",
       "      <td>3</td>\n",
       "    </tr>\n",
       "    <tr>\n",
       "      <th>2021-06-18</th>\n",
       "      <td>3</td>\n",
       "    </tr>\n",
       "    <tr>\n",
       "      <th>2021-06-19</th>\n",
       "      <td>2</td>\n",
       "    </tr>\n",
       "    <tr>\n",
       "      <th>2021-06-20</th>\n",
       "      <td>3</td>\n",
       "    </tr>\n",
       "    <tr>\n",
       "      <th>2021-06-21</th>\n",
       "      <td>3</td>\n",
       "    </tr>\n",
       "    <tr>\n",
       "      <th>2021-06-22</th>\n",
       "      <td>4</td>\n",
       "    </tr>\n",
       "    <tr>\n",
       "      <th>2021-06-23</th>\n",
       "      <td>4</td>\n",
       "    </tr>\n",
       "    <tr>\n",
       "      <th>2021-06-24</th>\n",
       "      <td>6</td>\n",
       "    </tr>\n",
       "    <tr>\n",
       "      <th>2021-06-25</th>\n",
       "      <td>6</td>\n",
       "    </tr>\n",
       "    <tr>\n",
       "      <th>2021-06-26</th>\n",
       "      <td>6</td>\n",
       "    </tr>\n",
       "    <tr>\n",
       "      <th>2021-06-27</th>\n",
       "      <td>6</td>\n",
       "    </tr>\n",
       "    <tr>\n",
       "      <th>2021-06-28</th>\n",
       "      <td>6</td>\n",
       "    </tr>\n",
       "    <tr>\n",
       "      <th>2021-06-29</th>\n",
       "      <td>4</td>\n",
       "    </tr>\n",
       "    <tr>\n",
       "      <th>2021-06-30</th>\n",
       "      <td>4</td>\n",
       "    </tr>\n",
       "  </tbody>\n",
       "</table>\n",
       "</div>"
      ],
      "text/plain": [
       "            DailyDeaths\n",
       "Date                   \n",
       "2021-05-12            1\n",
       "2021-05-13            1\n",
       "2021-05-14            1\n",
       "2021-05-15            1\n",
       "2021-05-16            1\n",
       "2021-05-17            1\n",
       "2021-05-18            1\n",
       "2021-05-19            1\n",
       "2021-05-20            1\n",
       "2021-05-21            1\n",
       "2021-05-22            1\n",
       "2021-05-23            1\n",
       "2021-05-24            1\n",
       "2021-05-25            1\n",
       "2021-05-26            1\n",
       "2021-05-27            1\n",
       "2021-05-28            1\n",
       "2021-05-29            1\n",
       "2021-05-30            1\n",
       "2021-05-31            1\n",
       "2021-06-01            2\n",
       "2021-06-02            2\n",
       "2021-06-03            2\n",
       "2021-06-04            2\n",
       "2021-06-05            2\n",
       "2021-06-06            2\n",
       "2021-06-07            2\n",
       "2021-06-08            2\n",
       "2021-06-09            2\n",
       "2021-06-10            2\n",
       "2021-06-11            2\n",
       "2021-06-12            3\n",
       "2021-06-13            3\n",
       "2021-06-14            3\n",
       "2021-06-15            3\n",
       "2021-06-16            3\n",
       "2021-06-17            3\n",
       "2021-06-18            3\n",
       "2021-06-19            2\n",
       "2021-06-20            3\n",
       "2021-06-21            3\n",
       "2021-06-22            4\n",
       "2021-06-23            4\n",
       "2021-06-24            6\n",
       "2021-06-25            6\n",
       "2021-06-26            6\n",
       "2021-06-27            6\n",
       "2021-06-28            6\n",
       "2021-06-29            4\n",
       "2021-06-30            4"
      ]
     },
     "execution_count": 28,
     "metadata": {},
     "output_type": "execute_result"
    }
   ],
   "source": [
    "deaths = df_deaths1.loc[(df_deaths1.index>='2021-01-05')&(df_deaths1.index<='2021-06-30')]\n",
    "deaths.DailyDeaths = deaths.DailyDeaths.round(0).astype(int)\n",
    "deaths.to_csv('output_raw_deaths.csv')\n",
    "deaths.tail(50)"
   ]
  },
  {
   "cell_type": "markdown",
   "id": "2fca865a",
   "metadata": {},
   "source": [
    "## Hospital Admissions"
   ]
  },
  {
   "cell_type": "code",
   "execution_count": 29,
   "id": "1bd14697",
   "metadata": {},
   "outputs": [
    {
     "data": {
      "text/html": [
       "<div>\n",
       "<style scoped>\n",
       "    .dataframe tbody tr th:only-of-type {\n",
       "        vertical-align: middle;\n",
       "    }\n",
       "\n",
       "    .dataframe tbody tr th {\n",
       "        vertical-align: top;\n",
       "    }\n",
       "\n",
       "    .dataframe thead th {\n",
       "        text-align: right;\n",
       "    }\n",
       "</style>\n",
       "<table border=\"1\" class=\"dataframe\">\n",
       "  <thead>\n",
       "    <tr style=\"text-align: right;\">\n",
       "      <th></th>\n",
       "      <th>Date</th>\n",
       "      <th>HospitalAdmissions</th>\n",
       "    </tr>\n",
       "  </thead>\n",
       "  <tbody>\n",
       "    <tr>\n",
       "      <th>0</th>\n",
       "      <td>20200228</td>\n",
       "      <td>NaN</td>\n",
       "    </tr>\n",
       "    <tr>\n",
       "      <th>1</th>\n",
       "      <td>20200228</td>\n",
       "      <td>NaN</td>\n",
       "    </tr>\n",
       "    <tr>\n",
       "      <th>2</th>\n",
       "      <td>20200228</td>\n",
       "      <td>NaN</td>\n",
       "    </tr>\n",
       "    <tr>\n",
       "      <th>3</th>\n",
       "      <td>20200228</td>\n",
       "      <td>NaN</td>\n",
       "    </tr>\n",
       "    <tr>\n",
       "      <th>4</th>\n",
       "      <td>20200228</td>\n",
       "      <td>NaN</td>\n",
       "    </tr>\n",
       "  </tbody>\n",
       "</table>\n",
       "</div>"
      ],
      "text/plain": [
       "       Date  HospitalAdmissions\n",
       "0  20200228                 NaN\n",
       "1  20200228                 NaN\n",
       "2  20200228                 NaN\n",
       "3  20200228                 NaN\n",
       "4  20200228                 NaN"
      ]
     },
     "execution_count": 29,
     "metadata": {},
     "output_type": "execute_result"
    }
   ],
   "source": [
    "cols = ['Date','HospitalAdmissions']\n",
    "df_ha = pd.read_csv('../MyVizProject/data_hospital_admissions_HB.csv',na_values='',usecols=cols,encoding = \"ISO-8859-1\")\n",
    "df_ha.head()"
   ]
  },
  {
   "cell_type": "code",
   "execution_count": 30,
   "id": "44a0e472",
   "metadata": {},
   "outputs": [],
   "source": [
    "df_ha[\"Date\"] = pd.to_datetime(df_ha.loc[:, 'Date'], format='%Y%m%d')\n",
    "#df_ha.head()"
   ]
  },
  {
   "cell_type": "code",
   "execution_count": 31,
   "id": "45cbe171",
   "metadata": {},
   "outputs": [
    {
     "data": {
      "text/html": [
       "<div>\n",
       "<style scoped>\n",
       "    .dataframe tbody tr th:only-of-type {\n",
       "        vertical-align: middle;\n",
       "    }\n",
       "\n",
       "    .dataframe tbody tr th {\n",
       "        vertical-align: top;\n",
       "    }\n",
       "\n",
       "    .dataframe thead th {\n",
       "        text-align: right;\n",
       "    }\n",
       "</style>\n",
       "<table border=\"1\" class=\"dataframe\">\n",
       "  <thead>\n",
       "    <tr style=\"text-align: right;\">\n",
       "      <th></th>\n",
       "      <th>HospitalAdmissions</th>\n",
       "    </tr>\n",
       "    <tr>\n",
       "      <th>Date</th>\n",
       "      <th></th>\n",
       "    </tr>\n",
       "  </thead>\n",
       "  <tbody>\n",
       "    <tr>\n",
       "      <th>2020-02-28</th>\n",
       "      <td>0.0</td>\n",
       "    </tr>\n",
       "    <tr>\n",
       "      <th>2020-02-29</th>\n",
       "      <td>0.0</td>\n",
       "    </tr>\n",
       "    <tr>\n",
       "      <th>2020-03-01</th>\n",
       "      <td>5.0</td>\n",
       "    </tr>\n",
       "    <tr>\n",
       "      <th>2020-03-02</th>\n",
       "      <td>11.0</td>\n",
       "    </tr>\n",
       "    <tr>\n",
       "      <th>2020-03-03</th>\n",
       "      <td>13.0</td>\n",
       "    </tr>\n",
       "    <tr>\n",
       "      <th>2020-03-04</th>\n",
       "      <td>10.0</td>\n",
       "    </tr>\n",
       "    <tr>\n",
       "      <th>2020-03-05</th>\n",
       "      <td>19.0</td>\n",
       "    </tr>\n",
       "    <tr>\n",
       "      <th>2020-03-06</th>\n",
       "      <td>21.0</td>\n",
       "    </tr>\n",
       "    <tr>\n",
       "      <th>2020-03-07</th>\n",
       "      <td>10.0</td>\n",
       "    </tr>\n",
       "    <tr>\n",
       "      <th>2020-03-08</th>\n",
       "      <td>11.0</td>\n",
       "    </tr>\n",
       "  </tbody>\n",
       "</table>\n",
       "</div>"
      ],
      "text/plain": [
       "            HospitalAdmissions\n",
       "Date                          \n",
       "2020-02-28                 0.0\n",
       "2020-02-29                 0.0\n",
       "2020-03-01                 5.0\n",
       "2020-03-02                11.0\n",
       "2020-03-03                13.0\n",
       "2020-03-04                10.0\n",
       "2020-03-05                19.0\n",
       "2020-03-06                21.0\n",
       "2020-03-07                10.0\n",
       "2020-03-08                11.0"
      ]
     },
     "execution_count": 31,
     "metadata": {},
     "output_type": "execute_result"
    }
   ],
   "source": [
    "df_ha = df_ha.groupby(['Date']).sum()\n",
    "df_ha.head(10)"
   ]
  },
  {
   "cell_type": "code",
   "execution_count": null,
   "id": "02de70e7",
   "metadata": {},
   "outputs": [],
   "source": [
    "df_ha = ((df_ha.rolling(7).mean())) \\\n",
    "        .shift(-11).rolling(1).mean().fillna(0)\n",
    "\n",
    "# shift(-11) moves each value back by 11 days."
   ]
  },
  {
   "cell_type": "code",
   "execution_count": 32,
   "id": "733d89fb",
   "metadata": {},
   "outputs": [
    {
     "data": {
      "text/html": [
       "<div>\n",
       "<style scoped>\n",
       "    .dataframe tbody tr th:only-of-type {\n",
       "        vertical-align: middle;\n",
       "    }\n",
       "\n",
       "    .dataframe tbody tr th {\n",
       "        vertical-align: top;\n",
       "    }\n",
       "\n",
       "    .dataframe thead th {\n",
       "        text-align: right;\n",
       "    }\n",
       "</style>\n",
       "<table border=\"1\" class=\"dataframe\">\n",
       "  <thead>\n",
       "    <tr style=\"text-align: right;\">\n",
       "      <th></th>\n",
       "      <th>HospitalAdmissions</th>\n",
       "    </tr>\n",
       "    <tr>\n",
       "      <th>Date</th>\n",
       "      <th></th>\n",
       "    </tr>\n",
       "  </thead>\n",
       "  <tbody>\n",
       "    <tr>\n",
       "      <th>2021-06-25</th>\n",
       "      <td>68.142857</td>\n",
       "    </tr>\n",
       "    <tr>\n",
       "      <th>2021-06-26</th>\n",
       "      <td>71.000000</td>\n",
       "    </tr>\n",
       "    <tr>\n",
       "      <th>2021-06-27</th>\n",
       "      <td>76.000000</td>\n",
       "    </tr>\n",
       "    <tr>\n",
       "      <th>2021-06-28</th>\n",
       "      <td>79.142857</td>\n",
       "    </tr>\n",
       "    <tr>\n",
       "      <th>2021-06-29</th>\n",
       "      <td>83.571429</td>\n",
       "    </tr>\n",
       "    <tr>\n",
       "      <th>2021-06-30</th>\n",
       "      <td>83.714286</td>\n",
       "    </tr>\n",
       "    <tr>\n",
       "      <th>2021-07-01</th>\n",
       "      <td>71.857143</td>\n",
       "    </tr>\n",
       "    <tr>\n",
       "      <th>2021-07-02</th>\n",
       "      <td>58.285714</td>\n",
       "    </tr>\n",
       "    <tr>\n",
       "      <th>2021-07-03</th>\n",
       "      <td>45.714286</td>\n",
       "    </tr>\n",
       "    <tr>\n",
       "      <th>2021-07-04</th>\n",
       "      <td>0.000000</td>\n",
       "    </tr>\n",
       "    <tr>\n",
       "      <th>2021-07-05</th>\n",
       "      <td>0.000000</td>\n",
       "    </tr>\n",
       "    <tr>\n",
       "      <th>2021-07-06</th>\n",
       "      <td>0.000000</td>\n",
       "    </tr>\n",
       "    <tr>\n",
       "      <th>2021-07-07</th>\n",
       "      <td>0.000000</td>\n",
       "    </tr>\n",
       "    <tr>\n",
       "      <th>2021-07-08</th>\n",
       "      <td>0.000000</td>\n",
       "    </tr>\n",
       "    <tr>\n",
       "      <th>2021-07-09</th>\n",
       "      <td>0.000000</td>\n",
       "    </tr>\n",
       "    <tr>\n",
       "      <th>2021-07-10</th>\n",
       "      <td>0.000000</td>\n",
       "    </tr>\n",
       "    <tr>\n",
       "      <th>2021-07-11</th>\n",
       "      <td>0.000000</td>\n",
       "    </tr>\n",
       "    <tr>\n",
       "      <th>2021-07-12</th>\n",
       "      <td>0.000000</td>\n",
       "    </tr>\n",
       "    <tr>\n",
       "      <th>2021-07-13</th>\n",
       "      <td>0.000000</td>\n",
       "    </tr>\n",
       "    <tr>\n",
       "      <th>2021-07-14</th>\n",
       "      <td>0.000000</td>\n",
       "    </tr>\n",
       "  </tbody>\n",
       "</table>\n",
       "</div>"
      ],
      "text/plain": [
       "            HospitalAdmissions\n",
       "Date                          \n",
       "2021-06-25           68.142857\n",
       "2021-06-26           71.000000\n",
       "2021-06-27           76.000000\n",
       "2021-06-28           79.142857\n",
       "2021-06-29           83.571429\n",
       "2021-06-30           83.714286\n",
       "2021-07-01           71.857143\n",
       "2021-07-02           58.285714\n",
       "2021-07-03           45.714286\n",
       "2021-07-04            0.000000\n",
       "2021-07-05            0.000000\n",
       "2021-07-06            0.000000\n",
       "2021-07-07            0.000000\n",
       "2021-07-08            0.000000\n",
       "2021-07-09            0.000000\n",
       "2021-07-10            0.000000\n",
       "2021-07-11            0.000000\n",
       "2021-07-12            0.000000\n",
       "2021-07-13            0.000000\n",
       "2021-07-14            0.000000"
      ]
     },
     "execution_count": 32,
     "metadata": {},
     "output_type": "execute_result"
    }
   ],
   "source": [
    "df_ha1 = ((df_ha.rolling(7).mean())).shift(-11).rolling(1).mean().fillna(0)\n",
    "df_ha1.tail(20)"
   ]
  },
  {
   "cell_type": "code",
   "execution_count": 33,
   "id": "561c98b8",
   "metadata": {},
   "outputs": [
    {
     "name": "stderr",
     "output_type": "stream",
     "text": [
      "C:\\Users\\Maria\\Anaconda3\\lib\\site-packages\\pandas\\core\\generic.py:5170: SettingWithCopyWarning: \n",
      "A value is trying to be set on a copy of a slice from a DataFrame.\n",
      "Try using .loc[row_indexer,col_indexer] = value instead\n",
      "\n",
      "See the caveats in the documentation: https://pandas.pydata.org/pandas-docs/stable/user_guide/indexing.html#returning-a-view-versus-a-copy\n",
      "  self[name] = value\n"
     ]
    },
    {
     "data": {
      "text/html": [
       "<div>\n",
       "<style scoped>\n",
       "    .dataframe tbody tr th:only-of-type {\n",
       "        vertical-align: middle;\n",
       "    }\n",
       "\n",
       "    .dataframe tbody tr th {\n",
       "        vertical-align: top;\n",
       "    }\n",
       "\n",
       "    .dataframe thead th {\n",
       "        text-align: right;\n",
       "    }\n",
       "</style>\n",
       "<table border=\"1\" class=\"dataframe\">\n",
       "  <thead>\n",
       "    <tr style=\"text-align: right;\">\n",
       "      <th></th>\n",
       "      <th>HospitalAdmissions</th>\n",
       "    </tr>\n",
       "    <tr>\n",
       "      <th>Date</th>\n",
       "      <th></th>\n",
       "    </tr>\n",
       "  </thead>\n",
       "  <tbody>\n",
       "    <tr>\n",
       "      <th>2021-06-11</th>\n",
       "      <td>34</td>\n",
       "    </tr>\n",
       "    <tr>\n",
       "      <th>2021-06-12</th>\n",
       "      <td>36</td>\n",
       "    </tr>\n",
       "    <tr>\n",
       "      <th>2021-06-13</th>\n",
       "      <td>39</td>\n",
       "    </tr>\n",
       "    <tr>\n",
       "      <th>2021-06-14</th>\n",
       "      <td>38</td>\n",
       "    </tr>\n",
       "    <tr>\n",
       "      <th>2021-06-15</th>\n",
       "      <td>39</td>\n",
       "    </tr>\n",
       "    <tr>\n",
       "      <th>2021-06-16</th>\n",
       "      <td>39</td>\n",
       "    </tr>\n",
       "    <tr>\n",
       "      <th>2021-06-17</th>\n",
       "      <td>42</td>\n",
       "    </tr>\n",
       "    <tr>\n",
       "      <th>2021-06-18</th>\n",
       "      <td>45</td>\n",
       "    </tr>\n",
       "    <tr>\n",
       "      <th>2021-06-19</th>\n",
       "      <td>48</td>\n",
       "    </tr>\n",
       "    <tr>\n",
       "      <th>2021-06-20</th>\n",
       "      <td>49</td>\n",
       "    </tr>\n",
       "    <tr>\n",
       "      <th>2021-06-21</th>\n",
       "      <td>53</td>\n",
       "    </tr>\n",
       "    <tr>\n",
       "      <th>2021-06-22</th>\n",
       "      <td>56</td>\n",
       "    </tr>\n",
       "    <tr>\n",
       "      <th>2021-06-23</th>\n",
       "      <td>60</td>\n",
       "    </tr>\n",
       "    <tr>\n",
       "      <th>2021-06-24</th>\n",
       "      <td>64</td>\n",
       "    </tr>\n",
       "    <tr>\n",
       "      <th>2021-06-25</th>\n",
       "      <td>68</td>\n",
       "    </tr>\n",
       "    <tr>\n",
       "      <th>2021-06-26</th>\n",
       "      <td>71</td>\n",
       "    </tr>\n",
       "    <tr>\n",
       "      <th>2021-06-27</th>\n",
       "      <td>76</td>\n",
       "    </tr>\n",
       "    <tr>\n",
       "      <th>2021-06-28</th>\n",
       "      <td>79</td>\n",
       "    </tr>\n",
       "    <tr>\n",
       "      <th>2021-06-29</th>\n",
       "      <td>84</td>\n",
       "    </tr>\n",
       "    <tr>\n",
       "      <th>2021-06-30</th>\n",
       "      <td>84</td>\n",
       "    </tr>\n",
       "  </tbody>\n",
       "</table>\n",
       "</div>"
      ],
      "text/plain": [
       "            HospitalAdmissions\n",
       "Date                          \n",
       "2021-06-11                  34\n",
       "2021-06-12                  36\n",
       "2021-06-13                  39\n",
       "2021-06-14                  38\n",
       "2021-06-15                  39\n",
       "2021-06-16                  39\n",
       "2021-06-17                  42\n",
       "2021-06-18                  45\n",
       "2021-06-19                  48\n",
       "2021-06-20                  49\n",
       "2021-06-21                  53\n",
       "2021-06-22                  56\n",
       "2021-06-23                  60\n",
       "2021-06-24                  64\n",
       "2021-06-25                  68\n",
       "2021-06-26                  71\n",
       "2021-06-27                  76\n",
       "2021-06-28                  79\n",
       "2021-06-29                  84\n",
       "2021-06-30                  84"
      ]
     },
     "execution_count": 33,
     "metadata": {},
     "output_type": "execute_result"
    }
   ],
   "source": [
    "ha = df_ha1[(df_ha1.index>='2021-01-05')&(df_ha1.index<='2021-06-30')]\n",
    "ha.HospitalAdmissions = ha.HospitalAdmissions.round(0).astype(int)\n",
    "ha.to_csv('output_raw_ha.csv')\n",
    "ha.tail(20)"
   ]
  },
  {
   "cell_type": "markdown",
   "id": "e62e33e5",
   "metadata": {},
   "source": [
    "# Line plots"
   ]
  },
  {
   "cell_type": "code",
   "execution_count": 111,
   "id": "0a24ca82",
   "metadata": {},
   "outputs": [
    {
     "data": {
      "image/png": "[encoded data removed]",
      "text/plain": [
       "<Figure size 1008x576 with 1 Axes>"
      ]
     },
     "metadata": {
      "needs_background": "light"
     },
     "output_type": "display_data"
    }
   ],
   "source": [
    "fig,ax = plt.subplots(figsize=(14,8))\n",
    "#fig = plt.figure(figsize=(10,6))\n",
    "\n",
    "ax.scatter(vaccs.index, vaccs.NumberVaccinated,label='Vaccinations',c='green', edgecolors='lightgreen',alpha=1, s=90)\n",
    "\n",
    "ax.scatter(cases.index, cases.DailyPositive,label='Positive Cases', c='blue', edgecolors='indigo',alpha=1, s=90)\n",
    "ax.scatter(ha.index, ha.HospitalAdmissions,label='Hospital Admissions',c='orange', edgecolors='purple',alpha=1, s=90)\n",
    "\n",
    "ax.scatter(deaths.index, deaths.DailyDeaths,label='Dealths',c='purple', edgecolors='darkblue',alpha=1, s=90)\n",
    "\n",
    "plt.legend(title='',title_fontsize='xx-large',loc='center', bbox_to_anchor=(0.5, 0.97), shadow=True, ncol=4, fontsize=20)\n",
    "plt.show()"
   ]
  },
  {
   "cell_type": "code",
   "execution_count": 35,
   "id": "b123935e",
   "metadata": {},
   "outputs": [
    {
     "data": {
      "image/png": "[encoded data removed]",
      "text/plain": [
       "<Figure size 1152x720 with 1 Axes>"
      ]
     },
     "metadata": {
      "needs_background": "light"
     },
     "output_type": "display_data"
    }
   ],
   "source": [
    "fig,ax = plt.subplots(figsize=(16,10))\n",
    "#fig = plt.figure(figsize=(10,6))\n",
    "\n",
    "#ax.scatter(vacc.index, vacc.NumberVaccinated,label='Vaccinations',c='green', edgecolors='lightgreen',alpha=1, s=90)\n",
    "\n",
    "ax.scatter(cases.index, cases.DailyPositive,label='Positive Cases', c='blue', edgecolors='indigo',alpha=1, s=90)\n",
    "ax.scatter(ha.index, ha.HospitalAdmissions,label='Hospital Admissions',c='orange', edgecolors='purple',alpha=1, s=90)\n",
    "\n",
    "ax.scatter(deaths.index, deaths.DailyDeaths,label='Dealths',c='purple', edgecolors='darkblue',alpha=1, s=90)\n",
    "\n",
    "plt.legend(title='',title_fontsize='xx-large',loc='center', bbox_to_anchor=(0.5, 0.97), shadow=True, ncol=4, fontsize=20)\n",
    "plt.show()"
   ]
  },
  {
   "cell_type": "code",
   "execution_count": 98,
   "id": "3f900fd1",
   "metadata": {},
   "outputs": [
    {
     "data": {
      "text/html": [
       "<div>\n",
       "<style scoped>\n",
       "    .dataframe tbody tr th:only-of-type {\n",
       "        vertical-align: middle;\n",
       "    }\n",
       "\n",
       "    .dataframe tbody tr th {\n",
       "        vertical-align: top;\n",
       "    }\n",
       "\n",
       "    .dataframe thead th {\n",
       "        text-align: right;\n",
       "    }\n",
       "</style>\n",
       "<table border=\"1\" class=\"dataframe\">\n",
       "  <thead>\n",
       "    <tr style=\"text-align: right;\">\n",
       "      <th></th>\n",
       "      <th>DailyPositive</th>\n",
       "      <th>logarithm_base10</th>\n",
       "    </tr>\n",
       "    <tr>\n",
       "      <th>Date</th>\n",
       "      <th></th>\n",
       "      <th></th>\n",
       "    </tr>\n",
       "  </thead>\n",
       "  <tbody>\n",
       "    <tr>\n",
       "      <th>2021-01-05</th>\n",
       "      <td>1934</td>\n",
       "      <td>3.286456</td>\n",
       "    </tr>\n",
       "    <tr>\n",
       "      <th>2021-01-06</th>\n",
       "      <td>1814</td>\n",
       "      <td>3.258637</td>\n",
       "    </tr>\n",
       "    <tr>\n",
       "      <th>2021-01-07</th>\n",
       "      <td>1732</td>\n",
       "      <td>3.238548</td>\n",
       "    </tr>\n",
       "    <tr>\n",
       "      <th>2021-01-08</th>\n",
       "      <td>1691</td>\n",
       "      <td>3.228144</td>\n",
       "    </tr>\n",
       "    <tr>\n",
       "      <th>2021-01-09</th>\n",
       "      <td>1646</td>\n",
       "      <td>3.216430</td>\n",
       "    </tr>\n",
       "  </tbody>\n",
       "</table>\n",
       "</div>"
      ],
      "text/plain": [
       "            DailyPositive  logarithm_base10\n",
       "Date                                       \n",
       "2021-01-05           1934          3.286456\n",
       "2021-01-06           1814          3.258637\n",
       "2021-01-07           1732          3.238548\n",
       "2021-01-08           1691          3.228144\n",
       "2021-01-09           1646          3.216430"
      ]
     },
     "execution_count": 98,
     "metadata": {},
     "output_type": "execute_result"
    }
   ],
   "source": [
    "cases.head()"
   ]
  },
  {
   "cell_type": "code",
   "execution_count": 49,
   "id": "547c0cc8",
   "metadata": {},
   "outputs": [
    {
     "name": "stderr",
     "output_type": "stream",
     "text": [
      "C:\\Users\\Maria\\Anaconda3\\lib\\site-packages\\ipykernel_launcher.py:1: SettingWithCopyWarning: \n",
      "A value is trying to be set on a copy of a slice from a DataFrame.\n",
      "Try using .loc[row_indexer,col_indexer] = value instead\n",
      "\n",
      "See the caveats in the documentation: https://pandas.pydata.org/pandas-docs/stable/user_guide/indexing.html#returning-a-view-versus-a-copy\n",
      "  \"\"\"Entry point for launching an IPython kernel.\n"
     ]
    }
   ],
   "source": [
    "cases['logarithm_base10'] = np.log10(cases['DailyPositive'])\n"
   ]
  },
  {
   "cell_type": "code",
   "execution_count": 101,
   "id": "81c8c49e",
   "metadata": {},
   "outputs": [
    {
     "data": {
      "text/html": [
       "<div>\n",
       "<style scoped>\n",
       "    .dataframe tbody tr th:only-of-type {\n",
       "        vertical-align: middle;\n",
       "    }\n",
       "\n",
       "    .dataframe tbody tr th {\n",
       "        vertical-align: top;\n",
       "    }\n",
       "\n",
       "    .dataframe thead th {\n",
       "        text-align: right;\n",
       "    }\n",
       "</style>\n",
       "<table border=\"1\" class=\"dataframe\">\n",
       "  <thead>\n",
       "    <tr style=\"text-align: right;\">\n",
       "      <th></th>\n",
       "      <th>HospitalAdmissions</th>\n",
       "      <th>logarithm_base10</th>\n",
       "    </tr>\n",
       "    <tr>\n",
       "      <th>Date</th>\n",
       "      <th></th>\n",
       "      <th></th>\n",
       "    </tr>\n",
       "  </thead>\n",
       "  <tbody>\n",
       "    <tr>\n",
       "      <th>2021-01-05</th>\n",
       "      <td>191</td>\n",
       "      <td>2.281033</td>\n",
       "    </tr>\n",
       "    <tr>\n",
       "      <th>2021-01-06</th>\n",
       "      <td>190</td>\n",
       "      <td>2.278754</td>\n",
       "    </tr>\n",
       "    <tr>\n",
       "      <th>2021-01-07</th>\n",
       "      <td>180</td>\n",
       "      <td>2.255273</td>\n",
       "    </tr>\n",
       "    <tr>\n",
       "      <th>2021-01-08</th>\n",
       "      <td>178</td>\n",
       "      <td>2.250420</td>\n",
       "    </tr>\n",
       "    <tr>\n",
       "      <th>2021-01-09</th>\n",
       "      <td>178</td>\n",
       "      <td>2.250420</td>\n",
       "    </tr>\n",
       "  </tbody>\n",
       "</table>\n",
       "</div>"
      ],
      "text/plain": [
       "            HospitalAdmissions  logarithm_base10\n",
       "Date                                            \n",
       "2021-01-05                 191          2.281033\n",
       "2021-01-06                 190          2.278754\n",
       "2021-01-07                 180          2.255273\n",
       "2021-01-08                 178          2.250420\n",
       "2021-01-09                 178          2.250420"
      ]
     },
     "execution_count": 101,
     "metadata": {},
     "output_type": "execute_result"
    }
   ],
   "source": [
    "ha.head()"
   ]
  },
  {
   "cell_type": "code",
   "execution_count": 50,
   "id": "d225ed4e",
   "metadata": {},
   "outputs": [
    {
     "name": "stderr",
     "output_type": "stream",
     "text": [
      "C:\\Users\\Maria\\Anaconda3\\lib\\site-packages\\ipykernel_launcher.py:1: SettingWithCopyWarning: \n",
      "A value is trying to be set on a copy of a slice from a DataFrame.\n",
      "Try using .loc[row_indexer,col_indexer] = value instead\n",
      "\n",
      "See the caveats in the documentation: https://pandas.pydata.org/pandas-docs/stable/user_guide/indexing.html#returning-a-view-versus-a-copy\n",
      "  \"\"\"Entry point for launching an IPython kernel.\n"
     ]
    }
   ],
   "source": [
    "ha['logarithm_base10'] =  np.log10(ha['HospitalAdmissions'])\n"
   ]
  },
  {
   "cell_type": "code",
   "execution_count": 110,
   "id": "2143a781",
   "metadata": {},
   "outputs": [
    {
     "data": {
      "text/html": [
       "<div>\n",
       "<style scoped>\n",
       "    .dataframe tbody tr th:only-of-type {\n",
       "        vertical-align: middle;\n",
       "    }\n",
       "\n",
       "    .dataframe tbody tr th {\n",
       "        vertical-align: top;\n",
       "    }\n",
       "\n",
       "    .dataframe thead th {\n",
       "        text-align: right;\n",
       "    }\n",
       "</style>\n",
       "<table border=\"1\" class=\"dataframe\">\n",
       "  <thead>\n",
       "    <tr style=\"text-align: right;\">\n",
       "      <th></th>\n",
       "      <th>DailyDeaths</th>\n",
       "      <th>logarithm_base10</th>\n",
       "    </tr>\n",
       "    <tr>\n",
       "      <th>Date</th>\n",
       "      <th></th>\n",
       "      <th></th>\n",
       "    </tr>\n",
       "  </thead>\n",
       "  <tbody>\n",
       "    <tr>\n",
       "      <th>2021-01-05</th>\n",
       "      <td>60</td>\n",
       "      <td>1.778151</td>\n",
       "    </tr>\n",
       "    <tr>\n",
       "      <th>2021-01-06</th>\n",
       "      <td>62</td>\n",
       "      <td>1.792392</td>\n",
       "    </tr>\n",
       "    <tr>\n",
       "      <th>2021-01-07</th>\n",
       "      <td>62</td>\n",
       "      <td>1.792392</td>\n",
       "    </tr>\n",
       "    <tr>\n",
       "      <th>2021-01-08</th>\n",
       "      <td>63</td>\n",
       "      <td>1.799341</td>\n",
       "    </tr>\n",
       "    <tr>\n",
       "      <th>2021-01-09</th>\n",
       "      <td>60</td>\n",
       "      <td>1.778151</td>\n",
       "    </tr>\n",
       "  </tbody>\n",
       "</table>\n",
       "</div>"
      ],
      "text/plain": [
       "            DailyDeaths  logarithm_base10\n",
       "Date                                     \n",
       "2021-01-05           60          1.778151\n",
       "2021-01-06           62          1.792392\n",
       "2021-01-07           62          1.792392\n",
       "2021-01-08           63          1.799341\n",
       "2021-01-09           60          1.778151"
      ]
     },
     "execution_count": 110,
     "metadata": {},
     "output_type": "execute_result"
    }
   ],
   "source": [
    "deaths.head()"
   ]
  },
  {
   "cell_type": "code",
   "execution_count": 51,
   "id": "a4c6c140",
   "metadata": {},
   "outputs": [
    {
     "name": "stderr",
     "output_type": "stream",
     "text": [
      "C:\\Users\\Maria\\Anaconda3\\lib\\site-packages\\pandas\\core\\series.py:726: RuntimeWarning: divide by zero encountered in log10\n",
      "  result = getattr(ufunc, method)(*inputs, **kwargs)\n",
      "C:\\Users\\Maria\\Anaconda3\\lib\\site-packages\\ipykernel_launcher.py:1: SettingWithCopyWarning: \n",
      "A value is trying to be set on a copy of a slice from a DataFrame.\n",
      "Try using .loc[row_indexer,col_indexer] = value instead\n",
      "\n",
      "See the caveats in the documentation: https://pandas.pydata.org/pandas-docs/stable/user_guide/indexing.html#returning-a-view-versus-a-copy\n",
      "  \"\"\"Entry point for launching an IPython kernel.\n"
     ]
    }
   ],
   "source": [
    "deaths['logarithm_base10'] =  np.log10(deaths['DailyDeaths'])"
   ]
  },
  {
   "cell_type": "code",
   "execution_count": 108,
   "id": "0635bb65",
   "metadata": {},
   "outputs": [
    {
     "data": {
      "text/html": [
       "<div>\n",
       "<style scoped>\n",
       "    .dataframe tbody tr th:only-of-type {\n",
       "        vertical-align: middle;\n",
       "    }\n",
       "\n",
       "    .dataframe tbody tr th {\n",
       "        vertical-align: top;\n",
       "    }\n",
       "\n",
       "    .dataframe thead th {\n",
       "        text-align: right;\n",
       "    }\n",
       "</style>\n",
       "<table border=\"1\" class=\"dataframe\">\n",
       "  <thead>\n",
       "    <tr style=\"text-align: right;\">\n",
       "      <th></th>\n",
       "      <th>NumberVaccinated</th>\n",
       "      <th>logarithm_base10</th>\n",
       "    </tr>\n",
       "    <tr>\n",
       "      <th>Date</th>\n",
       "      <th></th>\n",
       "      <th></th>\n",
       "    </tr>\n",
       "  </thead>\n",
       "  <tbody>\n",
       "    <tr>\n",
       "      <th>2021-01-05</th>\n",
       "      <td>3550</td>\n",
       "      <td>3.550228</td>\n",
       "    </tr>\n",
       "    <tr>\n",
       "      <th>2021-01-06</th>\n",
       "      <td>7879</td>\n",
       "      <td>3.896471</td>\n",
       "    </tr>\n",
       "    <tr>\n",
       "      <th>2021-01-07</th>\n",
       "      <td>12682</td>\n",
       "      <td>4.103188</td>\n",
       "    </tr>\n",
       "    <tr>\n",
       "      <th>2021-01-08</th>\n",
       "      <td>17788</td>\n",
       "      <td>4.250127</td>\n",
       "    </tr>\n",
       "    <tr>\n",
       "      <th>2021-01-09</th>\n",
       "      <td>23349</td>\n",
       "      <td>4.368268</td>\n",
       "    </tr>\n",
       "  </tbody>\n",
       "</table>\n",
       "</div>"
      ],
      "text/plain": [
       "            NumberVaccinated  logarithm_base10\n",
       "Date                                          \n",
       "2021-01-05              3550          3.550228\n",
       "2021-01-06              7879          3.896471\n",
       "2021-01-07             12682          4.103188\n",
       "2021-01-08             17788          4.250127\n",
       "2021-01-09             23349          4.368268"
      ]
     },
     "execution_count": 108,
     "metadata": {},
     "output_type": "execute_result"
    }
   ],
   "source": [
    "vaccs.head()"
   ]
  },
  {
   "cell_type": "code",
   "execution_count": 52,
   "id": "0aa2c3ca",
   "metadata": {},
   "outputs": [
    {
     "name": "stderr",
     "output_type": "stream",
     "text": [
      "C:\\Users\\Maria\\Anaconda3\\lib\\site-packages\\ipykernel_launcher.py:1: SettingWithCopyWarning: \n",
      "A value is trying to be set on a copy of a slice from a DataFrame.\n",
      "Try using .loc[row_indexer,col_indexer] = value instead\n",
      "\n",
      "See the caveats in the documentation: https://pandas.pydata.org/pandas-docs/stable/user_guide/indexing.html#returning-a-view-versus-a-copy\n",
      "  \"\"\"Entry point for launching an IPython kernel.\n"
     ]
    }
   ],
   "source": [
    "vaccs['logarithm_base10'] =  np.log10(vaccs['NumberVaccinated'])"
   ]
  },
  {
   "cell_type": "code",
   "execution_count": 53,
   "id": "ef91d36f",
   "metadata": {},
   "outputs": [
    {
     "data": {
      "image/png": "[encoded data removed]",
      "text/plain": [
       "<Figure size 1152x720 with 1 Axes>"
      ]
     },
     "metadata": {
      "needs_background": "light"
     },
     "output_type": "display_data"
    }
   ],
   "source": [
    "fig,ax = plt.subplots(figsize=(16,10))\n",
    "#fig = plt.figure(figsize=(10,6))\n",
    "\n",
    "ax.scatter(vaccs.index, vaccs.logarithm_base10,label='Vaccinations(log)',c='green', edgecolors='lightgreen',alpha=1, s=90)\n",
    "\n",
    "ax.scatter(cases.index, cases.logarithm_base10,label='Positive Cases(log)', c='blue', edgecolors='indigo',alpha=1, s=90)\n",
    "ax.scatter(ha.index, ha.logarithm_base10,label='Hospital Admissions(log)',c='orange', edgecolors='purple',alpha=1, s=90)\n",
    "\n",
    "ax.scatter(deaths.index, deaths.logarithm_base10,label='Deaths(log)',c='purple', edgecolors='darkblue',alpha=1, s=90)\n",
    "\n",
    "plt.legend(title='',title_fontsize='xx-large',loc='best', bbox_to_anchor=(0.98, 0.5), shadow=True, ncol=1, fontsize=20)\n",
    "plt.show()"
   ]
  },
  {
   "cell_type": "code",
   "execution_count": null,
   "id": "d6d198fc",
   "metadata": {},
   "outputs": [],
   "source": []
  },
  {
   "cell_type": "code",
   "execution_count": 54,
   "id": "9ea2f617",
   "metadata": {},
   "outputs": [],
   "source": [
    "import scipy\n",
    "from scipy import stats"
   ]
  },
  {
   "cell_type": "code",
   "execution_count": 107,
   "id": "bbc92335",
   "metadata": {},
   "outputs": [
    {
     "data": {
      "text/plain": [
       "-0.2054526315516052"
      ]
     },
     "execution_count": 107,
     "metadata": {},
     "output_type": "execute_result"
    }
   ],
   "source": [
    "#cases\n",
    "tau_cases, p_value_c = scipy.stats.kendalltau(cases.DailyPositive,vaccs.NumberVaccinated)\n",
    "tau_cases"
   ]
  },
  {
   "cell_type": "code",
   "execution_count": 108,
   "id": "8c2369ce",
   "metadata": {},
   "outputs": [
    {
     "data": {
      "text/plain": [
       "6.288135170467355e-42"
      ]
     },
     "execution_count": 108,
     "metadata": {},
     "output_type": "execute_result"
    }
   ],
   "source": [
    "p_value_h"
   ]
  },
  {
   "cell_type": "code",
   "execution_count": 109,
   "id": "c9f1ff79",
   "metadata": {},
   "outputs": [
    {
     "data": {
      "text/plain": [
       "-0.4321398453144885"
      ]
     },
     "execution_count": 109,
     "metadata": {},
     "output_type": "execute_result"
    }
   ],
   "source": [
    "#hospitalisations\n",
    "tau_hosadm, p_value_h = stats.kendalltau(ha.HospitalAdmissions,vaccs.NumberVaccinated)\n",
    "tau_hosadm"
   ]
  },
  {
   "cell_type": "code",
   "execution_count": 57,
   "id": "84198ab8",
   "metadata": {},
   "outputs": [
    {
     "data": {
      "text/plain": [
       "-0.605517735830579"
      ]
     },
     "execution_count": 57,
     "metadata": {},
     "output_type": "execute_result"
    }
   ],
   "source": [
    "#deaths\n",
    "tau_deaths, p_value_d = stats.kendalltau(deaths.DailyDeaths,vaccs.NumberVaccinated)\n",
    "tau_deaths"
   ]
  },
  {
   "cell_type": "code",
   "execution_count": 58,
   "id": "20274344",
   "metadata": {},
   "outputs": [
    {
     "data": {
      "text/plain": [
       "1.1793456542515809e-30"
      ]
     },
     "execution_count": 58,
     "metadata": {},
     "output_type": "execute_result"
    }
   ],
   "source": [
    " p_value_d"
   ]
  },
  {
   "cell_type": "code",
   "execution_count": null,
   "id": "075caafa",
   "metadata": {},
   "outputs": [],
   "source": []
  },
  {
   "cell_type": "markdown",
   "id": "a35cde3d",
   "metadata": {},
   "source": [
    "## Frequency Distributions"
   ]
  },
  {
   "cell_type": "code",
   "execution_count": 49,
   "id": "6cc75752",
   "metadata": {},
   "outputs": [
    {
     "data": {
      "image/png": "[encoded data removed]",
      "text/plain": [
       "<Figure size 432x288 with 1 Axes>"
      ]
     },
     "metadata": {
      "needs_background": "light"
     },
     "output_type": "display_data"
    }
   ],
   "source": [
    "# matplotlib histogram\n",
    "plt.hist(vaccs.NumberVaccinated, color = 'lightgreen', edgecolor = 'green',  bins = 30)\n",
    "\n",
    "plt.title('Histogram of the Number of Vaccinations')\n",
    "plt.xlabel('Vaccinations')\n",
    "\n",
    "plt.show()"
   ]
  },
  {
   "cell_type": "code",
   "execution_count": 50,
   "id": "561e9a4f",
   "metadata": {},
   "outputs": [
    {
     "data": {
      "image/png": "[encoded data removed]",
      "text/plain": [
       "<Figure size 432x288 with 1 Axes>"
      ]
     },
     "metadata": {
      "needs_background": "light"
     },
     "output_type": "display_data"
    }
   ],
   "source": [
    "# matplotlib histogram\n",
    "plt.hist(cases.DailyPositive, color = 'blue', edgecolor = 'black',  bins =30)\n",
    "\n",
    "plt.title('Histogram of the Number of Positive Cases')\n",
    "plt.xlabel('Cases')\n",
    "plt.show()"
   ]
  },
  {
   "cell_type": "code",
   "execution_count": 51,
   "id": "37701e66",
   "metadata": {},
   "outputs": [
    {
     "data": {
      "image/png": "[encoded data removed]",
      "text/plain": [
       "<Figure size 432x288 with 1 Axes>"
      ]
     },
     "metadata": {
      "needs_background": "light"
     },
     "output_type": "display_data"
    }
   ],
   "source": [
    "# matplotlib histogram\n",
    "plt.hist(ha.HospitalAdmissions, color = 'orange', edgecolor = 'red',  bins =36)\n",
    "\n",
    "plt.title('Histogram of the Number of Hospital Admissions')\n",
    "plt.xlabel('Hospital admissions')\n",
    "plt.show()"
   ]
  },
  {
   "cell_type": "code",
   "execution_count": 61,
   "id": "742eda2d",
   "metadata": {},
   "outputs": [
    {
     "data": {
      "image/png": "[encoded data removed]",
      "text/plain": [
       "<Figure size 432x288 with 1 Axes>"
      ]
     },
     "metadata": {
      "needs_background": "light"
     },
     "output_type": "display_data"
    }
   ],
   "source": [
    "# matplotlib histogram\n",
    "plt.hist(deaths.DailyDeaths, color = 'purple', edgecolor = 'black',  bins = 36)\n",
    "\n",
    "plt.title('Histogram of the Number of Deaths')\n",
    "plt.xlabel('Deaths')\n",
    "\n",
    "plt.show()"
   ]
  },
  {
   "cell_type": "code",
   "execution_count": null,
   "id": "d0311a4b",
   "metadata": {},
   "outputs": [],
   "source": []
  },
  {
   "cell_type": "code",
   "execution_count": 60,
   "id": "65dcf19b",
   "metadata": {},
   "outputs": [
    {
     "data": {
      "image/png": "[encoded data removed]",
      "text/plain": [
       "<Figure size 432x288 with 4 Axes>"
      ]
     },
     "metadata": {
      "needs_background": "light"
     },
     "output_type": "display_data"
    }
   ],
   "source": [
    "\n",
    "# Show 4 different binwidths\n",
    "for i, binwidth in enumerate([18, 25, 35,45]):\n",
    "    \n",
    "    # Set up the plot\n",
    "    ax = plt.subplot(2, 2, i + 1)\n",
    "    \n",
    "    # Draw the plot\n",
    "    ax.hist(vacc.NumberVaccinated, bins = binwidth,\n",
    "             color = 'blue', edgecolor = 'black')\n",
    "    \n",
    "    # Title and labels\n",
    "    ax.set_title('Histogram with Binwidth = %d' % binwidth, size = 12)\n",
    "    ax.set_xlabel('Vaccinations', size = 10)\n",
    "    ax.set_ylabel('F', size= 10)\n",
    "\n",
    "plt.tight_layout()\n",
    "plt.show()"
   ]
  },
  {
   "cell_type": "markdown",
   "id": "b6cbb147",
   "metadata": {},
   "source": [
    "# Raw data"
   ]
  },
  {
   "cell_type": "code",
   "execution_count": 62,
   "id": "c605e7b9",
   "metadata": {},
   "outputs": [
    {
     "data": {
      "image/png": "[encoded data removed]",
      "text/plain": [
       "<Figure size 432x288 with 1 Axes>"
      ]
     },
     "metadata": {
      "needs_background": "light"
     },
     "output_type": "display_data"
    }
   ],
   "source": [
    "# matplotlib histogram\n",
    "plt.hist(df_deaths.DailyDeaths, color = 'purple', edgecolor = 'black',  bins = 36)\n",
    "\n",
    "plt.title('Histogram of the Number of Deaths')\n",
    "plt.xlabel('Deaths')\n",
    "\n",
    "plt.show()"
   ]
  },
  {
   "cell_type": "markdown",
   "id": "93546447",
   "metadata": {},
   "source": [
    "## Kendall's tau correlation"
   ]
  },
  {
   "cell_type": "code",
   "execution_count": 112,
   "id": "478e52f5",
   "metadata": {},
   "outputs": [
    {
     "data": {
      "text/plain": [
       "-0.2054526315516052"
      ]
     },
     "execution_count": 112,
     "metadata": {},
     "output_type": "execute_result"
    }
   ],
   "source": [
    "#cases\n",
    "tau, p_value = scipy.stats.kendalltau(cases.DailyPositive,vaccs.NumberVaccinated)\n",
    "tau"
   ]
  },
  {
   "cell_type": "code",
   "execution_count": 64,
   "id": "8b7b254d",
   "metadata": {},
   "outputs": [
    {
     "data": {
      "text/plain": [
       "4.93907880705156e-05"
      ]
     },
     "execution_count": 64,
     "metadata": {},
     "output_type": "execute_result"
    }
   ],
   "source": [
    "p_value # <0.0001"
   ]
  },
  {
   "cell_type": "code",
   "execution_count": 65,
   "id": "0708dc38",
   "metadata": {},
   "outputs": [
    {
     "data": {
      "text/plain": [
       "-0.605517735830579"
      ]
     },
     "execution_count": 65,
     "metadata": {},
     "output_type": "execute_result"
    }
   ],
   "source": [
    "#deaths\n",
    "tau, p_value = scipy.stats.kendalltau(deaths.DailyDeaths,vaccs.NumberVaccinated)\n",
    "tau"
   ]
  },
  {
   "cell_type": "code",
   "execution_count": 66,
   "id": "b2bef513",
   "metadata": {},
   "outputs": [
    {
     "data": {
      "text/plain": [
       "1.1793456542515809e-30"
      ]
     },
     "execution_count": 66,
     "metadata": {},
     "output_type": "execute_result"
    }
   ],
   "source": [
    "p_value"
   ]
  },
  {
   "cell_type": "code",
   "execution_count": 67,
   "id": "046cccff",
   "metadata": {},
   "outputs": [
    {
     "data": {
      "text/plain": [
       "-0.4321398453144885"
      ]
     },
     "execution_count": 67,
     "metadata": {},
     "output_type": "execute_result"
    }
   ],
   "source": [
    "#hospital admissions\n",
    "tau, p_value = scipy.stats.kendalltau(ha.HospitalAdmissions,vaccs.NumberVaccinated)\n",
    "tau"
   ]
  },
  {
   "cell_type": "code",
   "execution_count": 68,
   "id": "5c8e67c1",
   "metadata": {},
   "outputs": [
    {
     "data": {
      "text/plain": [
       "2.249993263054527e-17"
      ]
     },
     "execution_count": 68,
     "metadata": {},
     "output_type": "execute_result"
    }
   ],
   "source": [
    "p_value"
   ]
  },
  {
   "cell_type": "code",
   "execution_count": null,
   "id": "7c3a3f6e",
   "metadata": {},
   "outputs": [],
   "source": [
    "# pearsons"
   ]
  },
  {
   "cell_type": "code",
   "execution_count": 148,
   "id": "e05a0413",
   "metadata": {},
   "outputs": [
    {
     "data": {
      "text/plain": [
       "0.031297928684283646"
      ]
     },
     "execution_count": 148,
     "metadata": {},
     "output_type": "execute_result"
    }
   ],
   "source": [
    "#cases\n",
    "coef, p_value_c = stats.pearsonr(cases.DailyPositive,vaccs.NumberVaccinated)\n",
    "coef"
   ]
  },
  {
   "cell_type": "code",
   "execution_count": 114,
   "id": "f09b4074",
   "metadata": {},
   "outputs": [
    {
     "data": {
      "text/plain": [
       "0.6792088400038493"
      ]
     },
     "execution_count": 114,
     "metadata": {},
     "output_type": "execute_result"
    }
   ],
   "source": [
    "p_value_c"
   ]
  },
  {
   "cell_type": "code",
   "execution_count": 71,
   "id": "59558426",
   "metadata": {},
   "outputs": [
    {
     "data": {
      "text/plain": [
       "-0.7083667873025871"
      ]
     },
     "execution_count": 71,
     "metadata": {},
     "output_type": "execute_result"
    }
   ],
   "source": [
    "#hospital\n",
    "coef, p_value_h = stats.pearsonr(ha.HospitalAdmissions,vaccs.NumberVaccinated)\n",
    "coef"
   ]
  },
  {
   "cell_type": "code",
   "execution_count": 72,
   "id": "8a9a9cb2",
   "metadata": {},
   "outputs": [
    {
     "data": {
      "text/plain": [
       "2.8263306467297503e-28"
      ]
     },
     "execution_count": 72,
     "metadata": {},
     "output_type": "execute_result"
    }
   ],
   "source": [
    "p_value_h"
   ]
  },
  {
   "cell_type": "code",
   "execution_count": 73,
   "id": "38f08cab",
   "metadata": {},
   "outputs": [
    {
     "data": {
      "text/plain": [
       "-0.8072447521724517"
      ]
     },
     "execution_count": 73,
     "metadata": {},
     "output_type": "execute_result"
    }
   ],
   "source": [
    "#deaths\n",
    "coef, p_value_h = stats.pearsonr(deaths.DailyDeaths,vaccs.NumberVaccinated)\n",
    "coef"
   ]
  },
  {
   "cell_type": "code",
   "execution_count": 78,
   "id": "72201f5c",
   "metadata": {},
   "outputs": [
    {
     "data": {
      "text/plain": [
       "6.288135170467355e-42"
      ]
     },
     "execution_count": 78,
     "metadata": {},
     "output_type": "execute_result"
    }
   ],
   "source": [
    "p_value_h"
   ]
  },
  {
   "cell_type": "code",
   "execution_count": 151,
   "id": "38965b8b",
   "metadata": {},
   "outputs": [
    {
     "data": {
      "text/html": [
       "<div>\n",
       "<style scoped>\n",
       "    .dataframe tbody tr th:only-of-type {\n",
       "        vertical-align: middle;\n",
       "    }\n",
       "\n",
       "    .dataframe tbody tr th {\n",
       "        vertical-align: top;\n",
       "    }\n",
       "\n",
       "    .dataframe thead th {\n",
       "        text-align: right;\n",
       "    }\n",
       "</style>\n",
       "<table border=\"1\" class=\"dataframe\">\n",
       "  <thead>\n",
       "    <tr style=\"text-align: right;\">\n",
       "      <th></th>\n",
       "      <th>Date</th>\n",
       "      <th>AgeGroup</th>\n",
       "      <th>DailyPositive_adj</th>\n",
       "      <th>DailyDeaths_adj</th>\n",
       "      <th>NumberVaccinated_adj</th>\n",
       "    </tr>\n",
       "  </thead>\n",
       "  <tbody>\n",
       "    <tr>\n",
       "      <th>0</th>\n",
       "      <td>2021-01-05</td>\n",
       "      <td>over 60</td>\n",
       "      <td>424</td>\n",
       "      <td>55</td>\n",
       "      <td>463</td>\n",
       "    </tr>\n",
       "    <tr>\n",
       "      <th>1</th>\n",
       "      <td>2021-01-05</td>\n",
       "      <td>over 75</td>\n",
       "      <td>186</td>\n",
       "      <td>40</td>\n",
       "      <td>48</td>\n",
       "    </tr>\n",
       "    <tr>\n",
       "      <th>2</th>\n",
       "      <td>2021-01-05</td>\n",
       "      <td>under 60</td>\n",
       "      <td>2108</td>\n",
       "      <td>4</td>\n",
       "      <td>3087</td>\n",
       "    </tr>\n",
       "    <tr>\n",
       "      <th>3</th>\n",
       "      <td>2021-01-06</td>\n",
       "      <td>over 75</td>\n",
       "      <td>183</td>\n",
       "      <td>43</td>\n",
       "      <td>186</td>\n",
       "    </tr>\n",
       "    <tr>\n",
       "      <th>4</th>\n",
       "      <td>2021-01-06</td>\n",
       "      <td>over 60</td>\n",
       "      <td>407</td>\n",
       "      <td>57</td>\n",
       "      <td>1127</td>\n",
       "    </tr>\n",
       "  </tbody>\n",
       "</table>\n",
       "</div>"
      ],
      "text/plain": [
       "         Date  AgeGroup  DailyPositive_adj  DailyDeaths_adj  \\\n",
       "0  2021-01-05   over 60                424               55   \n",
       "1  2021-01-05   over 75                186               40   \n",
       "2  2021-01-05  under 60               2108                4   \n",
       "3  2021-01-06   over 75                183               43   \n",
       "4  2021-01-06   over 60                407               57   \n",
       "\n",
       "   NumberVaccinated_adj  \n",
       "0                   463  \n",
       "1                    48  \n",
       "2                  3087  \n",
       "3                   186  \n",
       "4                  1127  "
      ]
     },
     "execution_count": 151,
     "metadata": {},
     "output_type": "execute_result"
    }
   ],
   "source": [
    "df_age = pd.read_csv('../MyVizProject/output_all_ages1.csv', na_values='',  parse_dates=True, encoding = \"ISO-8859-1\")\n",
    "df_age.rename(columns={'DailyPositive':'DailyPositive_adj','DailyDeaths':'DailyDeaths_adj','NumberVaccinated':'NumberVaccinated_adj'}, inplace=True)\n",
    "df_age.head()"
   ]
  },
  {
   "cell_type": "code",
   "execution_count": 152,
   "id": "f1ead2aa",
   "metadata": {},
   "outputs": [
    {
     "data": {
      "text/html": [
       "<div>\n",
       "<style scoped>\n",
       "    .dataframe tbody tr th:only-of-type {\n",
       "        vertical-align: middle;\n",
       "    }\n",
       "\n",
       "    .dataframe tbody tr th {\n",
       "        vertical-align: top;\n",
       "    }\n",
       "\n",
       "    .dataframe thead th {\n",
       "        text-align: right;\n",
       "    }\n",
       "</style>\n",
       "<table border=\"1\" class=\"dataframe\">\n",
       "  <thead>\n",
       "    <tr style=\"text-align: right;\">\n",
       "      <th></th>\n",
       "      <th>Date</th>\n",
       "      <th>AgeGroup</th>\n",
       "      <th>DailyPositive_adj</th>\n",
       "      <th>DailyDeaths_adj</th>\n",
       "      <th>NumberVaccinated_adj</th>\n",
       "    </tr>\n",
       "  </thead>\n",
       "  <tbody>\n",
       "    <tr>\n",
       "      <th>2</th>\n",
       "      <td>2021-01-05</td>\n",
       "      <td>under 60</td>\n",
       "      <td>2108</td>\n",
       "      <td>4</td>\n",
       "      <td>3087</td>\n",
       "    </tr>\n",
       "    <tr>\n",
       "      <th>5</th>\n",
       "      <td>2021-01-06</td>\n",
       "      <td>under 60</td>\n",
       "      <td>1758</td>\n",
       "      <td>5</td>\n",
       "      <td>6753</td>\n",
       "    </tr>\n",
       "    <tr>\n",
       "      <th>7</th>\n",
       "      <td>2021-01-07</td>\n",
       "      <td>under 60</td>\n",
       "      <td>1428</td>\n",
       "      <td>5</td>\n",
       "      <td>10733</td>\n",
       "    </tr>\n",
       "    <tr>\n",
       "      <th>11</th>\n",
       "      <td>2021-01-08</td>\n",
       "      <td>under 60</td>\n",
       "      <td>1274</td>\n",
       "      <td>5</td>\n",
       "      <td>14842</td>\n",
       "    </tr>\n",
       "    <tr>\n",
       "      <th>14</th>\n",
       "      <td>2021-01-09</td>\n",
       "      <td>under 60</td>\n",
       "      <td>996</td>\n",
       "      <td>4</td>\n",
       "      <td>19135</td>\n",
       "    </tr>\n",
       "  </tbody>\n",
       "</table>\n",
       "</div>"
      ],
      "text/plain": [
       "          Date  AgeGroup  DailyPositive_adj  DailyDeaths_adj  \\\n",
       "2   2021-01-05  under 60               2108                4   \n",
       "5   2021-01-06  under 60               1758                5   \n",
       "7   2021-01-07  under 60               1428                5   \n",
       "11  2021-01-08  under 60               1274                5   \n",
       "14  2021-01-09  under 60                996                4   \n",
       "\n",
       "    NumberVaccinated_adj  \n",
       "2                   3087  \n",
       "5                   6753  \n",
       "7                  10733  \n",
       "11                 14842  \n",
       "14                 19135  "
      ]
     },
     "execution_count": 152,
     "metadata": {},
     "output_type": "execute_result"
    }
   ],
   "source": [
    "df_age_under60 = df_age[df_age.AgeGroup=='under 60']\n",
    "df_age_under60.head()"
   ]
  },
  {
   "cell_type": "code",
   "execution_count": 153,
   "id": "04184688",
   "metadata": {},
   "outputs": [
    {
     "data": {
      "text/html": [
       "<div>\n",
       "<style scoped>\n",
       "    .dataframe tbody tr th:only-of-type {\n",
       "        vertical-align: middle;\n",
       "    }\n",
       "\n",
       "    .dataframe tbody tr th {\n",
       "        vertical-align: top;\n",
       "    }\n",
       "\n",
       "    .dataframe thead th {\n",
       "        text-align: right;\n",
       "    }\n",
       "</style>\n",
       "<table border=\"1\" class=\"dataframe\">\n",
       "  <thead>\n",
       "    <tr style=\"text-align: right;\">\n",
       "      <th></th>\n",
       "      <th>Date</th>\n",
       "      <th>AgeGroup</th>\n",
       "      <th>DailyPositive_adj</th>\n",
       "      <th>DailyDeaths_adj</th>\n",
       "      <th>NumberVaccinated_adj</th>\n",
       "    </tr>\n",
       "  </thead>\n",
       "  <tbody>\n",
       "    <tr>\n",
       "      <th>0</th>\n",
       "      <td>2021-01-05</td>\n",
       "      <td>over 60</td>\n",
       "      <td>424</td>\n",
       "      <td>55</td>\n",
       "      <td>463</td>\n",
       "    </tr>\n",
       "    <tr>\n",
       "      <th>4</th>\n",
       "      <td>2021-01-06</td>\n",
       "      <td>over 60</td>\n",
       "      <td>407</td>\n",
       "      <td>57</td>\n",
       "      <td>1127</td>\n",
       "    </tr>\n",
       "    <tr>\n",
       "      <th>8</th>\n",
       "      <td>2021-01-07</td>\n",
       "      <td>over 60</td>\n",
       "      <td>375</td>\n",
       "      <td>57</td>\n",
       "      <td>1950</td>\n",
       "    </tr>\n",
       "    <tr>\n",
       "      <th>9</th>\n",
       "      <td>2021-01-08</td>\n",
       "      <td>over 60</td>\n",
       "      <td>382</td>\n",
       "      <td>58</td>\n",
       "      <td>2950</td>\n",
       "    </tr>\n",
       "    <tr>\n",
       "      <th>13</th>\n",
       "      <td>2021-01-09</td>\n",
       "      <td>over 60</td>\n",
       "      <td>373</td>\n",
       "      <td>56</td>\n",
       "      <td>4218</td>\n",
       "    </tr>\n",
       "  </tbody>\n",
       "</table>\n",
       "</div>"
      ],
      "text/plain": [
       "          Date AgeGroup  DailyPositive_adj  DailyDeaths_adj  \\\n",
       "0   2021-01-05  over 60                424               55   \n",
       "4   2021-01-06  over 60                407               57   \n",
       "8   2021-01-07  over 60                375               57   \n",
       "9   2021-01-08  over 60                382               58   \n",
       "13  2021-01-09  over 60                373               56   \n",
       "\n",
       "    NumberVaccinated_adj  \n",
       "0                    463  \n",
       "4                   1127  \n",
       "8                   1950  \n",
       "9                   2950  \n",
       "13                  4218  "
      ]
     },
     "execution_count": 153,
     "metadata": {},
     "output_type": "execute_result"
    }
   ],
   "source": [
    "df_age_over60 = df_age[df_age.AgeGroup=='over 60']\n",
    "df_age_over60.head()"
   ]
  },
  {
   "cell_type": "code",
   "execution_count": 154,
   "id": "2cde5cd1",
   "metadata": {},
   "outputs": [
    {
     "data": {
      "text/html": [
       "<div>\n",
       "<style scoped>\n",
       "    .dataframe tbody tr th:only-of-type {\n",
       "        vertical-align: middle;\n",
       "    }\n",
       "\n",
       "    .dataframe tbody tr th {\n",
       "        vertical-align: top;\n",
       "    }\n",
       "\n",
       "    .dataframe thead th {\n",
       "        text-align: right;\n",
       "    }\n",
       "</style>\n",
       "<table border=\"1\" class=\"dataframe\">\n",
       "  <thead>\n",
       "    <tr style=\"text-align: right;\">\n",
       "      <th></th>\n",
       "      <th>Date</th>\n",
       "      <th>AgeGroup</th>\n",
       "      <th>DailyPositive_adj</th>\n",
       "      <th>DailyDeaths_adj</th>\n",
       "      <th>NumberVaccinated_adj</th>\n",
       "    </tr>\n",
       "  </thead>\n",
       "  <tbody>\n",
       "    <tr>\n",
       "      <th>1</th>\n",
       "      <td>2021-01-05</td>\n",
       "      <td>over 75</td>\n",
       "      <td>186</td>\n",
       "      <td>40</td>\n",
       "      <td>48</td>\n",
       "    </tr>\n",
       "    <tr>\n",
       "      <th>3</th>\n",
       "      <td>2021-01-06</td>\n",
       "      <td>over 75</td>\n",
       "      <td>183</td>\n",
       "      <td>43</td>\n",
       "      <td>186</td>\n",
       "    </tr>\n",
       "    <tr>\n",
       "      <th>6</th>\n",
       "      <td>2021-01-07</td>\n",
       "      <td>over 75</td>\n",
       "      <td>166</td>\n",
       "      <td>43</td>\n",
       "      <td>414</td>\n",
       "    </tr>\n",
       "    <tr>\n",
       "      <th>10</th>\n",
       "      <td>2021-01-08</td>\n",
       "      <td>over 75</td>\n",
       "      <td>167</td>\n",
       "      <td>44</td>\n",
       "      <td>762</td>\n",
       "    </tr>\n",
       "    <tr>\n",
       "      <th>12</th>\n",
       "      <td>2021-01-09</td>\n",
       "      <td>over 75</td>\n",
       "      <td>162</td>\n",
       "      <td>42</td>\n",
       "      <td>1296</td>\n",
       "    </tr>\n",
       "  </tbody>\n",
       "</table>\n",
       "</div>"
      ],
      "text/plain": [
       "          Date AgeGroup  DailyPositive_adj  DailyDeaths_adj  \\\n",
       "1   2021-01-05  over 75                186               40   \n",
       "3   2021-01-06  over 75                183               43   \n",
       "6   2021-01-07  over 75                166               43   \n",
       "10  2021-01-08  over 75                167               44   \n",
       "12  2021-01-09  over 75                162               42   \n",
       "\n",
       "    NumberVaccinated_adj  \n",
       "1                     48  \n",
       "3                    186  \n",
       "6                    414  \n",
       "10                   762  \n",
       "12                  1296  "
      ]
     },
     "execution_count": 154,
     "metadata": {},
     "output_type": "execute_result"
    }
   ],
   "source": [
    "df_age_over75 = df_age[df_age.AgeGroup=='over 75']\n",
    "df_age_over75.head()"
   ]
  },
  {
   "cell_type": "code",
   "execution_count": null,
   "id": "786e4ed3",
   "metadata": {},
   "outputs": [],
   "source": [
    "# Kendalls"
   ]
  },
  {
   "cell_type": "code",
   "execution_count": 155,
   "id": "debef51d",
   "metadata": {},
   "outputs": [
    {
     "data": {
      "text/plain": [
       "-0.2447577301791708"
      ]
     },
     "execution_count": 155,
     "metadata": {},
     "output_type": "execute_result"
    }
   ],
   "source": [
    "#cases\n",
    "tau_under60, p_value_under60 = stats.kendalltau(df_age_under60.DailyPositive_adj,df_age_under60.NumberVaccinated_adj)\n",
    "tau_under60"
   ]
  },
  {
   "cell_type": "code",
   "execution_count": 156,
   "id": "c65167f5",
   "metadata": {},
   "outputs": [
    {
     "data": {
      "text/plain": [
       "1.3320245731773073e-06"
      ]
     },
     "execution_count": 156,
     "metadata": {},
     "output_type": "execute_result"
    }
   ],
   "source": [
    "p_value_under60"
   ]
  },
  {
   "cell_type": "code",
   "execution_count": 157,
   "id": "808ca416",
   "metadata": {},
   "outputs": [
    {
     "data": {
      "text/plain": [
       "-0.6959276245373999"
      ]
     },
     "execution_count": 157,
     "metadata": {},
     "output_type": "execute_result"
    }
   ],
   "source": [
    "#cases\n",
    "tau_over60, p_value_over60 = stats.kendalltau(df_age_over60.DailyPositive_adj,df_age_over60.NumberVaccinated_adj)\n",
    "tau_over60"
   ]
  },
  {
   "cell_type": "code",
   "execution_count": 158,
   "id": "081cff6b",
   "metadata": {},
   "outputs": [
    {
     "data": {
      "text/plain": [
       "1.2413726646613246e-42"
      ]
     },
     "execution_count": 158,
     "metadata": {},
     "output_type": "execute_result"
    }
   ],
   "source": [
    "p_value_over60"
   ]
  },
  {
   "cell_type": "code",
   "execution_count": 174,
   "id": "18d66a27",
   "metadata": {},
   "outputs": [
    {
     "data": {
      "text/plain": [
       "-0.6976774272969806"
      ]
     },
     "execution_count": 174,
     "metadata": {},
     "output_type": "execute_result"
    }
   ],
   "source": [
    "#cases\n",
    "tau_over75, p_value_over75 = stats.kendalltau(df_age_over75.DailyPositive_adj,df_age_over75.NumberVaccinated_adj)\n",
    "tau_over75"
   ]
  },
  {
   "cell_type": "code",
   "execution_count": 160,
   "id": "e46d0145",
   "metadata": {},
   "outputs": [
    {
     "data": {
      "text/plain": [
       "7.731219133363268e-42"
      ]
     },
     "execution_count": 160,
     "metadata": {},
     "output_type": "execute_result"
    }
   ],
   "source": [
    "p_value_over75"
   ]
  },
  {
   "cell_type": "code",
   "execution_count": 175,
   "id": "003765de",
   "metadata": {},
   "outputs": [
    {
     "data": {
      "text/plain": [
       "-0.6567009953360842"
      ]
     },
     "execution_count": 175,
     "metadata": {},
     "output_type": "execute_result"
    }
   ],
   "source": [
    "#deaths\n",
    "tau_under60, p_value_under60 = stats.kendalltau(df_age_under60.DailyDeaths_adj,df_age_under60.NumberVaccinated_adj)\n",
    "tau_under60"
   ]
  },
  {
   "cell_type": "code",
   "execution_count": 163,
   "id": "101369e7",
   "metadata": {},
   "outputs": [
    {
     "data": {
      "text/plain": [
       "9.286857554082677e-31"
      ]
     },
     "execution_count": 163,
     "metadata": {},
     "output_type": "execute_result"
    }
   ],
   "source": [
    "p_value_under60"
   ]
  },
  {
   "cell_type": "code",
   "execution_count": 176,
   "id": "01228f79",
   "metadata": {},
   "outputs": [
    {
     "data": {
      "text/plain": [
       "-0.779960308750023"
      ]
     },
     "execution_count": 176,
     "metadata": {},
     "output_type": "execute_result"
    }
   ],
   "source": [
    "#deaths\n",
    "tau_over60, p_value_over60 = stats.kendalltau(df_age_over60.DailyDeaths_adj,df_age_over60.NumberVaccinated_adj)\n",
    "tau_over60"
   ]
  },
  {
   "cell_type": "code",
   "execution_count": 92,
   "id": "6e8558ff",
   "metadata": {},
   "outputs": [
    {
     "data": {
      "text/plain": [
       "2.3083792169874463e-49"
      ]
     },
     "execution_count": 92,
     "metadata": {},
     "output_type": "execute_result"
    }
   ],
   "source": [
    "p_value_over60"
   ]
  },
  {
   "cell_type": "code",
   "execution_count": 177,
   "id": "e3f6af53",
   "metadata": {},
   "outputs": [
    {
     "data": {
      "text/plain": [
       "-0.7132124236353833"
      ]
     },
     "execution_count": 177,
     "metadata": {},
     "output_type": "execute_result"
    }
   ],
   "source": [
    "#deaths\n",
    "tau_over75, p_value_over75 = stats.kendalltau(df_age_over75.DailyDeaths_adj,df_age_over75.NumberVaccinated_adj)\n",
    "tau_over75"
   ]
  },
  {
   "cell_type": "code",
   "execution_count": 165,
   "id": "be78eac6",
   "metadata": {},
   "outputs": [
    {
     "data": {
      "text/plain": [
       "1.4419546539098837e-40"
      ]
     },
     "execution_count": 165,
     "metadata": {},
     "output_type": "execute_result"
    }
   ],
   "source": [
    "p_value_over75"
   ]
  },
  {
   "cell_type": "code",
   "execution_count": null,
   "id": "a60fd67e",
   "metadata": {},
   "outputs": [],
   "source": [
    "## Pearsons"
   ]
  },
  {
   "cell_type": "code",
   "execution_count": 178,
   "id": "215d2fd9",
   "metadata": {},
   "outputs": [
    {
     "data": {
      "text/plain": [
       "0.022977938485047263"
      ]
     },
     "execution_count": 178,
     "metadata": {},
     "output_type": "execute_result"
    }
   ],
   "source": [
    "#cases\n",
    "p_under60, p_value_under60 = stats.pearsonr(df_age_under60.NumberVaccinated_adj,df_age_under60.DailyPositive_adj)\n",
    "p_under60"
   ]
  },
  {
   "cell_type": "code",
   "execution_count": 179,
   "id": "9ac16d2f",
   "metadata": {},
   "outputs": [
    {
     "data": {
      "text/plain": [
       "0.7614511511623314"
      ]
     },
     "execution_count": 179,
     "metadata": {},
     "output_type": "execute_result"
    }
   ],
   "source": [
    "p_value_under60"
   ]
  },
  {
   "cell_type": "code",
   "execution_count": 180,
   "id": "e6152806",
   "metadata": {},
   "outputs": [
    {
     "data": {
      "text/plain": [
       "-0.7750092307280251"
      ]
     },
     "execution_count": 180,
     "metadata": {},
     "output_type": "execute_result"
    }
   ],
   "source": [
    "#cases\n",
    "p_over60, p_value_over60 = stats.pearsonr(df_age_over60.DailyPositive_adj,df_age_over60.NumberVaccinated_adj)\n",
    "p_over60"
   ]
  },
  {
   "cell_type": "code",
   "execution_count": 98,
   "id": "bf83feab",
   "metadata": {},
   "outputs": [
    {
     "data": {
      "text/plain": [
       "1.019385686033185e-36"
      ]
     },
     "execution_count": 98,
     "metadata": {},
     "output_type": "execute_result"
    }
   ],
   "source": [
    "p_value_over60"
   ]
  },
  {
   "cell_type": "code",
   "execution_count": 181,
   "id": "17e1a70f",
   "metadata": {},
   "outputs": [
    {
     "data": {
      "text/plain": [
       "-0.8793421313671593"
      ]
     },
     "execution_count": 181,
     "metadata": {},
     "output_type": "execute_result"
    }
   ],
   "source": [
    "#cases\n",
    "p_over75, p_value_over75 = stats.pearsonr(df_age_over75.DailyPositive_adj,df_age_over75.NumberVaccinated_adj)\n",
    "p_over75"
   ]
  },
  {
   "cell_type": "code",
   "execution_count": 100,
   "id": "5fbacc14",
   "metadata": {},
   "outputs": [
    {
     "data": {
      "text/plain": [
       "2.796119173865255e-58"
      ]
     },
     "execution_count": 100,
     "metadata": {},
     "output_type": "execute_result"
    }
   ],
   "source": [
    "p_value_over75"
   ]
  },
  {
   "cell_type": "code",
   "execution_count": 182,
   "id": "3fe661fc",
   "metadata": {},
   "outputs": [
    {
     "data": {
      "text/plain": [
       "-0.7333996243535972"
      ]
     },
     "execution_count": 182,
     "metadata": {},
     "output_type": "execute_result"
    }
   ],
   "source": [
    "#deaths\n",
    "p_under60, p_value_under60 = stats.pearsonr(df_age_under60.DailyDeaths_adj,df_age_under60.NumberVaccinated_adj)\n",
    "p_under60"
   ]
  },
  {
   "cell_type": "code",
   "execution_count": 145,
   "id": "1d958418",
   "metadata": {},
   "outputs": [
    {
     "data": {
      "text/plain": [
       "3.791722619588849e-31"
      ]
     },
     "execution_count": 145,
     "metadata": {},
     "output_type": "execute_result"
    }
   ],
   "source": [
    "p_value_under60"
   ]
  },
  {
   "cell_type": "code",
   "execution_count": 183,
   "id": "f37bbbce",
   "metadata": {},
   "outputs": [
    {
     "data": {
      "text/plain": [
       "-0.8590392551961128"
      ]
     },
     "execution_count": 183,
     "metadata": {},
     "output_type": "execute_result"
    }
   ],
   "source": [
    "#deaths\n",
    "p_over60, p_value_over60 = stats.pearsonr(df_age_over60.DailyDeaths_adj,df_age_over60.NumberVaccinated_adj)\n",
    "p_over60"
   ]
  },
  {
   "cell_type": "code",
   "execution_count": 104,
   "id": "72619767",
   "metadata": {},
   "outputs": [
    {
     "data": {
      "text/plain": [
       "8.989945957328409e-53"
      ]
     },
     "execution_count": 104,
     "metadata": {},
     "output_type": "execute_result"
    }
   ],
   "source": [
    "p_value_over60"
   ]
  },
  {
   "cell_type": "code",
   "execution_count": 184,
   "id": "a8c805db",
   "metadata": {},
   "outputs": [
    {
     "data": {
      "text/plain": [
       "-0.9212141343245976"
      ]
     },
     "execution_count": 184,
     "metadata": {},
     "output_type": "execute_result"
    }
   ],
   "source": [
    "#deaths\n",
    "p_over75, p_value_over75 = stats.pearsonr(df_age_over75.DailyDeaths_adj,df_age_over75.NumberVaccinated_adj)\n",
    "p_over75"
   ]
  },
  {
   "cell_type": "code",
   "execution_count": 173,
   "id": "c9961604",
   "metadata": {},
   "outputs": [
    {
     "data": {
      "text/plain": [
       "1.167107481296553e-73"
      ]
     },
     "execution_count": 173,
     "metadata": {},
     "output_type": "execute_result"
    }
   ],
   "source": [
    "p_value_over75"
   ]
  },
  {
   "cell_type": "code",
   "execution_count": null,
   "id": "44a74e0b",
   "metadata": {},
   "outputs": [],
   "source": []
  }
 ],
 "metadata": {
  "kernelspec": {
   "display_name": "Python 3",
   "language": "python",
   "name": "python3"
  },
  "language_info": {
   "codemirror_mode": {
    "name": "ipython",
    "version": 3
   },
   "file_extension": ".py",
   "mimetype": "text/x-python",
   "name": "python",
   "nbconvert_exporter": "python",
   "pygments_lexer": "ipython3",
   "version": "3.6.13"
  }
 },
 "nbformat": 4,
 "nbformat_minor": 5
}
